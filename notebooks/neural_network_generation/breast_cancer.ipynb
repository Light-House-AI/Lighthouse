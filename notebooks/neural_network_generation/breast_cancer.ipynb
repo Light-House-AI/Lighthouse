{
 "cells": [
  {
   "cell_type": "code",
   "execution_count": 3,
   "metadata": {},
   "outputs": [],
   "source": [
    "import numpy as np\n",
    "from sklearn.preprocessing import StandardScaler\n",
    "from ...server.automl.neural_network.neural_network import NeuralNetwork\n",
    "from ...server.automl.neural_network.fc_layer import FCLayer\n",
    "from ...server.automl.neural_network.activation_layer import ActivationLayer\n",
    "from ...server.automl.neural_network.activation_functions import tanh, tanh_derivative, relu, relu_derivative, sigmoid, sigmoid_derivative\n",
    "from ...server.automl.neural_network.loss_functions import mse, mse_derivative, cross_entropy_binary, cross_entropy_binary_derivative, cross_entropy_multi_class, cross_entropy_multi_class_derivative\n",
    "from sklearn.metrics import accuracy_score\n",
    "from sklearn.model_selection import train_test_split\n",
    "from sklearn.neural_network import MLPClassifier\n",
    "from sklearn.datasets import load_breast_cancer\n",
    "from keras.utils import np_utils"
   ]
  },
  {
   "cell_type": "code",
   "execution_count": 4,
   "metadata": {},
   "outputs": [
    {
     "name": "stdout",
     "output_type": "stream",
     "text": [
      "(569, 30) (569,)\n",
      "(455, 30) (114, 30) (455, 2) (114, 2)\n"
     ]
    }
   ],
   "source": [
    "#Lodaing data\n",
    "X, Y = load_breast_cancer(return_X_y=True)\n",
    "print(X.shape, Y.shape)\n",
    "X_train, X_test, y_train, y_test = train_test_split(X,Y, test_size=0.2)\n",
    "#Normalizing data\n",
    "scaler = StandardScaler()\n",
    "scaler.fit(X_train)\n",
    "X_train = scaler.transform(X_train)\n",
    "X_test = scaler.transform(X_test)\n",
    "#Reshaping for the neural network\n",
    "#X_train = X_train.reshape(X_train.shape[0], 1, X_train.shape[1])\n",
    "#X_test = X_test.reshape(X_test.shape[0], 1, X_test.shape[1])\n",
    "y_train = np_utils.to_categorical(y_train)\n",
    "y_test = np_utils.to_categorical(y_test)\n",
    "print(X_train.shape, X_test.shape, y_train.shape, y_test.shape)"
   ]
  },
  {
   "cell_type": "code",
   "execution_count": 3,
   "metadata": {},
   "outputs": [],
   "source": [
    "network = NeuralNetwork()\n",
    "network.add(FCLayer(X_train.shape[1], 5))\n",
    "network.add(ActivationLayer(tanh, tanh_derivative))\n",
    "network.add(FCLayer(5, 2))\n",
    "network.add(ActivationLayer(tanh, tanh_derivative))\n",
    "network.add(FCLayer(2, 1))\n",
    "network.add(ActivationLayer(sigmoid, sigmoid_derivative))\n",
    "network.use(mse, mse_derivative)\n",
    "network.fit(X_train, y_train, epochs=1000, learning_rate=0.1)\n",
    "y_pred = np.array(network.predict(X_test))"
   ]
  },
  {
   "cell_type": "code",
   "execution_count": 4,
   "metadata": {},
   "outputs": [
    {
     "name": "stdout",
     "output_type": "stream",
     "text": [
      "[1 1 1 1 1 0 0 1 1 0 1 1 1 1 1 0 1 1 1 0 0 0 1 1 1 1 0 1 1 0 1 1 1 1 1 1 0\n",
      " 1 1 0 1 1 0 1 0 0 1 1 0 1 1 1 1 0 0 0 0 1 1 0 1 1 1 0 1 1 1 0 0 1 0 0 1 1\n",
      " 0 1 0 1 1 0 0 0 1 0 1 1 1 1 0 0 1 1 1 1 1 1 1 1 1 0 0 1 0 1 1 1 1 0 1 1 0\n",
      " 1 1 1] (114,)\n",
      "[[9.97945362e-01]\n",
      " [9.97932148e-01]\n",
      " [9.87333690e-01]\n",
      " [9.97944966e-01]\n",
      " [9.97945530e-01]\n",
      " [8.58780787e-04]\n",
      " [8.58502713e-04]\n",
      " [9.97945451e-01]\n",
      " [1.58723114e-02]\n",
      " [8.58503551e-04]\n",
      " [9.97388178e-01]\n",
      " [9.97822900e-01]\n",
      " [9.97684873e-01]\n",
      " [9.96838596e-01]\n",
      " [9.97943370e-01]\n",
      " [8.87311864e-04]\n",
      " [9.97928779e-01]\n",
      " [9.97945646e-01]\n",
      " [9.96718083e-01]\n",
      " [8.58501834e-04]\n",
      " [8.59126287e-04]\n",
      " [8.72308063e-04]\n",
      " [9.97827553e-01]\n",
      " [9.97229799e-01]\n",
      " [9.97945736e-01]\n",
      " [9.97945569e-01]\n",
      " [8.58511101e-04]\n",
      " [9.97945687e-01]\n",
      " [9.97945588e-01]\n",
      " [8.70413250e-04]\n",
      " [9.97933149e-01]\n",
      " [9.88326243e-01]\n",
      " [9.97917124e-01]\n",
      " [9.97219176e-01]\n",
      " [9.97902885e-01]\n",
      " [9.89315167e-01]\n",
      " [8.58504250e-04]\n",
      " [9.97267183e-01]\n",
      " [9.97945734e-01]\n",
      " [8.58576964e-04]\n",
      " [9.97344864e-01]\n",
      " [9.97944953e-01]\n",
      " [8.58578228e-04]\n",
      " [9.97944079e-01]\n",
      " [9.13960184e-04]\n",
      " [8.58501836e-04]\n",
      " [9.81352759e-01]\n",
      " [9.97130868e-01]\n",
      " [8.87240289e-04]\n",
      " [9.97732104e-01]\n",
      " [9.97933976e-01]\n",
      " [9.97905649e-01]\n",
      " [9.97945743e-01]\n",
      " [9.86832354e-03]\n",
      " [1.04674026e-03]\n",
      " [8.59131065e-04]\n",
      " [8.58513901e-04]\n",
      " [9.97875561e-01]\n",
      " [9.95975057e-01]\n",
      " [8.58536851e-04]\n",
      " [9.97909089e-01]\n",
      " [9.97940817e-01]\n",
      " [9.96993216e-01]\n",
      " [9.97312656e-04]\n",
      " [9.97944271e-01]\n",
      " [9.97730755e-01]\n",
      " [9.97912799e-01]\n",
      " [8.58509166e-04]\n",
      " [8.58501834e-04]\n",
      " [9.97922229e-01]\n",
      " [1.55811548e-03]\n",
      " [8.66035511e-04]\n",
      " [9.97132778e-01]\n",
      " [9.97833283e-01]\n",
      " [8.66855483e-04]\n",
      " [9.97903721e-01]\n",
      " [8.58502946e-04]\n",
      " [9.94643826e-01]\n",
      " [9.97945520e-01]\n",
      " [8.60591244e-04]\n",
      " [2.45446796e-03]\n",
      " [8.58555239e-04]\n",
      " [9.97945584e-01]\n",
      " [8.58502246e-04]\n",
      " [9.97945378e-01]\n",
      " [9.97923895e-01]\n",
      " [9.97945407e-01]\n",
      " [9.97446004e-01]\n",
      " [8.60028875e-04]\n",
      " [8.63716494e-04]\n",
      " [9.97945744e-01]\n",
      " [9.97559078e-01]\n",
      " [9.97945289e-01]\n",
      " [9.85424132e-01]\n",
      " [9.97945741e-01]\n",
      " [9.97945375e-01]\n",
      " [9.97945219e-01]\n",
      " [9.97812977e-01]\n",
      " [9.97945065e-01]\n",
      " [1.45316046e-02]\n",
      " [8.67191038e-04]\n",
      " [9.97803851e-01]\n",
      " [8.63542144e-04]\n",
      " [9.96852350e-01]\n",
      " [9.97384714e-01]\n",
      " [9.97939946e-01]\n",
      " [6.15728023e-01]\n",
      " [8.58501856e-04]\n",
      " [9.97945682e-01]\n",
      " [9.97945366e-01]\n",
      " [8.69733504e-04]\n",
      " [9.97937470e-01]\n",
      " [9.97730542e-01]\n",
      " [9.97945349e-01]] (114, 1)\n",
      "0.9912280701754386\n"
     ]
    }
   ],
   "source": [
    "print(y_test, y_test.shape)\n",
    "print(y_pred, y_pred.shape)\n",
    "print(accuracy_score(y_test, y_pred.round()))"
   ]
  },
  {
   "cell_type": "code",
   "execution_count": 5,
   "metadata": {},
   "outputs": [
    {
     "name": "stdout",
     "output_type": "stream",
     "text": [
      "0.9824561403508771\n"
     ]
    }
   ],
   "source": [
    "clf = MLPClassifier(solver='lbfgs', alpha=0.1,\n",
    "                                            hidden_layer_sizes=(5,2),\n",
    "                                            max_iter=1000,activation='tanh')\n",
    "clf.fit(X_train, y_train)\n",
    "y_pred_sk = clf.predict(X_test)\n",
    "print(accuracy_score(y_test, y_pred_sk))"
   ]
  }
 ],
 "metadata": {
  "interpreter": {
   "hash": "7b9bf3d753fefe854781e52229fcc2b6d37fd5cec0eed166290fc2ac2cd3389d"
  },
  "kernelspec": {
   "display_name": "Python 3.8.8 ('base')",
   "language": "python",
   "name": "python3"
  },
  "language_info": {
   "codemirror_mode": {
    "name": "ipython",
    "version": 3
   },
   "file_extension": ".py",
   "mimetype": "text/x-python",
   "name": "python",
   "nbconvert_exporter": "python",
   "pygments_lexer": "ipython3",
   "version": "3.8.8"
  },
  "orig_nbformat": 4
 },
 "nbformat": 4,
 "nbformat_minor": 2
}
