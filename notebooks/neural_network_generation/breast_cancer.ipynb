{
 "cells": [
  {
   "cell_type": "code",
   "execution_count": 1,
   "metadata": {},
   "outputs": [],
   "source": [
    "import numpy as np\n",
    "from sklearn.preprocessing import StandardScaler\n",
    "from dependencies import NeuralNetwork, FCLayer, ActivationLayer, tanh, tanh_derivative, sigmoid, sigmoid_derivative, mse, mse_derivative, cross_entropy_binary, cross_entropy_binary_derivative\n",
    "from sklearn.metrics import accuracy_score\n",
    "from sklearn.model_selection import train_test_split\n",
    "from sklearn.neural_network import MLPClassifier\n",
    "from sklearn.datasets import load_breast_cancer"
   ]
  },
  {
   "cell_type": "code",
   "execution_count": 2,
   "metadata": {},
   "outputs": [
    {
     "name": "stdout",
     "output_type": "stream",
     "text": [
      "(569, 30) (569,)\n",
      "(455, 30) (114, 30) (455,) (114,)\n"
     ]
    }
   ],
   "source": [
    "#Lodaing data\n",
    "X, Y = load_breast_cancer(return_X_y=True)\n",
    "print(X.shape, Y.shape)\n",
    "X_train, X_test, y_train, y_test = train_test_split(X,Y, test_size=0.2)\n",
    "#Normalizing data\n",
    "scaler = StandardScaler()\n",
    "scaler.fit(X_train)\n",
    "X_train = scaler.transform(X_train)\n",
    "X_test = scaler.transform(X_test)\n",
    "#Reshaping for the neural network\n",
    "#X_train = X_train.reshape(X_train.shape[0], 1, X_train.shape[1])\n",
    "#X_test = X_test.reshape(X_test.shape[0], 1, X_test.shape[1])\n",
    "print(X_train.shape, X_test.shape, y_train.shape, y_test.shape)"
   ]
  },
  {
   "cell_type": "code",
   "execution_count": 3,
   "metadata": {},
   "outputs": [
    {
     "name": "stdout",
     "output_type": "stream",
     "text": [
      "epoch 1/1000   error=0.244458\n",
      "epoch 2/1000   error=0.223828\n",
      "epoch 3/1000   error=0.199700\n",
      "epoch 4/1000   error=0.159538\n",
      "epoch 5/1000   error=0.133594\n",
      "epoch 6/1000   error=0.114493\n",
      "epoch 7/1000   error=0.099844\n",
      "epoch 8/1000   error=0.086113\n",
      "epoch 9/1000   error=0.075349\n",
      "epoch 10/1000   error=0.064733\n",
      "epoch 11/1000   error=0.056997\n",
      "epoch 12/1000   error=0.048406\n",
      "epoch 13/1000   error=0.044779\n",
      "epoch 14/1000   error=0.040474\n",
      "epoch 15/1000   error=0.034801\n",
      "epoch 16/1000   error=0.034767\n",
      "epoch 17/1000   error=0.031104\n",
      "epoch 18/1000   error=0.029926\n",
      "epoch 19/1000   error=0.027628\n",
      "epoch 20/1000   error=0.028030\n",
      "epoch 21/1000   error=0.024061\n",
      "epoch 22/1000   error=0.024305\n",
      "epoch 23/1000   error=0.023750\n",
      "epoch 24/1000   error=0.022937\n",
      "epoch 25/1000   error=0.023234\n",
      "epoch 26/1000   error=0.022164\n",
      "epoch 27/1000   error=0.021860\n",
      "epoch 28/1000   error=0.020274\n",
      "epoch 29/1000   error=0.018966\n",
      "epoch 30/1000   error=0.018099\n",
      "epoch 31/1000   error=0.018521\n",
      "epoch 32/1000   error=0.017537\n"
     ]
    }
   ],
   "source": [
    "network = NeuralNetwork()\n",
    "network.add(FCLayer(X_train.shape[1], 5))\n",
    "network.add(ActivationLayer(tanh, tanh_derivative))\n",
    "network.add(FCLayer(5, 2))\n",
    "network.add(ActivationLayer(tanh, tanh_derivative))\n",
    "network.add(FCLayer(2, 1))\n",
    "network.add(ActivationLayer(sigmoid, sigmoid_derivative))\n",
    "network.use(mse, mse_derivative)\n",
    "network.fit(X_train, y_train, epochs=1000, learning_rate=0.1, batch_size=4)\n",
    "y_pred = np.array(network.predict(X_test))"
   ]
  },
  {
   "cell_type": "code",
   "execution_count": 4,
   "metadata": {},
   "outputs": [
    {
     "name": "stdout",
     "output_type": "stream",
     "text": [
      "[1 1 0 0 0 0 0 1 0 1 1 0 0 1 1 1 0 0 1 1 0 1 1 1 1 1 1 1 1 0 0 0 1 0 0 1 1\n",
      " 1 1 0 1 0 0 0 1 0 0 0 1 1 1 0 1 0 1 1 1 1 1 0 1 1 1 0 1 1 0 1 1 1 1 1 0 1\n",
      " 1 0 1 1 0 1 0 1 0 1 0 0 1 1 1 0 0 1 0 0 1 1 0 0 1 1 1 1 0 1 1 1 1 1 1 1 1\n",
      " 1 0 1] (114,)\n",
      "[[0.95049775]\n",
      " [0.94967026]\n",
      " [0.06276219]\n",
      " [0.06518808]\n",
      " [0.06432349]\n",
      " [0.08945625]\n",
      " [0.06290924]\n",
      " [0.94799265]\n",
      " [0.06283121]\n",
      " [0.94988652]\n",
      " [0.94226724]\n",
      " [0.06300939]\n",
      " [0.06277467]\n",
      " [0.94626083]\n",
      " [0.93566459]\n",
      " [0.94114538]\n",
      " [0.34346753]\n",
      " [0.06277711]\n",
      " [0.82739602]\n",
      " [0.94332505]\n",
      " [0.10182346]\n",
      " [0.93271191]\n",
      " [0.94867142]\n",
      " [0.95081977]\n",
      " [0.94546105]\n",
      " [0.94813495]\n",
      " [0.94593895]\n",
      " [0.95023787]\n",
      " [0.94631721]\n",
      " [0.07649831]\n",
      " [0.29176589]\n",
      " [0.06292401]\n",
      " [0.95069422]\n",
      " [0.9416319 ]\n",
      " [0.12009036]\n",
      " [0.94575093]\n",
      " [0.9483773 ]\n",
      " [0.94687667]\n",
      " [0.95030234]\n",
      " [0.0680576 ]\n",
      " [0.94909153]\n",
      " [0.09610614]\n",
      " [0.08479768]\n",
      " [0.74708492]\n",
      " [0.95042874]\n",
      " [0.0627615 ]\n",
      " [0.06713901]\n",
      " [0.10849147]\n",
      " [0.94669562]\n",
      " [0.94939548]\n",
      " [0.94939672]\n",
      " [0.06311082]\n",
      " [0.9281372 ]\n",
      " [0.06361699]\n",
      " [0.94372924]\n",
      " [0.89615415]\n",
      " [0.948489  ]\n",
      " [0.95036638]\n",
      " [0.89191734]\n",
      " [0.19414684]\n",
      " [0.94885638]\n",
      " [0.90920859]\n",
      " [0.94403435]\n",
      " [0.06279448]\n",
      " [0.57536478]\n",
      " [0.93978216]\n",
      " [0.07914125]\n",
      " [0.9500334 ]\n",
      " [0.9494655 ]\n",
      " [0.9496146 ]\n",
      " [0.94965854]\n",
      " [0.94930969]\n",
      " [0.07418936]\n",
      " [0.95096349]\n",
      " [0.94611556]\n",
      " [0.0634268 ]\n",
      " [0.95035764]\n",
      " [0.94455773]\n",
      " [0.07390571]\n",
      " [0.94735761]\n",
      " [0.06276275]\n",
      " [0.94620164]\n",
      " [0.06292636]\n",
      " [0.93104756]\n",
      " [0.06842882]\n",
      " [0.27769228]\n",
      " [0.94840598]\n",
      " [0.94413459]\n",
      " [0.95093267]\n",
      " [0.07817379]\n",
      " [0.0988267 ]\n",
      " [0.94823363]\n",
      " [0.15941632]\n",
      " [0.06744382]\n",
      " [0.95055866]\n",
      " [0.94926672]\n",
      " [0.06309228]\n",
      " [0.07193091]\n",
      " [0.95104502]\n",
      " [0.95061577]\n",
      " [0.94337144]\n",
      " [0.93213698]\n",
      " [0.06358162]\n",
      " [0.91075752]\n",
      " [0.94902585]\n",
      " [0.95084722]\n",
      " [0.95017708]\n",
      " [0.93483784]\n",
      " [0.73114547]\n",
      " [0.94107159]\n",
      " [0.95059985]\n",
      " [0.79581059]\n",
      " [0.06385379]\n",
      " [0.95009142]] (114, 1)\n",
      "0.9824561403508771\n"
     ]
    }
   ],
   "source": [
    "print(y_test, y_test.shape)\n",
    "print(y_pred, y_pred.shape)\n",
    "print(accuracy_score(y_test, y_pred.round()))"
   ]
  },
  {
   "cell_type": "code",
   "execution_count": 5,
   "metadata": {},
   "outputs": [
    {
     "name": "stdout",
     "output_type": "stream",
     "text": [
      "0.9736842105263158\n"
     ]
    }
   ],
   "source": [
    "clf = MLPClassifier(solver='lbfgs', alpha=0.01,\n",
    "                                            hidden_layer_sizes=(5,2),\n",
    "                                            max_iter=1000,activation='tanh')\n",
    "clf.fit(X_train, y_train)\n",
    "y_pred_sk = clf.predict(X_test)\n",
    "print(accuracy_score(y_test, y_pred_sk))"
   ]
  }
 ],
 "metadata": {
  "interpreter": {
   "hash": "7b9bf3d753fefe854781e52229fcc2b6d37fd5cec0eed166290fc2ac2cd3389d"
  },
  "kernelspec": {
   "display_name": "Python 3.8.8 ('base')",
   "language": "python",
   "name": "python3"
  },
  "language_info": {
   "codemirror_mode": {
    "name": "ipython",
    "version": 3
   },
   "file_extension": ".py",
   "mimetype": "text/x-python",
   "name": "python",
   "nbconvert_exporter": "python",
   "pygments_lexer": "ipython3",
   "version": "3.8.8"
  },
  "orig_nbformat": 4
 },
 "nbformat": 4,
 "nbformat_minor": 2
}
