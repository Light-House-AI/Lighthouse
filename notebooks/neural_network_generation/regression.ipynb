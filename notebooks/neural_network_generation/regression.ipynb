{
 "cells": [
  {
   "cell_type": "code",
   "execution_count": 3,
   "metadata": {},
   "outputs": [],
   "source": [
    "import numpy as np\n",
    "import matplotlib.pyplot as plt\n",
    "import sklearn\n",
    "from random import randint\n",
    "import ray\n",
    "from ray import tune\n",
    "from ray.tune.schedulers import AsyncHyperBandScheduler\n",
    "from ray.tune.suggest import ConcurrencyLimiter\n",
    "from ray.tune.suggest.bayesopt import BayesOptSearch\n",
    "from sklearn import *"
   ]
  },
  {
   "cell_type": "markdown",
   "metadata": {},
   "source": [
    "Datasets:\n",
    "https://scikit-learn.org/stable/datasets/toy_dataset.html\n",
    "### Diabetes Dataset"
   ]
  },
  {
   "cell_type": "code",
   "execution_count": 4,
   "metadata": {},
   "outputs": [
    {
     "name": "stdout",
     "output_type": "stream",
     "text": [
      "(442, 10) (442,)\n",
      "(353, 10) (89, 10) (353,) (89,)\n"
     ]
    }
   ],
   "source": [
    "X, Y = datasets.load_diabetes(return_X_y=True)\n",
    "print(X.shape, Y.shape)\n",
    "X_train, X_test, y_train, y_test = sklearn.model_selection.train_test_split(X,Y, test_size=0.2)\n",
    "print(X_train.shape, X_test.shape, y_train.shape, y_test.shape)"
   ]
  },
  {
   "cell_type": "code",
   "execution_count": 13,
   "metadata": {},
   "outputs": [],
   "source": [
    "def my_func(config, reporter):  # add the reporter parameter\n",
    "      # report the configuration\n",
    "    clf = sklearn.neural_network.MLPRegressor(solver='lbfgs', alpha=config[\"alpha\"],\n",
    "                                            hidden_layer_sizes=(5,2),\n",
    "                                            max_iter=90000,activation='relu',random_state=1)\n",
    "    clf.fit(X_train, y_train)\n",
    "    y_pred = clf.predict(X_test)\n",
    "    reporter(config, mean_loss = sklearn.metrics.mean_squared_error(y_test, y_pred))"
   ]
  },
  {
   "cell_type": "code",
   "execution_count": null,
   "metadata": {},
   "outputs": [],
   "source": [
    "tune.register_trainable(\"my_func\", my_func)\n",
    "ray.shutdown()\n",
    "ray.init()\n",
    "\n",
    "res = tune.run_experiments({\n",
    "    \"my_experiment\": {\n",
    "        \"run\": \"my_func\",\n",
    "        \"stop\": { \"mean_accuracy\": 4000 },\n",
    "        \"config\": {\n",
    "            \"alpha\": tune.grid_search([0.1, 0.2]),\n",
    "            \"hidden_layer_sizes\": tune.grid_search([(5,2), (10,2)]),\n",
    "        }\n",
    "    }\n",
    "})"
   ]
  },
  {
   "cell_type": "code",
   "execution_count": 14,
   "metadata": {},
   "outputs": [
    {
     "name": "stderr",
     "output_type": "stream",
     "text": [
      "2022-04-07 01:19:39,639\tWARNING bayesopt.py:397 -- BayesOpt does not support specific sampling methods. The Uniform sampler will be dropped.\n"
     ]
    },
    {
     "data": {
      "text/html": [
       "== Status ==<br>Memory usage on this node: 5.7/7.9 GiB<br>Using AsyncHyperBand: num_stopped=0\n",
       "Bracket: Iter 64.000: None | Iter 16.000: None | Iter 4.000: None | Iter 1.000: None<br>Resources requested: 1.0/8 CPUs, 0/0 GPUs, 0.0/1.49 GiB heap, 0.0/0.74 GiB objects<br>Result logdir: C:\\Users\\Mohamed Ghallab\\ray_results\\my_exp<br>Number of trials: 1/10 (1 RUNNING)<br><table>\n",
       "<thead>\n",
       "<tr><th>Trial name      </th><th>status  </th><th>loc  </th><th style=\"text-align: right;\">  alpha</th></tr>\n",
       "</thead>\n",
       "<tbody>\n",
       "<tr><td>my_func_0841d2b6</td><td>RUNNING </td><td>     </td><td style=\"text-align: right;\">3.74546</td></tr>\n",
       "</tbody>\n",
       "</table><br><br>"
      ],
      "text/plain": [
       "<IPython.core.display.HTML object>"
      ]
     },
     "metadata": {},
     "output_type": "display_data"
    },
    {
     "name": "stdout",
     "output_type": "stream",
     "text": [
      "Result for my_func_08593dba:\n",
      "  _metric:\n",
      "    alpha: 9.507147992668521\n",
      "    steps: 100\n",
      "  date: 2022-04-07_01-19-44\n",
      "  done: false\n",
      "  experiment_id: b7de1dfffefc43619770959d150e5e69\n",
      "  hostname: Ghallab\n",
      "  iterations_since_restore: 1\n",
      "  mean_loss: 3022.6462792488355\n",
      "  neg_mean_loss: -3022.6462792488355\n",
      "  node_ip: 192.168.1.106\n",
      "  pid: 1920\n",
      "  time_since_restore: 0.08479690551757812\n",
      "  time_this_iter_s: 0.08479690551757812\n",
      "  time_total_s: 0.08479690551757812\n",
      "  timestamp: 1649287184\n",
      "  timesteps_since_restore: 0\n",
      "  training_iteration: 1\n",
      "  trial_id: 08593dba\n",
      "  \n",
      "Result for my_func_08593dba:\n",
      "  _metric:\n",
      "    alpha: 9.507147992668521\n",
      "    steps: 100\n",
      "  date: 2022-04-07_01-19-44\n",
      "  done: true\n",
      "  experiment_id: b7de1dfffefc43619770959d150e5e69\n",
      "  experiment_tag: 2_alpha=9.5071,steps=100\n",
      "  hostname: Ghallab\n",
      "  iterations_since_restore: 1\n",
      "  mean_loss: 3022.6462792488355\n",
      "  neg_mean_loss: -3022.6462792488355\n",
      "  node_ip: 192.168.1.106\n",
      "  pid: 1920\n",
      "  time_since_restore: 0.08479690551757812\n",
      "  time_this_iter_s: 0.08479690551757812\n",
      "  time_total_s: 0.08479690551757812\n",
      "  timestamp: 1649287184\n",
      "  timesteps_since_restore: 0\n",
      "  training_iteration: 1\n",
      "  trial_id: 08593dba\n",
      "  \n",
      "Result for my_func_0841d2b6:\n",
      "  _metric:\n",
      "    alpha: 3.7454637344617403\n",
      "    steps: 100\n",
      "  date: 2022-04-07_01-19-44\n",
      "  done: false\n",
      "  experiment_id: cac9b2ebff3a4b08bbfc266ee7154de3\n",
      "  hostname: Ghallab\n",
      "  iterations_since_restore: 1\n",
      "  mean_loss: 3018.185040616672\n",
      "  neg_mean_loss: -3018.185040616672\n",
      "  node_ip: 192.168.1.106\n",
      "  pid: 1696\n",
      "  time_since_restore: 0.21326494216918945\n",
      "  time_this_iter_s: 0.21326494216918945\n",
      "  time_total_s: 0.21326494216918945\n",
      "  timestamp: 1649287184\n",
      "  timesteps_since_restore: 0\n",
      "  training_iteration: 1\n",
      "  trial_id: 0841d2b6\n",
      "  \n",
      "Result for my_func_0841d2b6:\n",
      "  _metric:\n",
      "    alpha: 3.7454637344617403\n",
      "    steps: 100\n",
      "  date: 2022-04-07_01-19-44\n",
      "  done: true\n",
      "  experiment_id: cac9b2ebff3a4b08bbfc266ee7154de3\n",
      "  experiment_tag: 1_alpha=3.7455,steps=100\n",
      "  hostname: Ghallab\n",
      "  iterations_since_restore: 1\n",
      "  mean_loss: 3018.185040616672\n",
      "  neg_mean_loss: -3018.185040616672\n",
      "  node_ip: 192.168.1.106\n",
      "  pid: 1696\n",
      "  time_since_restore: 0.21326494216918945\n",
      "  time_this_iter_s: 0.21326494216918945\n",
      "  time_total_s: 0.21326494216918945\n",
      "  timestamp: 1649287184\n",
      "  timesteps_since_restore: 0\n",
      "  training_iteration: 1\n",
      "  trial_id: 0841d2b6\n",
      "  \n"
     ]
    },
    {
     "name": "stderr",
     "output_type": "stream",
     "text": [
      "\u001b[2m\u001b[36m(pid=1920)\u001b[0m Windows fatal exception: access violation\n",
      "\u001b[2m\u001b[36m(pid=1920)\u001b[0m \n",
      "\u001b[2m\u001b[36m(pid=1696)\u001b[0m Windows fatal exception: access violation\n",
      "\u001b[2m\u001b[36m(pid=1696)\u001b[0m \n"
     ]
    },
    {
     "data": {
      "text/html": [
       "== Status ==<br>Memory usage on this node: 5.8/7.9 GiB<br>Using AsyncHyperBand: num_stopped=0\n",
       "Bracket: Iter 64.000: None | Iter 16.000: None | Iter 4.000: None | Iter 1.000: -3019.300350274713<br>Resources requested: 2.0/8 CPUs, 0/0 GPUs, 0.0/1.49 GiB heap, 0.0/0.74 GiB objects<br>Current best trial: 0841d2b6 with mean_loss=3018.185040616672 and parameters={'steps': 100, 'alpha': 3.7454637344617403}<br>Result logdir: C:\\Users\\Mohamed Ghallab\\ray_results\\my_exp<br>Number of trials: 5/10 (1 PENDING, 2 RUNNING, 2 TERMINATED)<br><table>\n",
       "<thead>\n",
       "<tr><th>Trial name      </th><th>status    </th><th>loc  </th><th style=\"text-align: right;\">  alpha</th><th style=\"text-align: right;\">   loss</th><th style=\"text-align: right;\">  iter</th><th style=\"text-align: right;\">  total time (s)</th><th style=\"text-align: right;\">  neg_mean_loss</th></tr>\n",
       "</thead>\n",
       "<tbody>\n",
       "<tr><td>my_func_086d7b32</td><td>RUNNING   </td><td>     </td><td style=\"text-align: right;\">7.31997</td><td style=\"text-align: right;\">       </td><td style=\"text-align: right;\">      </td><td style=\"text-align: right;\">                </td><td style=\"text-align: right;\">               </td></tr>\n",
       "<tr><td>my_func_0af7fb2c</td><td>RUNNING   </td><td>     </td><td style=\"text-align: right;\">5.98662</td><td style=\"text-align: right;\">       </td><td style=\"text-align: right;\">      </td><td style=\"text-align: right;\">                </td><td style=\"text-align: right;\">               </td></tr>\n",
       "<tr><td>my_func_0afd4ebb</td><td>PENDING   </td><td>     </td><td style=\"text-align: right;\">1.56027</td><td style=\"text-align: right;\">       </td><td style=\"text-align: right;\">      </td><td style=\"text-align: right;\">                </td><td style=\"text-align: right;\">               </td></tr>\n",
       "<tr><td>my_func_0841d2b6</td><td>TERMINATED</td><td>     </td><td style=\"text-align: right;\">3.74546</td><td style=\"text-align: right;\">3018.19</td><td style=\"text-align: right;\">     1</td><td style=\"text-align: right;\">       0.213265 </td><td style=\"text-align: right;\">       -3018.19</td></tr>\n",
       "<tr><td>my_func_08593dba</td><td>TERMINATED</td><td>     </td><td style=\"text-align: right;\">9.50715</td><td style=\"text-align: right;\">3022.65</td><td style=\"text-align: right;\">     1</td><td style=\"text-align: right;\">       0.0847969</td><td style=\"text-align: right;\">       -3022.65</td></tr>\n",
       "</tbody>\n",
       "</table><br><br>"
      ],
      "text/plain": [
       "<IPython.core.display.HTML object>"
      ]
     },
     "metadata": {},
     "output_type": "display_data"
    },
    {
     "name": "stdout",
     "output_type": "stream",
     "text": [
      "Result for my_func_086d7b32:\n",
      "  _metric:\n",
      "    alpha: 7.31996621871987\n",
      "    steps: 100\n",
      "  date: 2022-04-07_01-19-53\n",
      "  done: true\n",
      "  experiment_id: be3228b8d0224a7c8708b40261c67eaf\n",
      "  hostname: Ghallab\n",
      "  iterations_since_restore: 1\n",
      "  mean_loss: 3020.8671497535247\n",
      "  neg_mean_loss: -3020.8671497535247\n",
      "  node_ip: 192.168.1.106\n",
      "  pid: 9228\n",
      "  time_since_restore: 0.7485146522521973\n",
      "  time_this_iter_s: 0.7485146522521973\n",
      "  time_total_s: 0.7485146522521973\n",
      "  timestamp: 1649287193\n",
      "  timesteps_since_restore: 0\n",
      "  training_iteration: 1\n",
      "  trial_id: 086d7b32\n",
      "  \n"
     ]
    },
    {
     "data": {
      "text/html": [
       "== Status ==<br>Memory usage on this node: 6.0/7.9 GiB<br>Using AsyncHyperBand: num_stopped=1\n",
       "Bracket: Iter 64.000: None | Iter 16.000: None | Iter 4.000: None | Iter 1.000: -3019.5260951850983<br>Resources requested: 3.0/8 CPUs, 0/0 GPUs, 0.0/1.49 GiB heap, 0.0/0.74 GiB objects<br>Current best trial: 0841d2b6 with mean_loss=3018.185040616672 and parameters={'steps': 100, 'alpha': 3.7454637344617403}<br>Result logdir: C:\\Users\\Mohamed Ghallab\\ray_results\\my_exp<br>Number of trials: 6/10 (3 RUNNING, 3 TERMINATED)<br><table>\n",
       "<thead>\n",
       "<tr><th>Trial name      </th><th>status    </th><th>loc  </th><th style=\"text-align: right;\">  alpha</th><th style=\"text-align: right;\">   loss</th><th style=\"text-align: right;\">  iter</th><th style=\"text-align: right;\">  total time (s)</th><th style=\"text-align: right;\">  neg_mean_loss</th></tr>\n",
       "</thead>\n",
       "<tbody>\n",
       "<tr><td>my_func_0af7fb2c</td><td>RUNNING   </td><td>     </td><td style=\"text-align: right;\">5.98662</td><td style=\"text-align: right;\">       </td><td style=\"text-align: right;\">      </td><td style=\"text-align: right;\">                </td><td style=\"text-align: right;\">               </td></tr>\n",
       "<tr><td>my_func_0afd4ebb</td><td>RUNNING   </td><td>     </td><td style=\"text-align: right;\">1.56027</td><td style=\"text-align: right;\">       </td><td style=\"text-align: right;\">      </td><td style=\"text-align: right;\">                </td><td style=\"text-align: right;\">               </td></tr>\n",
       "<tr><td>my_func_0e0738b0</td><td>RUNNING   </td><td>     </td><td style=\"text-align: right;\">1.56003</td><td style=\"text-align: right;\">       </td><td style=\"text-align: right;\">      </td><td style=\"text-align: right;\">                </td><td style=\"text-align: right;\">               </td></tr>\n",
       "<tr><td>my_func_0841d2b6</td><td>TERMINATED</td><td>     </td><td style=\"text-align: right;\">3.74546</td><td style=\"text-align: right;\">3018.19</td><td style=\"text-align: right;\">     1</td><td style=\"text-align: right;\">       0.213265 </td><td style=\"text-align: right;\">       -3018.19</td></tr>\n",
       "<tr><td>my_func_08593dba</td><td>TERMINATED</td><td>     </td><td style=\"text-align: right;\">9.50715</td><td style=\"text-align: right;\">3022.65</td><td style=\"text-align: right;\">     1</td><td style=\"text-align: right;\">       0.0847969</td><td style=\"text-align: right;\">       -3022.65</td></tr>\n",
       "<tr><td>my_func_086d7b32</td><td>TERMINATED</td><td>     </td><td style=\"text-align: right;\">7.31997</td><td style=\"text-align: right;\">3020.87</td><td style=\"text-align: right;\">     1</td><td style=\"text-align: right;\">       0.748515 </td><td style=\"text-align: right;\">       -3020.87</td></tr>\n",
       "</tbody>\n",
       "</table><br><br>"
      ],
      "text/plain": [
       "<IPython.core.display.HTML object>"
      ]
     },
     "metadata": {},
     "output_type": "display_data"
    },
    {
     "name": "stderr",
     "output_type": "stream",
     "text": [
      "\u001b[2m\u001b[36m(pid=9228)\u001b[0m Windows fatal exception: access violation\n",
      "\u001b[2m\u001b[36m(pid=9228)\u001b[0m \n"
     ]
    },
    {
     "name": "stdout",
     "output_type": "stream",
     "text": [
      "Result for my_func_0af7fb2c:\n",
      "  _metric:\n",
      "    alpha: 5.986624976121946\n",
      "    steps: 100\n",
      "  date: 2022-04-07_01-19-54\n",
      "  done: true\n",
      "  experiment_id: 5fb0e1764db244d38a1825868290b7a7\n",
      "  hostname: Ghallab\n",
      "  iterations_since_restore: 1\n",
      "  mean_loss: 3020.098301777724\n",
      "  neg_mean_loss: -3020.098301777724\n",
      "  node_ip: 192.168.1.106\n",
      "  pid: 8752\n",
      "  time_since_restore: 0.5031695365905762\n",
      "  time_this_iter_s: 0.5031695365905762\n",
      "  time_total_s: 0.5031695365905762\n",
      "  timestamp: 1649287194\n",
      "  timesteps_since_restore: 0\n",
      "  training_iteration: 1\n",
      "  trial_id: 0af7fb2c\n",
      "  \n"
     ]
    },
    {
     "name": "stderr",
     "output_type": "stream",
     "text": [
      "\u001b[2m\u001b[36m(pid=8752)\u001b[0m Windows fatal exception: access violation\n",
      "\u001b[2m\u001b[36m(pid=8752)\u001b[0m \n"
     ]
    },
    {
     "name": "stdout",
     "output_type": "stream",
     "text": [
      "Result for my_func_0afd4ebb:\n",
      "  _metric:\n",
      "    alpha: 1.560270802560321\n",
      "    steps: 100\n",
      "  date: 2022-04-07_01-19-54\n",
      "  done: false\n",
      "  experiment_id: 7844ae5747904fdd8ca1e8897cd19394\n",
      "  hostname: Ghallab\n",
      "  iterations_since_restore: 1\n",
      "  mean_loss: 3016.682913089855\n",
      "  neg_mean_loss: -3016.682913089855\n",
      "  node_ip: 192.168.1.106\n",
      "  pid: 13328\n",
      "  time_since_restore: 0.6772499084472656\n",
      "  time_this_iter_s: 0.6772499084472656\n",
      "  time_total_s: 0.6772499084472656\n",
      "  timestamp: 1649287194\n",
      "  timesteps_since_restore: 0\n",
      "  training_iteration: 1\n",
      "  trial_id: 0afd4ebb\n",
      "  \n",
      "Result for my_func_0afd4ebb:\n",
      "  _metric:\n",
      "    alpha: 1.560270802560321\n",
      "    steps: 100\n",
      "  date: 2022-04-07_01-19-54\n",
      "  done: true\n",
      "  experiment_id: 7844ae5747904fdd8ca1e8897cd19394\n",
      "  experiment_tag: 5_alpha=1.5603,steps=100\n",
      "  hostname: Ghallab\n",
      "  iterations_since_restore: 1\n",
      "  mean_loss: 3016.682913089855\n",
      "  neg_mean_loss: -3016.682913089855\n",
      "  node_ip: 192.168.1.106\n",
      "  pid: 13328\n",
      "  time_since_restore: 0.6772499084472656\n",
      "  time_this_iter_s: 0.6772499084472656\n",
      "  time_total_s: 0.6772499084472656\n",
      "  timestamp: 1649287194\n",
      "  timesteps_since_restore: 0\n",
      "  training_iteration: 1\n",
      "  trial_id: 0afd4ebb\n",
      "  \n"
     ]
    },
    {
     "name": "stderr",
     "output_type": "stream",
     "text": [
      "\u001b[2m\u001b[36m(pid=13328)\u001b[0m Windows fatal exception: access violation\n",
      "\u001b[2m\u001b[36m(pid=13328)\u001b[0m \n"
     ]
    },
    {
     "name": "stdout",
     "output_type": "stream",
     "text": [
      "Result for my_func_0e0738b0:\n",
      "  _metric:\n",
      "    alpha: 1.5600296039099928\n",
      "    steps: 100\n",
      "  date: 2022-04-07_01-19-55\n",
      "  done: false\n",
      "  experiment_id: 1258216616c74e96a85abb22decd9ad6\n",
      "  hostname: Ghallab\n",
      "  iterations_since_restore: 1\n",
      "  mean_loss: 3016.7832089292306\n",
      "  neg_mean_loss: -3016.7832089292306\n",
      "  node_ip: 192.168.1.106\n",
      "  pid: 6876\n",
      "  time_since_restore: 0.47173500061035156\n",
      "  time_this_iter_s: 0.47173500061035156\n",
      "  time_total_s: 0.47173500061035156\n",
      "  timestamp: 1649287195\n",
      "  timesteps_since_restore: 0\n",
      "  training_iteration: 1\n",
      "  trial_id: 0e0738b0\n",
      "  \n",
      "Result for my_func_0e0738b0:\n",
      "  _metric:\n",
      "    alpha: 1.5600296039099928\n",
      "    steps: 100\n",
      "  date: 2022-04-07_01-19-55\n",
      "  done: true\n",
      "  experiment_id: 1258216616c74e96a85abb22decd9ad6\n",
      "  experiment_tag: 6_alpha=1.56,steps=100\n",
      "  hostname: Ghallab\n",
      "  iterations_since_restore: 1\n",
      "  mean_loss: 3016.7832089292306\n",
      "  neg_mean_loss: -3016.7832089292306\n",
      "  node_ip: 192.168.1.106\n",
      "  pid: 6876\n",
      "  time_since_restore: 0.47173500061035156\n",
      "  time_this_iter_s: 0.47173500061035156\n",
      "  time_total_s: 0.47173500061035156\n",
      "  timestamp: 1649287195\n",
      "  timesteps_since_restore: 0\n",
      "  training_iteration: 1\n",
      "  trial_id: 0e0738b0\n",
      "  \n"
     ]
    },
    {
     "name": "stderr",
     "output_type": "stream",
     "text": [
      "\u001b[2m\u001b[36m(pid=6876)\u001b[0m Windows fatal exception: access violation\n",
      "\u001b[2m\u001b[36m(pid=6876)\u001b[0m \n"
     ]
    },
    {
     "data": {
      "text/html": [
       "== Status ==<br>Memory usage on this node: 5.9/7.9 GiB<br>Using AsyncHyperBand: num_stopped=2\n",
       "Bracket: Iter 64.000: None | Iter 16.000: None | Iter 4.000: None | Iter 1.000: -3017.1336668510908<br>Resources requested: 3.0/8 CPUs, 0/0 GPUs, 0.0/1.49 GiB heap, 0.0/0.74 GiB objects<br>Current best trial: 0afd4ebb with mean_loss=3016.682913089855 and parameters={'steps': 100, 'alpha': 1.560270802560321}<br>Result logdir: C:\\Users\\Mohamed Ghallab\\ray_results\\my_exp<br>Number of trials: 10/10 (1 PENDING, 3 RUNNING, 6 TERMINATED)<br><table>\n",
       "<thead>\n",
       "<tr><th>Trial name      </th><th>status    </th><th>loc  </th><th style=\"text-align: right;\">  alpha</th><th style=\"text-align: right;\">   loss</th><th style=\"text-align: right;\">  iter</th><th style=\"text-align: right;\">  total time (s)</th><th style=\"text-align: right;\">  neg_mean_loss</th></tr>\n",
       "</thead>\n",
       "<tbody>\n",
       "<tr><td>my_func_10c6ae0d</td><td>RUNNING   </td><td>     </td><td style=\"text-align: right;\">0.58093</td><td style=\"text-align: right;\">       </td><td style=\"text-align: right;\">      </td><td style=\"text-align: right;\">                </td><td style=\"text-align: right;\">               </td></tr>\n",
       "<tr><td>my_func_10fcef92</td><td>RUNNING   </td><td>     </td><td style=\"text-align: right;\">8.66177</td><td style=\"text-align: right;\">       </td><td style=\"text-align: right;\">      </td><td style=\"text-align: right;\">                </td><td style=\"text-align: right;\">               </td></tr>\n",
       "<tr><td>my_func_11591665</td><td>RUNNING   </td><td>     </td><td style=\"text-align: right;\">6.01119</td><td style=\"text-align: right;\">       </td><td style=\"text-align: right;\">      </td><td style=\"text-align: right;\">                </td><td style=\"text-align: right;\">               </td></tr>\n",
       "<tr><td>my_func_119975bc</td><td>PENDING   </td><td>     </td><td style=\"text-align: right;\">7.08075</td><td style=\"text-align: right;\">       </td><td style=\"text-align: right;\">      </td><td style=\"text-align: right;\">                </td><td style=\"text-align: right;\">               </td></tr>\n",
       "<tr><td>my_func_0841d2b6</td><td>TERMINATED</td><td>     </td><td style=\"text-align: right;\">3.74546</td><td style=\"text-align: right;\">3018.19</td><td style=\"text-align: right;\">     1</td><td style=\"text-align: right;\">       0.213265 </td><td style=\"text-align: right;\">       -3018.19</td></tr>\n",
       "<tr><td>my_func_08593dba</td><td>TERMINATED</td><td>     </td><td style=\"text-align: right;\">9.50715</td><td style=\"text-align: right;\">3022.65</td><td style=\"text-align: right;\">     1</td><td style=\"text-align: right;\">       0.0847969</td><td style=\"text-align: right;\">       -3022.65</td></tr>\n",
       "<tr><td>my_func_086d7b32</td><td>TERMINATED</td><td>     </td><td style=\"text-align: right;\">7.31997</td><td style=\"text-align: right;\">3020.87</td><td style=\"text-align: right;\">     1</td><td style=\"text-align: right;\">       0.748515 </td><td style=\"text-align: right;\">       -3020.87</td></tr>\n",
       "<tr><td>my_func_0af7fb2c</td><td>TERMINATED</td><td>     </td><td style=\"text-align: right;\">5.98662</td><td style=\"text-align: right;\">3020.1 </td><td style=\"text-align: right;\">     1</td><td style=\"text-align: right;\">       0.50317  </td><td style=\"text-align: right;\">       -3020.1 </td></tr>\n",
       "<tr><td>my_func_0afd4ebb</td><td>TERMINATED</td><td>     </td><td style=\"text-align: right;\">1.56027</td><td style=\"text-align: right;\">3016.68</td><td style=\"text-align: right;\">     1</td><td style=\"text-align: right;\">       0.67725  </td><td style=\"text-align: right;\">       -3016.68</td></tr>\n",
       "<tr><td>my_func_0e0738b0</td><td>TERMINATED</td><td>     </td><td style=\"text-align: right;\">1.56003</td><td style=\"text-align: right;\">3016.78</td><td style=\"text-align: right;\">     1</td><td style=\"text-align: right;\">       0.471735 </td><td style=\"text-align: right;\">       -3016.78</td></tr>\n",
       "</tbody>\n",
       "</table><br><br>"
      ],
      "text/plain": [
       "<IPython.core.display.HTML object>"
      ]
     },
     "metadata": {},
     "output_type": "display_data"
    },
    {
     "name": "stdout",
     "output_type": "stream",
     "text": [
      "Result for my_func_10c6ae0d:\n",
      "  _metric:\n",
      "    alpha: 0.5809303133207778\n",
      "    steps: 100\n",
      "  date: 2022-04-07_01-19-59\n",
      "  done: false\n",
      "  experiment_id: bf96ee31c3f54f5e9e00dd73d21505d7\n",
      "  hostname: Ghallab\n",
      "  iterations_since_restore: 1\n",
      "  mean_loss: 3016.0229891229746\n",
      "  neg_mean_loss: -3016.0229891229746\n",
      "  node_ip: 192.168.1.106\n",
      "  pid: 13228\n",
      "  time_since_restore: 0.10350680351257324\n",
      "  time_this_iter_s: 0.10350680351257324\n",
      "  time_total_s: 0.10350680351257324\n",
      "  timestamp: 1649287199\n",
      "  timesteps_since_restore: 0\n",
      "  training_iteration: 1\n",
      "  trial_id: 10c6ae0d\n",
      "  \n",
      "Result for my_func_10c6ae0d:\n",
      "  _metric:\n",
      "    alpha: 0.5809303133207778\n",
      "    steps: 100\n",
      "  date: 2022-04-07_01-19-59\n",
      "  done: true\n",
      "  experiment_id: bf96ee31c3f54f5e9e00dd73d21505d7\n",
      "  experiment_tag: 7_alpha=0.58093,steps=100\n",
      "  hostname: Ghallab\n",
      "  iterations_since_restore: 1\n",
      "  mean_loss: 3016.0229891229746\n",
      "  neg_mean_loss: -3016.0229891229746\n",
      "  node_ip: 192.168.1.106\n",
      "  pid: 13228\n",
      "  time_since_restore: 0.10350680351257324\n",
      "  time_this_iter_s: 0.10350680351257324\n",
      "  time_total_s: 0.10350680351257324\n",
      "  timestamp: 1649287199\n",
      "  timesteps_since_restore: 0\n",
      "  training_iteration: 1\n",
      "  trial_id: 10c6ae0d\n",
      "  \n"
     ]
    },
    {
     "name": "stderr",
     "output_type": "stream",
     "text": [
      "\u001b[2m\u001b[36m(pid=13228)\u001b[0m Windows fatal exception: access violation\n",
      "\u001b[2m\u001b[36m(pid=13228)\u001b[0m \n"
     ]
    },
    {
     "name": "stdout",
     "output_type": "stream",
     "text": [
      "Result for my_func_10fcef92:\n",
      "  _metric:\n",
      "    alpha: 8.661774840134774\n",
      "    steps: 100\n",
      "  date: 2022-04-07_01-20-05\n",
      "  done: true\n",
      "  experiment_id: f71d74d0725f43a58f244b9be62093d1\n",
      "  hostname: Ghallab\n",
      "  iterations_since_restore: 1\n",
      "  mean_loss: 3021.605580115995\n",
      "  neg_mean_loss: -3021.605580115995\n",
      "  node_ip: 192.168.1.106\n",
      "  pid: 14628\n",
      "  time_since_restore: 0.463763952255249\n",
      "  time_this_iter_s: 0.463763952255249\n",
      "  time_total_s: 0.463763952255249\n",
      "  timestamp: 1649287205\n",
      "  timesteps_since_restore: 0\n",
      "  training_iteration: 1\n",
      "  trial_id: 10fcef92\n",
      "  \n"
     ]
    },
    {
     "name": "stderr",
     "output_type": "stream",
     "text": [
      "\u001b[2m\u001b[36m(pid=14628)\u001b[0m Windows fatal exception: access violation\n",
      "\u001b[2m\u001b[36m(pid=14628)\u001b[0m \n"
     ]
    },
    {
     "data": {
      "text/html": [
       "== Status ==<br>Memory usage on this node: 5.9/7.9 GiB<br>Using AsyncHyperBand: num_stopped=3\n",
       "Bracket: Iter 64.000: None | Iter 16.000: None | Iter 4.000: None | Iter 1.000: -3016.7581349693864<br>Resources requested: 2.0/8 CPUs, 0/0 GPUs, 0.0/1.49 GiB heap, 0.0/0.74 GiB objects<br>Current best trial: 10c6ae0d with mean_loss=3016.0229891229746 and parameters={'steps': 100, 'alpha': 0.5809303133207778}<br>Result logdir: C:\\Users\\Mohamed Ghallab\\ray_results\\my_exp<br>Number of trials: 10/10 (2 RUNNING, 8 TERMINATED)<br><table>\n",
       "<thead>\n",
       "<tr><th>Trial name      </th><th>status    </th><th>loc  </th><th style=\"text-align: right;\">  alpha</th><th style=\"text-align: right;\">   loss</th><th style=\"text-align: right;\">  iter</th><th style=\"text-align: right;\">  total time (s)</th><th style=\"text-align: right;\">  neg_mean_loss</th></tr>\n",
       "</thead>\n",
       "<tbody>\n",
       "<tr><td>my_func_11591665</td><td>RUNNING   </td><td>     </td><td style=\"text-align: right;\">6.01119</td><td style=\"text-align: right;\">       </td><td style=\"text-align: right;\">      </td><td style=\"text-align: right;\">                </td><td style=\"text-align: right;\">               </td></tr>\n",
       "<tr><td>my_func_119975bc</td><td>RUNNING   </td><td>     </td><td style=\"text-align: right;\">7.08075</td><td style=\"text-align: right;\">       </td><td style=\"text-align: right;\">      </td><td style=\"text-align: right;\">                </td><td style=\"text-align: right;\">               </td></tr>\n",
       "<tr><td>my_func_0841d2b6</td><td>TERMINATED</td><td>     </td><td style=\"text-align: right;\">3.74546</td><td style=\"text-align: right;\">3018.19</td><td style=\"text-align: right;\">     1</td><td style=\"text-align: right;\">       0.213265 </td><td style=\"text-align: right;\">       -3018.19</td></tr>\n",
       "<tr><td>my_func_08593dba</td><td>TERMINATED</td><td>     </td><td style=\"text-align: right;\">9.50715</td><td style=\"text-align: right;\">3022.65</td><td style=\"text-align: right;\">     1</td><td style=\"text-align: right;\">       0.0847969</td><td style=\"text-align: right;\">       -3022.65</td></tr>\n",
       "<tr><td>my_func_086d7b32</td><td>TERMINATED</td><td>     </td><td style=\"text-align: right;\">7.31997</td><td style=\"text-align: right;\">3020.87</td><td style=\"text-align: right;\">     1</td><td style=\"text-align: right;\">       0.748515 </td><td style=\"text-align: right;\">       -3020.87</td></tr>\n",
       "<tr><td>my_func_0af7fb2c</td><td>TERMINATED</td><td>     </td><td style=\"text-align: right;\">5.98662</td><td style=\"text-align: right;\">3020.1 </td><td style=\"text-align: right;\">     1</td><td style=\"text-align: right;\">       0.50317  </td><td style=\"text-align: right;\">       -3020.1 </td></tr>\n",
       "<tr><td>my_func_0afd4ebb</td><td>TERMINATED</td><td>     </td><td style=\"text-align: right;\">1.56027</td><td style=\"text-align: right;\">3016.68</td><td style=\"text-align: right;\">     1</td><td style=\"text-align: right;\">       0.67725  </td><td style=\"text-align: right;\">       -3016.68</td></tr>\n",
       "<tr><td>my_func_0e0738b0</td><td>TERMINATED</td><td>     </td><td style=\"text-align: right;\">1.56003</td><td style=\"text-align: right;\">3016.78</td><td style=\"text-align: right;\">     1</td><td style=\"text-align: right;\">       0.471735 </td><td style=\"text-align: right;\">       -3016.78</td></tr>\n",
       "<tr><td>my_func_10c6ae0d</td><td>TERMINATED</td><td>     </td><td style=\"text-align: right;\">0.58093</td><td style=\"text-align: right;\">3016.02</td><td style=\"text-align: right;\">     1</td><td style=\"text-align: right;\">       0.103507 </td><td style=\"text-align: right;\">       -3016.02</td></tr>\n",
       "<tr><td>my_func_10fcef92</td><td>TERMINATED</td><td>     </td><td style=\"text-align: right;\">8.66177</td><td style=\"text-align: right;\">3021.61</td><td style=\"text-align: right;\">     1</td><td style=\"text-align: right;\">       0.463764 </td><td style=\"text-align: right;\">       -3021.61</td></tr>\n",
       "</tbody>\n",
       "</table><br><br>"
      ],
      "text/plain": [
       "<IPython.core.display.HTML object>"
      ]
     },
     "metadata": {},
     "output_type": "display_data"
    },
    {
     "name": "stdout",
     "output_type": "stream",
     "text": [
      "Result for my_func_11591665:\n",
      "  _metric:\n",
      "    alpha: 6.011190005930914\n",
      "    steps: 100\n",
      "  date: 2022-04-07_01-20-05\n",
      "  done: true\n",
      "  experiment_id: b7e540e58e0545e6905a4d92a823a446\n",
      "  hostname: Ghallab\n",
      "  iterations_since_restore: 1\n",
      "  mean_loss: 3019.8044242798615\n",
      "  neg_mean_loss: -3019.8044242798615\n",
      "  node_ip: 192.168.1.106\n",
      "  pid: 3684\n",
      "  time_since_restore: 0.5460565090179443\n",
      "  time_this_iter_s: 0.5460565090179443\n",
      "  time_total_s: 0.5460565090179443\n",
      "  timestamp: 1649287205\n",
      "  timesteps_since_restore: 0\n",
      "  training_iteration: 1\n",
      "  trial_id: '11591665'\n",
      "  \n"
     ]
    },
    {
     "name": "stderr",
     "output_type": "stream",
     "text": [
      "\u001b[2m\u001b[36m(pid=3684)\u001b[0m Windows fatal exception: access violation\n",
      "\u001b[2m\u001b[36m(pid=3684)\u001b[0m \n"
     ]
    },
    {
     "name": "stdout",
     "output_type": "stream",
     "text": [
      "Result for my_func_119975bc:\n",
      "  _metric:\n",
      "    alpha: 7.080754970702675\n",
      "    steps: 100\n",
      "  date: 2022-04-07_01-20-08\n",
      "  done: true\n",
      "  experiment_id: 3173e16acff04f16aefea05e974922bc\n",
      "  hostname: Ghallab\n",
      "  iterations_since_restore: 1\n",
      "  mean_loss: 3020.46321163851\n",
      "  neg_mean_loss: -3020.46321163851\n",
      "  node_ip: 192.168.1.106\n",
      "  pid: 4244\n",
      "  time_since_restore: 0.12169384956359863\n",
      "  time_this_iter_s: 0.12169384956359863\n",
      "  time_total_s: 0.12169384956359863\n",
      "  timestamp: 1649287208\n",
      "  timesteps_since_restore: 0\n",
      "  training_iteration: 1\n",
      "  trial_id: 119975bc\n",
      "  \n"
     ]
    },
    {
     "name": "stderr",
     "output_type": "stream",
     "text": [
      "\u001b[2m\u001b[36m(pid=4244)\u001b[0m Windows fatal exception: access violation\n",
      "\u001b[2m\u001b[36m(pid=4244)\u001b[0m \n"
     ]
    },
    {
     "data": {
      "text/html": [
       "== Status ==<br>Memory usage on this node: 5.7/7.9 GiB<br>Using AsyncHyperBand: num_stopped=5\n",
       "Bracket: Iter 64.000: None | Iter 16.000: None | Iter 4.000: None | Iter 1.000: -3017.1336668510908<br>Resources requested: 0/8 CPUs, 0/0 GPUs, 0.0/1.49 GiB heap, 0.0/0.74 GiB objects<br>Current best trial: 10c6ae0d with mean_loss=3016.0229891229746 and parameters={'steps': 100, 'alpha': 0.5809303133207778}<br>Result logdir: C:\\Users\\Mohamed Ghallab\\ray_results\\my_exp<br>Number of trials: 10/10 (10 TERMINATED)<br><table>\n",
       "<thead>\n",
       "<tr><th>Trial name      </th><th>status    </th><th>loc  </th><th style=\"text-align: right;\">  alpha</th><th style=\"text-align: right;\">   loss</th><th style=\"text-align: right;\">  iter</th><th style=\"text-align: right;\">  total time (s)</th><th style=\"text-align: right;\">  neg_mean_loss</th></tr>\n",
       "</thead>\n",
       "<tbody>\n",
       "<tr><td>my_func_0841d2b6</td><td>TERMINATED</td><td>     </td><td style=\"text-align: right;\">3.74546</td><td style=\"text-align: right;\">3018.19</td><td style=\"text-align: right;\">     1</td><td style=\"text-align: right;\">       0.213265 </td><td style=\"text-align: right;\">       -3018.19</td></tr>\n",
       "<tr><td>my_func_08593dba</td><td>TERMINATED</td><td>     </td><td style=\"text-align: right;\">9.50715</td><td style=\"text-align: right;\">3022.65</td><td style=\"text-align: right;\">     1</td><td style=\"text-align: right;\">       0.0847969</td><td style=\"text-align: right;\">       -3022.65</td></tr>\n",
       "<tr><td>my_func_086d7b32</td><td>TERMINATED</td><td>     </td><td style=\"text-align: right;\">7.31997</td><td style=\"text-align: right;\">3020.87</td><td style=\"text-align: right;\">     1</td><td style=\"text-align: right;\">       0.748515 </td><td style=\"text-align: right;\">       -3020.87</td></tr>\n",
       "<tr><td>my_func_0af7fb2c</td><td>TERMINATED</td><td>     </td><td style=\"text-align: right;\">5.98662</td><td style=\"text-align: right;\">3020.1 </td><td style=\"text-align: right;\">     1</td><td style=\"text-align: right;\">       0.50317  </td><td style=\"text-align: right;\">       -3020.1 </td></tr>\n",
       "<tr><td>my_func_0afd4ebb</td><td>TERMINATED</td><td>     </td><td style=\"text-align: right;\">1.56027</td><td style=\"text-align: right;\">3016.68</td><td style=\"text-align: right;\">     1</td><td style=\"text-align: right;\">       0.67725  </td><td style=\"text-align: right;\">       -3016.68</td></tr>\n",
       "<tr><td>my_func_0e0738b0</td><td>TERMINATED</td><td>     </td><td style=\"text-align: right;\">1.56003</td><td style=\"text-align: right;\">3016.78</td><td style=\"text-align: right;\">     1</td><td style=\"text-align: right;\">       0.471735 </td><td style=\"text-align: right;\">       -3016.78</td></tr>\n",
       "<tr><td>my_func_10c6ae0d</td><td>TERMINATED</td><td>     </td><td style=\"text-align: right;\">0.58093</td><td style=\"text-align: right;\">3016.02</td><td style=\"text-align: right;\">     1</td><td style=\"text-align: right;\">       0.103507 </td><td style=\"text-align: right;\">       -3016.02</td></tr>\n",
       "<tr><td>my_func_10fcef92</td><td>TERMINATED</td><td>     </td><td style=\"text-align: right;\">8.66177</td><td style=\"text-align: right;\">3021.61</td><td style=\"text-align: right;\">     1</td><td style=\"text-align: right;\">       0.463764 </td><td style=\"text-align: right;\">       -3021.61</td></tr>\n",
       "<tr><td>my_func_11591665</td><td>TERMINATED</td><td>     </td><td style=\"text-align: right;\">6.01119</td><td style=\"text-align: right;\">3019.8 </td><td style=\"text-align: right;\">     1</td><td style=\"text-align: right;\">       0.546057 </td><td style=\"text-align: right;\">       -3019.8 </td></tr>\n",
       "<tr><td>my_func_119975bc</td><td>TERMINATED</td><td>     </td><td style=\"text-align: right;\">7.08075</td><td style=\"text-align: right;\">3020.46</td><td style=\"text-align: right;\">     1</td><td style=\"text-align: right;\">       0.121694 </td><td style=\"text-align: right;\">       -3020.46</td></tr>\n",
       "</tbody>\n",
       "</table><br><br>"
      ],
      "text/plain": [
       "<IPython.core.display.HTML object>"
      ]
     },
     "metadata": {},
     "output_type": "display_data"
    },
    {
     "name": "stderr",
     "output_type": "stream",
     "text": [
      "2022-04-07 01:20:08,944\tINFO tune.py:561 -- Total run time: 29.31 seconds (29.13 seconds for the tuning loop).\n"
     ]
    },
    {
     "name": "stdout",
     "output_type": "stream",
     "text": [
      "Best hyperparameters found were:  {'steps': 100, 'alpha': 0.5809303133207778}\n"
     ]
    }
   ],
   "source": [
    "algo = BayesOptSearch(utility_kwargs={\"kind\": \"ucb\", \"kappa\": 2.5, \"xi\": 0.0})\n",
    "algo = ConcurrencyLimiter(algo, max_concurrent=4)\n",
    "scheduler = AsyncHyperBandScheduler()\n",
    "analysis = tune.run(\n",
    "        my_func,\n",
    "        name=\"my_exp\",\n",
    "        metric=\"mean_loss\",\n",
    "        mode=\"min\",\n",
    "        search_alg=algo,\n",
    "        scheduler=scheduler,\n",
    "        num_samples=10,\n",
    "        config={\n",
    "            \"steps\": 100,\n",
    "            \"alpha\": tune.uniform(0.0001, 10),\n",
    "        },\n",
    "    )\n",
    "\n",
    "print(\"Best hyperparameters found were: \", analysis.best_config)"
   ]
  }
 ],
 "metadata": {
  "interpreter": {
   "hash": "3b0a75e1e8c8df83b79b22f512952d44650f65096437aa6f941abdf019394d61"
  },
  "kernelspec": {
   "display_name": "Python 3.8.8 ('base')",
   "language": "python",
   "name": "python3"
  },
  "language_info": {
   "codemirror_mode": {
    "name": "ipython",
    "version": 3
   },
   "file_extension": ".py",
   "mimetype": "text/x-python",
   "name": "python",
   "nbconvert_exporter": "python",
   "pygments_lexer": "ipython3",
   "version": "3.8.8"
  },
  "orig_nbformat": 4
 },
 "nbformat": 4,
 "nbformat_minor": 2
}
