{
 "cells": [
  {
   "cell_type": "code",
   "execution_count": 12,
   "metadata": {},
   "outputs": [],
   "source": [
    "import numpy as np\n",
    "from math import floor, ceil\n",
    "from sklearn.preprocessing import StandardScaler\n",
    "from sklearn.datasets import load_wine\n",
    "from sklearn.model_selection import train_test_split \n",
    "from sklearn.metrics import accuracy_score, mean_squared_error\n",
    "from keras.utils import np_utils\n",
    "#import sys, os\n",
    "#sys.path.append(os.path.abspath('../../src/neural_network'))\n",
    "#sys.path.append('../../src/neural_network')\n",
    "from neural_network import NeuralNetwork\n",
    "from fc_layer import FCLayer\n",
    "from activation_layer import ActivationLayer\n",
    "from activation_functions import sigmoid, sigmoid_derivative, identity, identity_derivative, tanh, tanh_derivative, relu, relu_derivative\n",
    "from loss_functions import mse, mse_derivative\n",
    "from ray import tune\n",
    "from ray.tune.schedulers import AsyncHyperBandScheduler"
   ]
  },
  {
   "cell_type": "code",
   "execution_count": null,
   "metadata": {},
   "outputs": [],
   "source": [
    "hyperparameters = {\n",
    "    \"type\": \"Regression\",\n",
    "    #\"number_of_layers\": [3, 4, 5],\n",
    "    #\"hidden_layer_sizes\": [2, 1, 1, 1, 1],\n",
    "    \"output_layer_size\": 1,\n",
    "    #\"activation_function\": \"sigmoid\",\n",
    "    #\"learning_rate\": 0.1,\n",
    "    #\"epochs\": 100,\n",
    "    #\"batch_size\": 1,\n",
    "    #\"loss_function\": \"mean_squared_error\",\n",
    "    #\"optimizer\": \"adam\",\n",
    "}"
   ]
  },
  {
   "cell_type": "code",
   "execution_count": 13,
   "metadata": {},
   "outputs": [
    {
     "name": "stdout",
     "output_type": "stream",
     "text": [
      "(178, 13) (178,)\n",
      "(142, 13) (36, 13) (142, 3) (36, 3)\n"
     ]
    }
   ],
   "source": [
    "X, Y = load_wine(return_X_y=True)\n",
    "print(X.shape, Y.shape)\n",
    "X_train, X_test, y_train, y_test = train_test_split(X,Y, test_size=0.2)\n",
    "#Normalizing data\n",
    "scaler = StandardScaler()\n",
    "scaler.fit(X_train)\n",
    "X_train = scaler.transform(X_train)\n",
    "X_test = scaler.transform(X_test)\n",
    "\n",
    "y_train = np_utils.to_categorical(y_train)\n",
    "y_test = np_utils.to_categorical(y_test)\n",
    "print(X_train.shape, X_test.shape, y_train.shape, y_test.shape)"
   ]
  },
  {
   "cell_type": "code",
   "execution_count": 14,
   "metadata": {},
   "outputs": [],
   "source": [
    "class NetworkGenerator:\n",
    "    def __init__(self, X_train, y_train, X_test, y_test, type):\n",
    "        self.X_train = X_train\n",
    "        self.y_train = y_train\n",
    "        self.X_test = X_test\n",
    "        self.y_test = y_test\n",
    "        self.type = type\n",
    "        self.input_layer_size = X_train.shape[1]\n",
    "        if(self.type == \"Regression\"):\n",
    "            self.output_layer_size = 1\n",
    "            self.activation_function = relu\n",
    "            self.activation_function_derivative = relu_derivative\n",
    "        else: \n",
    "            self.output_layer_size = y_train.shape[1]\n",
    "            self.activation_function = tanh\n",
    "            self.activation_function_derivative = tanh_derivative\n",
    "        self.middle_layer_size = ceil((2*(self.input_layer_size + self.output_layer_size))/3)\n",
    "        \n",
    "#interpolating the hidden layer sizes\n",
    "    def __interpolate_hidden_layer_sizes(self, middle_layer_size, number_of_layers):\n",
    "        hidden_layer_sizes = [0 for x in range(number_of_layers)]\n",
    "        layers_before_middle = floor(number_of_layers/2) #2\n",
    "        layers_after_middle = ceil(number_of_layers/2) - 1 #2\n",
    "        hidden_layer_sizes[layers_before_middle] = middle_layer_size\n",
    "        index = layers_before_middle - 1\n",
    "        for i in range(layers_before_middle, 0, -1):\n",
    "            hidden_layer_sizes[index] = ceil(2*(self.input_layer_size + hidden_layer_sizes[i])/3)\n",
    "            index -= 1\n",
    "        \n",
    "        index = layers_before_middle + 1\n",
    "        for i in range(layers_before_middle, number_of_layers - 1, 1):\n",
    "            hidden_layer_sizes[index] = ceil(2*(hidden_layer_sizes[i] + self.output_layer_size)/3)\n",
    "            index += 1\n",
    "        return hidden_layer_sizes\n",
    "\n",
    "    def __create_network(self, middle_layer_size, number_of_layers, epochs, alpha):\n",
    "        network = NeuralNetwork()\n",
    "        hidden_layer_sizes = self.__interpolate_hidden_layer_sizes(middle_layer_size, number_of_layers)\n",
    "        hidden_layer_sizes.insert(0, self.input_layer_size)\n",
    "        hidden_layer_sizes.append(self.output_layer_size)\n",
    "        for i in range(len(hidden_layer_sizes) - 1):\n",
    "            network.add(FCLayer(hidden_layer_sizes[i], hidden_layer_sizes[i + 1]))\n",
    "            if i < len(hidden_layer_sizes) - 1:\n",
    "                network.add(ActivationLayer(self.activation_function, self.activation_function_derivative))\n",
    "        if self.type == \"Classification\":\n",
    "            network.add(ActivationLayer(sigmoid, sigmoid_derivative))\n",
    "            network.use(mse, mse_derivative)  #TODO: change loss function\n",
    "        else: \n",
    "            network.add(ActivationLayer(identity, identity_derivative))\n",
    "            network.use(mse, mse_derivative)\n",
    "        network.fit(self.X_train, self.y_train, epochs=epochs, learning_rate=alpha)\n",
    "        return network\n",
    "            \n",
    "    def __network_generator(self, config, reporter):\n",
    "        network = self.__create_network(config[\"middle_layer_size\"], config[\"number_of_layers\"], config[\"epochs\"], config[\"alpha\"])\n",
    "        y_pred = np.array(network.predict(self.X_test))\n",
    "        if self.type == \"Classification\":\n",
    "            reporter(config, mean_accuracy = accuracy_score(self.y_test, y_pred.round()))\n",
    "        else:\n",
    "            reporter(config, mean_loss = mean_squared_error(self.y_test, y_pred))\n",
    "        \n",
    "    def __train_network(self):\n",
    "        scheduler = AsyncHyperBandScheduler()\n",
    "        if self.type == \"Classification\":\n",
    "            res = tune.run(\n",
    "            self.__network_generator,\n",
    "            name=\"my_exp\",\n",
    "            metric=\"mean_accuracy\",\n",
    "            stop={\"mean_accuracy\": 0.8},\n",
    "            mode=\"max\",\n",
    "            scheduler=scheduler,\n",
    "            config={\n",
    "                \"number_of_layers\": tune.grid_search([3, 4]),#, 5]),\n",
    "                \"middle_layer_size\": tune.grid_search([8]),#,32, 64, 128]),\n",
    "                \"epochs\": tune.grid_search([500, 1000]),#, 2000, 3000, 4000, 5000]),\n",
    "                \"alpha\": tune.grid_search([0.001, 0.01, 0.1, 1]),\n",
    "            },\n",
    "            )\n",
    "            results = {k: v for k, v in sorted(res.results.items(), key=lambda item: (item[1][\"mean_accuracy\"], item[1][\"time_this_iter_s\"]), reverse=True)}\n",
    "            highest_accuracy = results[list(results.keys())[0]][\"mean_accuracy\"]\n",
    "            index = -1\n",
    "            for k, v in results.items():\n",
    "                if v[\"mean_accuracy\"] != highest_accuracy:\n",
    "                    return list(results.values())[index]\n",
    "                index += 1\n",
    "                \n",
    "        else:\n",
    "            res = tune.run(\n",
    "            self.__network_generator,\n",
    "            name=\"my_exp\",\n",
    "            metric=\"mean_loss\",\n",
    "            stop={\"mean_loss\": 0.2},\n",
    "            mode=\"min\",\n",
    "            scheduler=scheduler,\n",
    "            config={\n",
    "                \"number_of_layers\": tune.grid_search([3, 4, 5]),\n",
    "                \"middle_layer_size\": tune.grid_search([8, 16, 32, 64, 128]),\n",
    "                \"epochs\": tune.grid_search([500, 1000, 2000, 3000, 4000, 5000]),\n",
    "                \"alpha\": tune.grid_search([0.001, 0.01, 0.1, 1]),\n",
    "            },\n",
    "            )\n",
    "            results = {k: v for k, v in sorted(res.results.items(), key=lambda item: (item[1][\"mean_loss\"], item[1][\"time_this_iter_s\"]))}\n",
    "            return list(results.values())[0]\n",
    "        \n",
    "    def get_best_network(self):\n",
    "        best_result = self.__train_network()\n",
    "        accuracy = best_result[\"mean_accuracy\"] if self.type == \"Classification\" else best_result[\"mean_loss\"]\n",
    "        config = best_result[\"config\"]\n",
    "        network = self.__create_network(config[\"middle_layer_size\"], config[\"number_of_layers\"], config[\"epochs\"], config[\"alpha\"])\n",
    "        return network, accuracy, config"
   ]
  },
  {
   "cell_type": "code",
   "execution_count": 15,
   "metadata": {},
   "outputs": [
    {
     "name": "stderr",
     "output_type": "stream",
     "text": [
      "2022-05-15 21:37:49,302\tINFO registry.py:66 -- Detected unknown callable for trainable. Converting to class.\n"
     ]
    },
    {
     "data": {
      "text/html": [
       "== Status ==<br>Memory usage on this node: 4.5/7.9 GiB<br>Using AsyncHyperBand: num_stopped=0\n",
       "Bracket: Iter 64.000: None | Iter 16.000: None | Iter 4.000: None | Iter 1.000: None<br>Resources requested: 0/8 CPUs, 0/0 GPUs, 0.0/1.08 GiB heap, 0.0/0.54 GiB objects<br>Result logdir: C:\\Users\\Mohamed Ghallab\\ray_results\\my_exp<br>Number of trials: 16/16 (16 PENDING)<br><table>\n",
       "<thead>\n",
       "<tr><th>Trial name                     </th><th>status  </th><th>loc  </th><th style=\"text-align: right;\">  alpha</th><th style=\"text-align: right;\">  epochs</th><th style=\"text-align: right;\">  middle_layer_size</th><th style=\"text-align: right;\">  number_of_layers</th></tr>\n",
       "</thead>\n",
       "<tbody>\n",
       "<tr><td>__network_generator_80ca4_00000</td><td>PENDING </td><td>     </td><td style=\"text-align: right;\">  0.001</td><td style=\"text-align: right;\">     500</td><td style=\"text-align: right;\">                  8</td><td style=\"text-align: right;\">                 3</td></tr>\n",
       "<tr><td>__network_generator_80ca4_00001</td><td>PENDING </td><td>     </td><td style=\"text-align: right;\">  0.01 </td><td style=\"text-align: right;\">     500</td><td style=\"text-align: right;\">                  8</td><td style=\"text-align: right;\">                 3</td></tr>\n",
       "<tr><td>__network_generator_80ca4_00002</td><td>PENDING </td><td>     </td><td style=\"text-align: right;\">  0.1  </td><td style=\"text-align: right;\">     500</td><td style=\"text-align: right;\">                  8</td><td style=\"text-align: right;\">                 3</td></tr>\n",
       "<tr><td>__network_generator_80ca4_00003</td><td>PENDING </td><td>     </td><td style=\"text-align: right;\">  1    </td><td style=\"text-align: right;\">     500</td><td style=\"text-align: right;\">                  8</td><td style=\"text-align: right;\">                 3</td></tr>\n",
       "<tr><td>__network_generator_80ca4_00004</td><td>PENDING </td><td>     </td><td style=\"text-align: right;\">  0.001</td><td style=\"text-align: right;\">    1000</td><td style=\"text-align: right;\">                  8</td><td style=\"text-align: right;\">                 3</td></tr>\n",
       "<tr><td>__network_generator_80ca4_00005</td><td>PENDING </td><td>     </td><td style=\"text-align: right;\">  0.01 </td><td style=\"text-align: right;\">    1000</td><td style=\"text-align: right;\">                  8</td><td style=\"text-align: right;\">                 3</td></tr>\n",
       "<tr><td>__network_generator_80ca4_00006</td><td>PENDING </td><td>     </td><td style=\"text-align: right;\">  0.1  </td><td style=\"text-align: right;\">    1000</td><td style=\"text-align: right;\">                  8</td><td style=\"text-align: right;\">                 3</td></tr>\n",
       "<tr><td>__network_generator_80ca4_00007</td><td>PENDING </td><td>     </td><td style=\"text-align: right;\">  1    </td><td style=\"text-align: right;\">    1000</td><td style=\"text-align: right;\">                  8</td><td style=\"text-align: right;\">                 3</td></tr>\n",
       "<tr><td>__network_generator_80ca4_00008</td><td>PENDING </td><td>     </td><td style=\"text-align: right;\">  0.001</td><td style=\"text-align: right;\">     500</td><td style=\"text-align: right;\">                  8</td><td style=\"text-align: right;\">                 4</td></tr>\n",
       "<tr><td>__network_generator_80ca4_00009</td><td>PENDING </td><td>     </td><td style=\"text-align: right;\">  0.01 </td><td style=\"text-align: right;\">     500</td><td style=\"text-align: right;\">                  8</td><td style=\"text-align: right;\">                 4</td></tr>\n",
       "<tr><td>__network_generator_80ca4_00010</td><td>PENDING </td><td>     </td><td style=\"text-align: right;\">  0.1  </td><td style=\"text-align: right;\">     500</td><td style=\"text-align: right;\">                  8</td><td style=\"text-align: right;\">                 4</td></tr>\n",
       "<tr><td>__network_generator_80ca4_00011</td><td>PENDING </td><td>     </td><td style=\"text-align: right;\">  1    </td><td style=\"text-align: right;\">     500</td><td style=\"text-align: right;\">                  8</td><td style=\"text-align: right;\">                 4</td></tr>\n",
       "<tr><td>__network_generator_80ca4_00012</td><td>PENDING </td><td>     </td><td style=\"text-align: right;\">  0.001</td><td style=\"text-align: right;\">    1000</td><td style=\"text-align: right;\">                  8</td><td style=\"text-align: right;\">                 4</td></tr>\n",
       "<tr><td>__network_generator_80ca4_00013</td><td>PENDING </td><td>     </td><td style=\"text-align: right;\">  0.01 </td><td style=\"text-align: right;\">    1000</td><td style=\"text-align: right;\">                  8</td><td style=\"text-align: right;\">                 4</td></tr>\n",
       "<tr><td>__network_generator_80ca4_00014</td><td>PENDING </td><td>     </td><td style=\"text-align: right;\">  0.1  </td><td style=\"text-align: right;\">    1000</td><td style=\"text-align: right;\">                  8</td><td style=\"text-align: right;\">                 4</td></tr>\n",
       "<tr><td>__network_generator_80ca4_00015</td><td>PENDING </td><td>     </td><td style=\"text-align: right;\">  1    </td><td style=\"text-align: right;\">    1000</td><td style=\"text-align: right;\">                  8</td><td style=\"text-align: right;\">                 4</td></tr>\n",
       "</tbody>\n",
       "</table><br><br>"
      ],
      "text/plain": [
       "<IPython.core.display.HTML object>"
      ]
     },
     "metadata": {},
     "output_type": "display_data"
    },
    {
     "data": {
      "text/html": [
       "== Status ==<br>Memory usage on this node: 4.8/7.9 GiB<br>Using AsyncHyperBand: num_stopped=0\n",
       "Bracket: Iter 64.000: None | Iter 16.000: None | Iter 4.000: None | Iter 1.000: None<br>Resources requested: 0/8 CPUs, 0/0 GPUs, 0.0/1.08 GiB heap, 0.0/0.54 GiB objects<br>Result logdir: C:\\Users\\Mohamed Ghallab\\ray_results\\my_exp<br>Number of trials: 16/16 (16 PENDING)<br><table>\n",
       "<thead>\n",
       "<tr><th>Trial name                     </th><th>status  </th><th>loc  </th><th style=\"text-align: right;\">  alpha</th><th style=\"text-align: right;\">  epochs</th><th style=\"text-align: right;\">  middle_layer_size</th><th style=\"text-align: right;\">  number_of_layers</th></tr>\n",
       "</thead>\n",
       "<tbody>\n",
       "<tr><td>__network_generator_80ca4_00000</td><td>PENDING </td><td>     </td><td style=\"text-align: right;\">  0.001</td><td style=\"text-align: right;\">     500</td><td style=\"text-align: right;\">                  8</td><td style=\"text-align: right;\">                 3</td></tr>\n",
       "<tr><td>__network_generator_80ca4_00001</td><td>PENDING </td><td>     </td><td style=\"text-align: right;\">  0.01 </td><td style=\"text-align: right;\">     500</td><td style=\"text-align: right;\">                  8</td><td style=\"text-align: right;\">                 3</td></tr>\n",
       "<tr><td>__network_generator_80ca4_00002</td><td>PENDING </td><td>     </td><td style=\"text-align: right;\">  0.1  </td><td style=\"text-align: right;\">     500</td><td style=\"text-align: right;\">                  8</td><td style=\"text-align: right;\">                 3</td></tr>\n",
       "<tr><td>__network_generator_80ca4_00003</td><td>PENDING </td><td>     </td><td style=\"text-align: right;\">  1    </td><td style=\"text-align: right;\">     500</td><td style=\"text-align: right;\">                  8</td><td style=\"text-align: right;\">                 3</td></tr>\n",
       "<tr><td>__network_generator_80ca4_00004</td><td>PENDING </td><td>     </td><td style=\"text-align: right;\">  0.001</td><td style=\"text-align: right;\">    1000</td><td style=\"text-align: right;\">                  8</td><td style=\"text-align: right;\">                 3</td></tr>\n",
       "<tr><td>__network_generator_80ca4_00005</td><td>PENDING </td><td>     </td><td style=\"text-align: right;\">  0.01 </td><td style=\"text-align: right;\">    1000</td><td style=\"text-align: right;\">                  8</td><td style=\"text-align: right;\">                 3</td></tr>\n",
       "<tr><td>__network_generator_80ca4_00006</td><td>PENDING </td><td>     </td><td style=\"text-align: right;\">  0.1  </td><td style=\"text-align: right;\">    1000</td><td style=\"text-align: right;\">                  8</td><td style=\"text-align: right;\">                 3</td></tr>\n",
       "<tr><td>__network_generator_80ca4_00007</td><td>PENDING </td><td>     </td><td style=\"text-align: right;\">  1    </td><td style=\"text-align: right;\">    1000</td><td style=\"text-align: right;\">                  8</td><td style=\"text-align: right;\">                 3</td></tr>\n",
       "<tr><td>__network_generator_80ca4_00008</td><td>PENDING </td><td>     </td><td style=\"text-align: right;\">  0.001</td><td style=\"text-align: right;\">     500</td><td style=\"text-align: right;\">                  8</td><td style=\"text-align: right;\">                 4</td></tr>\n",
       "<tr><td>__network_generator_80ca4_00009</td><td>PENDING </td><td>     </td><td style=\"text-align: right;\">  0.01 </td><td style=\"text-align: right;\">     500</td><td style=\"text-align: right;\">                  8</td><td style=\"text-align: right;\">                 4</td></tr>\n",
       "<tr><td>__network_generator_80ca4_00010</td><td>PENDING </td><td>     </td><td style=\"text-align: right;\">  0.1  </td><td style=\"text-align: right;\">     500</td><td style=\"text-align: right;\">                  8</td><td style=\"text-align: right;\">                 4</td></tr>\n",
       "<tr><td>__network_generator_80ca4_00011</td><td>PENDING </td><td>     </td><td style=\"text-align: right;\">  1    </td><td style=\"text-align: right;\">     500</td><td style=\"text-align: right;\">                  8</td><td style=\"text-align: right;\">                 4</td></tr>\n",
       "<tr><td>__network_generator_80ca4_00012</td><td>PENDING </td><td>     </td><td style=\"text-align: right;\">  0.001</td><td style=\"text-align: right;\">    1000</td><td style=\"text-align: right;\">                  8</td><td style=\"text-align: right;\">                 4</td></tr>\n",
       "<tr><td>__network_generator_80ca4_00013</td><td>PENDING </td><td>     </td><td style=\"text-align: right;\">  0.01 </td><td style=\"text-align: right;\">    1000</td><td style=\"text-align: right;\">                  8</td><td style=\"text-align: right;\">                 4</td></tr>\n",
       "<tr><td>__network_generator_80ca4_00014</td><td>PENDING </td><td>     </td><td style=\"text-align: right;\">  0.1  </td><td style=\"text-align: right;\">    1000</td><td style=\"text-align: right;\">                  8</td><td style=\"text-align: right;\">                 4</td></tr>\n",
       "<tr><td>__network_generator_80ca4_00015</td><td>PENDING </td><td>     </td><td style=\"text-align: right;\">  1    </td><td style=\"text-align: right;\">    1000</td><td style=\"text-align: right;\">                  8</td><td style=\"text-align: right;\">                 4</td></tr>\n",
       "</tbody>\n",
       "</table><br><br>"
      ],
      "text/plain": [
       "<IPython.core.display.HTML object>"
      ]
     },
     "metadata": {},
     "output_type": "display_data"
    },
    {
     "data": {
      "text/html": [
       "== Status ==<br>Memory usage on this node: 5.1/7.9 GiB<br>Using AsyncHyperBand: num_stopped=0\n",
       "Bracket: Iter 64.000: None | Iter 16.000: None | Iter 4.000: None | Iter 1.000: None<br>Resources requested: 8.0/8 CPUs, 0/0 GPUs, 0.0/1.08 GiB heap, 0.0/0.54 GiB objects<br>Result logdir: C:\\Users\\Mohamed Ghallab\\ray_results\\my_exp<br>Number of trials: 16/16 (8 PENDING, 8 RUNNING)<br><table>\n",
       "<thead>\n",
       "<tr><th>Trial name                     </th><th>status  </th><th>loc  </th><th style=\"text-align: right;\">  alpha</th><th style=\"text-align: right;\">  epochs</th><th style=\"text-align: right;\">  middle_layer_size</th><th style=\"text-align: right;\">  number_of_layers</th></tr>\n",
       "</thead>\n",
       "<tbody>\n",
       "<tr><td>__network_generator_80ca4_00000</td><td>RUNNING </td><td>     </td><td style=\"text-align: right;\">  0.001</td><td style=\"text-align: right;\">     500</td><td style=\"text-align: right;\">                  8</td><td style=\"text-align: right;\">                 3</td></tr>\n",
       "<tr><td>__network_generator_80ca4_00001</td><td>RUNNING </td><td>     </td><td style=\"text-align: right;\">  0.01 </td><td style=\"text-align: right;\">     500</td><td style=\"text-align: right;\">                  8</td><td style=\"text-align: right;\">                 3</td></tr>\n",
       "<tr><td>__network_generator_80ca4_00002</td><td>RUNNING </td><td>     </td><td style=\"text-align: right;\">  0.1  </td><td style=\"text-align: right;\">     500</td><td style=\"text-align: right;\">                  8</td><td style=\"text-align: right;\">                 3</td></tr>\n",
       "<tr><td>__network_generator_80ca4_00003</td><td>RUNNING </td><td>     </td><td style=\"text-align: right;\">  1    </td><td style=\"text-align: right;\">     500</td><td style=\"text-align: right;\">                  8</td><td style=\"text-align: right;\">                 3</td></tr>\n",
       "<tr><td>__network_generator_80ca4_00004</td><td>RUNNING </td><td>     </td><td style=\"text-align: right;\">  0.001</td><td style=\"text-align: right;\">    1000</td><td style=\"text-align: right;\">                  8</td><td style=\"text-align: right;\">                 3</td></tr>\n",
       "<tr><td>__network_generator_80ca4_00005</td><td>RUNNING </td><td>     </td><td style=\"text-align: right;\">  0.01 </td><td style=\"text-align: right;\">    1000</td><td style=\"text-align: right;\">                  8</td><td style=\"text-align: right;\">                 3</td></tr>\n",
       "<tr><td>__network_generator_80ca4_00006</td><td>RUNNING </td><td>     </td><td style=\"text-align: right;\">  0.1  </td><td style=\"text-align: right;\">    1000</td><td style=\"text-align: right;\">                  8</td><td style=\"text-align: right;\">                 3</td></tr>\n",
       "<tr><td>__network_generator_80ca4_00007</td><td>RUNNING </td><td>     </td><td style=\"text-align: right;\">  1    </td><td style=\"text-align: right;\">    1000</td><td style=\"text-align: right;\">                  8</td><td style=\"text-align: right;\">                 3</td></tr>\n",
       "<tr><td>__network_generator_80ca4_00008</td><td>PENDING </td><td>     </td><td style=\"text-align: right;\">  0.001</td><td style=\"text-align: right;\">     500</td><td style=\"text-align: right;\">                  8</td><td style=\"text-align: right;\">                 4</td></tr>\n",
       "<tr><td>__network_generator_80ca4_00009</td><td>PENDING </td><td>     </td><td style=\"text-align: right;\">  0.01 </td><td style=\"text-align: right;\">     500</td><td style=\"text-align: right;\">                  8</td><td style=\"text-align: right;\">                 4</td></tr>\n",
       "<tr><td>__network_generator_80ca4_00010</td><td>PENDING </td><td>     </td><td style=\"text-align: right;\">  0.1  </td><td style=\"text-align: right;\">     500</td><td style=\"text-align: right;\">                  8</td><td style=\"text-align: right;\">                 4</td></tr>\n",
       "<tr><td>__network_generator_80ca4_00011</td><td>PENDING </td><td>     </td><td style=\"text-align: right;\">  1    </td><td style=\"text-align: right;\">     500</td><td style=\"text-align: right;\">                  8</td><td style=\"text-align: right;\">                 4</td></tr>\n",
       "<tr><td>__network_generator_80ca4_00012</td><td>PENDING </td><td>     </td><td style=\"text-align: right;\">  0.001</td><td style=\"text-align: right;\">    1000</td><td style=\"text-align: right;\">                  8</td><td style=\"text-align: right;\">                 4</td></tr>\n",
       "<tr><td>__network_generator_80ca4_00013</td><td>PENDING </td><td>     </td><td style=\"text-align: right;\">  0.01 </td><td style=\"text-align: right;\">    1000</td><td style=\"text-align: right;\">                  8</td><td style=\"text-align: right;\">                 4</td></tr>\n",
       "<tr><td>__network_generator_80ca4_00014</td><td>PENDING </td><td>     </td><td style=\"text-align: right;\">  0.1  </td><td style=\"text-align: right;\">    1000</td><td style=\"text-align: right;\">                  8</td><td style=\"text-align: right;\">                 4</td></tr>\n",
       "<tr><td>__network_generator_80ca4_00015</td><td>PENDING </td><td>     </td><td style=\"text-align: right;\">  1    </td><td style=\"text-align: right;\">    1000</td><td style=\"text-align: right;\">                  8</td><td style=\"text-align: right;\">                 4</td></tr>\n",
       "</tbody>\n",
       "</table><br><br>"
      ],
      "text/plain": [
       "<IPython.core.display.HTML object>"
      ]
     },
     "metadata": {},
     "output_type": "display_data"
    },
    {
     "name": "stdout",
     "output_type": "stream",
     "text": [
      "Result for __network_generator_80ca4_00000:\n",
      "  _metric:\n",
      "    alpha: 0.001\n",
      "    epochs: 500\n",
      "    middle_layer_size: 8\n",
      "    number_of_layers: 3\n",
      "  date: 2022-05-15_21-38-37\n",
      "  done: true\n",
      "  experiment_id: 4e63cb8fc58648dd80023325cf22a320\n",
      "  hostname: Ghallab\n",
      "  iterations_since_restore: 1\n",
      "  mean_accuracy: 0.9444444444444444\n",
      "  node_ip: 192.168.1.105\n",
      "  pid: 9768\n",
      "  time_since_restore: 34.0319550037384\n",
      "  time_this_iter_s: 34.0319550037384\n",
      "  time_total_s: 34.0319550037384\n",
      "  timestamp: 1652643517\n",
      "  timesteps_since_restore: 0\n",
      "  training_iteration: 1\n",
      "  trial_id: 80ca4_00000\n",
      "  \n"
     ]
    },
    {
     "data": {
      "text/html": [
       "== Status ==<br>Memory usage on this node: 5.4/7.9 GiB<br>Using AsyncHyperBand: num_stopped=0\n",
       "Bracket: Iter 64.000: None | Iter 16.000: None | Iter 4.000: None | Iter 1.000: 0.9444444444444444<br>Resources requested: 7.0/8 CPUs, 0/0 GPUs, 0.0/1.08 GiB heap, 0.0/0.54 GiB objects<br>Current best trial: 80ca4_00000 with mean_accuracy=0.9444444444444444 and parameters={'number_of_layers': 3, 'middle_layer_size': 8, 'epochs': 500, 'alpha': 0.001}<br>Result logdir: C:\\Users\\Mohamed Ghallab\\ray_results\\my_exp<br>Number of trials: 16/16 (8 PENDING, 7 RUNNING, 1 TERMINATED)<br><table>\n",
       "<thead>\n",
       "<tr><th>Trial name                     </th><th>status    </th><th>loc  </th><th style=\"text-align: right;\">  alpha</th><th style=\"text-align: right;\">  epochs</th><th style=\"text-align: right;\">  middle_layer_size</th><th style=\"text-align: right;\">  number_of_layers</th><th style=\"text-align: right;\">     acc</th><th style=\"text-align: right;\">  iter</th><th style=\"text-align: right;\">  total time (s)</th></tr>\n",
       "</thead>\n",
       "<tbody>\n",
       "<tr><td>__network_generator_80ca4_00001</td><td>RUNNING   </td><td>     </td><td style=\"text-align: right;\">  0.01 </td><td style=\"text-align: right;\">     500</td><td style=\"text-align: right;\">                  8</td><td style=\"text-align: right;\">                 3</td><td style=\"text-align: right;\">        </td><td style=\"text-align: right;\">      </td><td style=\"text-align: right;\">                </td></tr>\n",
       "<tr><td>__network_generator_80ca4_00002</td><td>RUNNING   </td><td>     </td><td style=\"text-align: right;\">  0.1  </td><td style=\"text-align: right;\">     500</td><td style=\"text-align: right;\">                  8</td><td style=\"text-align: right;\">                 3</td><td style=\"text-align: right;\">        </td><td style=\"text-align: right;\">      </td><td style=\"text-align: right;\">                </td></tr>\n",
       "<tr><td>__network_generator_80ca4_00003</td><td>RUNNING   </td><td>     </td><td style=\"text-align: right;\">  1    </td><td style=\"text-align: right;\">     500</td><td style=\"text-align: right;\">                  8</td><td style=\"text-align: right;\">                 3</td><td style=\"text-align: right;\">        </td><td style=\"text-align: right;\">      </td><td style=\"text-align: right;\">                </td></tr>\n",
       "<tr><td>__network_generator_80ca4_00004</td><td>RUNNING   </td><td>     </td><td style=\"text-align: right;\">  0.001</td><td style=\"text-align: right;\">    1000</td><td style=\"text-align: right;\">                  8</td><td style=\"text-align: right;\">                 3</td><td style=\"text-align: right;\">        </td><td style=\"text-align: right;\">      </td><td style=\"text-align: right;\">                </td></tr>\n",
       "<tr><td>__network_generator_80ca4_00005</td><td>RUNNING   </td><td>     </td><td style=\"text-align: right;\">  0.01 </td><td style=\"text-align: right;\">    1000</td><td style=\"text-align: right;\">                  8</td><td style=\"text-align: right;\">                 3</td><td style=\"text-align: right;\">        </td><td style=\"text-align: right;\">      </td><td style=\"text-align: right;\">                </td></tr>\n",
       "<tr><td>__network_generator_80ca4_00006</td><td>RUNNING   </td><td>     </td><td style=\"text-align: right;\">  0.1  </td><td style=\"text-align: right;\">    1000</td><td style=\"text-align: right;\">                  8</td><td style=\"text-align: right;\">                 3</td><td style=\"text-align: right;\">        </td><td style=\"text-align: right;\">      </td><td style=\"text-align: right;\">                </td></tr>\n",
       "<tr><td>__network_generator_80ca4_00007</td><td>RUNNING   </td><td>     </td><td style=\"text-align: right;\">  1    </td><td style=\"text-align: right;\">    1000</td><td style=\"text-align: right;\">                  8</td><td style=\"text-align: right;\">                 3</td><td style=\"text-align: right;\">        </td><td style=\"text-align: right;\">      </td><td style=\"text-align: right;\">                </td></tr>\n",
       "<tr><td>__network_generator_80ca4_00008</td><td>PENDING   </td><td>     </td><td style=\"text-align: right;\">  0.001</td><td style=\"text-align: right;\">     500</td><td style=\"text-align: right;\">                  8</td><td style=\"text-align: right;\">                 4</td><td style=\"text-align: right;\">        </td><td style=\"text-align: right;\">      </td><td style=\"text-align: right;\">                </td></tr>\n",
       "<tr><td>__network_generator_80ca4_00009</td><td>PENDING   </td><td>     </td><td style=\"text-align: right;\">  0.01 </td><td style=\"text-align: right;\">     500</td><td style=\"text-align: right;\">                  8</td><td style=\"text-align: right;\">                 4</td><td style=\"text-align: right;\">        </td><td style=\"text-align: right;\">      </td><td style=\"text-align: right;\">                </td></tr>\n",
       "<tr><td>__network_generator_80ca4_00010</td><td>PENDING   </td><td>     </td><td style=\"text-align: right;\">  0.1  </td><td style=\"text-align: right;\">     500</td><td style=\"text-align: right;\">                  8</td><td style=\"text-align: right;\">                 4</td><td style=\"text-align: right;\">        </td><td style=\"text-align: right;\">      </td><td style=\"text-align: right;\">                </td></tr>\n",
       "<tr><td>__network_generator_80ca4_00011</td><td>PENDING   </td><td>     </td><td style=\"text-align: right;\">  1    </td><td style=\"text-align: right;\">     500</td><td style=\"text-align: right;\">                  8</td><td style=\"text-align: right;\">                 4</td><td style=\"text-align: right;\">        </td><td style=\"text-align: right;\">      </td><td style=\"text-align: right;\">                </td></tr>\n",
       "<tr><td>__network_generator_80ca4_00012</td><td>PENDING   </td><td>     </td><td style=\"text-align: right;\">  0.001</td><td style=\"text-align: right;\">    1000</td><td style=\"text-align: right;\">                  8</td><td style=\"text-align: right;\">                 4</td><td style=\"text-align: right;\">        </td><td style=\"text-align: right;\">      </td><td style=\"text-align: right;\">                </td></tr>\n",
       "<tr><td>__network_generator_80ca4_00013</td><td>PENDING   </td><td>     </td><td style=\"text-align: right;\">  0.01 </td><td style=\"text-align: right;\">    1000</td><td style=\"text-align: right;\">                  8</td><td style=\"text-align: right;\">                 4</td><td style=\"text-align: right;\">        </td><td style=\"text-align: right;\">      </td><td style=\"text-align: right;\">                </td></tr>\n",
       "<tr><td>__network_generator_80ca4_00014</td><td>PENDING   </td><td>     </td><td style=\"text-align: right;\">  0.1  </td><td style=\"text-align: right;\">    1000</td><td style=\"text-align: right;\">                  8</td><td style=\"text-align: right;\">                 4</td><td style=\"text-align: right;\">        </td><td style=\"text-align: right;\">      </td><td style=\"text-align: right;\">                </td></tr>\n",
       "<tr><td>__network_generator_80ca4_00015</td><td>PENDING   </td><td>     </td><td style=\"text-align: right;\">  1    </td><td style=\"text-align: right;\">    1000</td><td style=\"text-align: right;\">                  8</td><td style=\"text-align: right;\">                 4</td><td style=\"text-align: right;\">        </td><td style=\"text-align: right;\">      </td><td style=\"text-align: right;\">                </td></tr>\n",
       "<tr><td>__network_generator_80ca4_00000</td><td>TERMINATED</td><td>     </td><td style=\"text-align: right;\">  0.001</td><td style=\"text-align: right;\">     500</td><td style=\"text-align: right;\">                  8</td><td style=\"text-align: right;\">                 3</td><td style=\"text-align: right;\">0.944444</td><td style=\"text-align: right;\">     1</td><td style=\"text-align: right;\">          34.032</td></tr>\n",
       "</tbody>\n",
       "</table><br><br>"
      ],
      "text/plain": [
       "<IPython.core.display.HTML object>"
      ]
     },
     "metadata": {},
     "output_type": "display_data"
    },
    {
     "name": "stderr",
     "output_type": "stream",
     "text": [
      "\u001b[2m\u001b[36m(pid=9768)\u001b[0m Windows fatal exception: access violation\n",
      "\u001b[2m\u001b[36m(pid=9768)\u001b[0m \n"
     ]
    },
    {
     "name": "stdout",
     "output_type": "stream",
     "text": [
      "Result for __network_generator_80ca4_00002:\n",
      "  _metric:\n",
      "    alpha: 0.1\n",
      "    epochs: 500\n",
      "    middle_layer_size: 8\n",
      "    number_of_layers: 3\n",
      "  date: 2022-05-15_21-38-43\n",
      "  done: true\n",
      "  experiment_id: 7321b640796a4874b172bb74c3dfe34d\n",
      "  hostname: Ghallab\n",
      "  iterations_since_restore: 1\n",
      "  mean_accuracy: 0.9722222222222222\n",
      "  node_ip: 192.168.1.105\n",
      "  pid: 2832\n",
      "  time_since_restore: 39.842411041259766\n",
      "  time_this_iter_s: 39.842411041259766\n",
      "  time_total_s: 39.842411041259766\n",
      "  timestamp: 1652643523\n",
      "  timesteps_since_restore: 0\n",
      "  training_iteration: 1\n",
      "  trial_id: 80ca4_00002\n",
      "  \n"
     ]
    },
    {
     "data": {
      "text/html": [
       "== Status ==<br>Memory usage on this node: 5.3/7.9 GiB<br>Using AsyncHyperBand: num_stopped=0\n",
       "Bracket: Iter 64.000: None | Iter 16.000: None | Iter 4.000: None | Iter 1.000: 0.9652777777777778<br>Resources requested: 7.0/8 CPUs, 0/0 GPUs, 0.0/1.08 GiB heap, 0.0/0.54 GiB objects<br>Current best trial: 80ca4_00002 with mean_accuracy=0.9722222222222222 and parameters={'number_of_layers': 3, 'middle_layer_size': 8, 'epochs': 500, 'alpha': 0.1}<br>Result logdir: C:\\Users\\Mohamed Ghallab\\ray_results\\my_exp<br>Number of trials: 16/16 (7 PENDING, 7 RUNNING, 2 TERMINATED)<br><table>\n",
       "<thead>\n",
       "<tr><th>Trial name                     </th><th>status    </th><th>loc  </th><th style=\"text-align: right;\">  alpha</th><th style=\"text-align: right;\">  epochs</th><th style=\"text-align: right;\">  middle_layer_size</th><th style=\"text-align: right;\">  number_of_layers</th><th style=\"text-align: right;\">     acc</th><th style=\"text-align: right;\">  iter</th><th style=\"text-align: right;\">  total time (s)</th></tr>\n",
       "</thead>\n",
       "<tbody>\n",
       "<tr><td>__network_generator_80ca4_00001</td><td>RUNNING   </td><td>     </td><td style=\"text-align: right;\">  0.01 </td><td style=\"text-align: right;\">     500</td><td style=\"text-align: right;\">                  8</td><td style=\"text-align: right;\">                 3</td><td style=\"text-align: right;\">        </td><td style=\"text-align: right;\">      </td><td style=\"text-align: right;\">                </td></tr>\n",
       "<tr><td>__network_generator_80ca4_00003</td><td>RUNNING   </td><td>     </td><td style=\"text-align: right;\">  1    </td><td style=\"text-align: right;\">     500</td><td style=\"text-align: right;\">                  8</td><td style=\"text-align: right;\">                 3</td><td style=\"text-align: right;\">        </td><td style=\"text-align: right;\">      </td><td style=\"text-align: right;\">                </td></tr>\n",
       "<tr><td>__network_generator_80ca4_00004</td><td>RUNNING   </td><td>     </td><td style=\"text-align: right;\">  0.001</td><td style=\"text-align: right;\">    1000</td><td style=\"text-align: right;\">                  8</td><td style=\"text-align: right;\">                 3</td><td style=\"text-align: right;\">        </td><td style=\"text-align: right;\">      </td><td style=\"text-align: right;\">                </td></tr>\n",
       "<tr><td>__network_generator_80ca4_00005</td><td>RUNNING   </td><td>     </td><td style=\"text-align: right;\">  0.01 </td><td style=\"text-align: right;\">    1000</td><td style=\"text-align: right;\">                  8</td><td style=\"text-align: right;\">                 3</td><td style=\"text-align: right;\">        </td><td style=\"text-align: right;\">      </td><td style=\"text-align: right;\">                </td></tr>\n",
       "<tr><td>__network_generator_80ca4_00006</td><td>RUNNING   </td><td>     </td><td style=\"text-align: right;\">  0.1  </td><td style=\"text-align: right;\">    1000</td><td style=\"text-align: right;\">                  8</td><td style=\"text-align: right;\">                 3</td><td style=\"text-align: right;\">        </td><td style=\"text-align: right;\">      </td><td style=\"text-align: right;\">                </td></tr>\n",
       "<tr><td>__network_generator_80ca4_00007</td><td>RUNNING   </td><td>     </td><td style=\"text-align: right;\">  1    </td><td style=\"text-align: right;\">    1000</td><td style=\"text-align: right;\">                  8</td><td style=\"text-align: right;\">                 3</td><td style=\"text-align: right;\">        </td><td style=\"text-align: right;\">      </td><td style=\"text-align: right;\">                </td></tr>\n",
       "<tr><td>__network_generator_80ca4_00008</td><td>RUNNING   </td><td>     </td><td style=\"text-align: right;\">  0.001</td><td style=\"text-align: right;\">     500</td><td style=\"text-align: right;\">                  8</td><td style=\"text-align: right;\">                 4</td><td style=\"text-align: right;\">        </td><td style=\"text-align: right;\">      </td><td style=\"text-align: right;\">                </td></tr>\n",
       "<tr><td>__network_generator_80ca4_00009</td><td>PENDING   </td><td>     </td><td style=\"text-align: right;\">  0.01 </td><td style=\"text-align: right;\">     500</td><td style=\"text-align: right;\">                  8</td><td style=\"text-align: right;\">                 4</td><td style=\"text-align: right;\">        </td><td style=\"text-align: right;\">      </td><td style=\"text-align: right;\">                </td></tr>\n",
       "<tr><td>__network_generator_80ca4_00010</td><td>PENDING   </td><td>     </td><td style=\"text-align: right;\">  0.1  </td><td style=\"text-align: right;\">     500</td><td style=\"text-align: right;\">                  8</td><td style=\"text-align: right;\">                 4</td><td style=\"text-align: right;\">        </td><td style=\"text-align: right;\">      </td><td style=\"text-align: right;\">                </td></tr>\n",
       "<tr><td>__network_generator_80ca4_00011</td><td>PENDING   </td><td>     </td><td style=\"text-align: right;\">  1    </td><td style=\"text-align: right;\">     500</td><td style=\"text-align: right;\">                  8</td><td style=\"text-align: right;\">                 4</td><td style=\"text-align: right;\">        </td><td style=\"text-align: right;\">      </td><td style=\"text-align: right;\">                </td></tr>\n",
       "<tr><td>__network_generator_80ca4_00012</td><td>PENDING   </td><td>     </td><td style=\"text-align: right;\">  0.001</td><td style=\"text-align: right;\">    1000</td><td style=\"text-align: right;\">                  8</td><td style=\"text-align: right;\">                 4</td><td style=\"text-align: right;\">        </td><td style=\"text-align: right;\">      </td><td style=\"text-align: right;\">                </td></tr>\n",
       "<tr><td>__network_generator_80ca4_00013</td><td>PENDING   </td><td>     </td><td style=\"text-align: right;\">  0.01 </td><td style=\"text-align: right;\">    1000</td><td style=\"text-align: right;\">                  8</td><td style=\"text-align: right;\">                 4</td><td style=\"text-align: right;\">        </td><td style=\"text-align: right;\">      </td><td style=\"text-align: right;\">                </td></tr>\n",
       "<tr><td>__network_generator_80ca4_00014</td><td>PENDING   </td><td>     </td><td style=\"text-align: right;\">  0.1  </td><td style=\"text-align: right;\">    1000</td><td style=\"text-align: right;\">                  8</td><td style=\"text-align: right;\">                 4</td><td style=\"text-align: right;\">        </td><td style=\"text-align: right;\">      </td><td style=\"text-align: right;\">                </td></tr>\n",
       "<tr><td>__network_generator_80ca4_00015</td><td>PENDING   </td><td>     </td><td style=\"text-align: right;\">  1    </td><td style=\"text-align: right;\">    1000</td><td style=\"text-align: right;\">                  8</td><td style=\"text-align: right;\">                 4</td><td style=\"text-align: right;\">        </td><td style=\"text-align: right;\">      </td><td style=\"text-align: right;\">                </td></tr>\n",
       "<tr><td>__network_generator_80ca4_00000</td><td>TERMINATED</td><td>     </td><td style=\"text-align: right;\">  0.001</td><td style=\"text-align: right;\">     500</td><td style=\"text-align: right;\">                  8</td><td style=\"text-align: right;\">                 3</td><td style=\"text-align: right;\">0.944444</td><td style=\"text-align: right;\">     1</td><td style=\"text-align: right;\">         34.032 </td></tr>\n",
       "<tr><td>__network_generator_80ca4_00002</td><td>TERMINATED</td><td>     </td><td style=\"text-align: right;\">  0.1  </td><td style=\"text-align: right;\">     500</td><td style=\"text-align: right;\">                  8</td><td style=\"text-align: right;\">                 3</td><td style=\"text-align: right;\">0.972222</td><td style=\"text-align: right;\">     1</td><td style=\"text-align: right;\">         39.8424</td></tr>\n",
       "</tbody>\n",
       "</table><br><br>"
      ],
      "text/plain": [
       "<IPython.core.display.HTML object>"
      ]
     },
     "metadata": {},
     "output_type": "display_data"
    },
    {
     "name": "stdout",
     "output_type": "stream",
     "text": [
      "Result for __network_generator_80ca4_00003:\n",
      "  _metric:\n",
      "    alpha: 1\n",
      "    epochs: 500\n",
      "    middle_layer_size: 8\n",
      "    number_of_layers: 3\n",
      "  date: 2022-05-15_21-38-44\n",
      "  done: true\n",
      "  experiment_id: 90d89191c32f485d8ffe0bdcdeff4260\n",
      "  hostname: Ghallab\n",
      "  iterations_since_restore: 1\n",
      "  mean_accuracy: 0.9722222222222222\n",
      "  node_ip: 192.168.1.105\n",
      "  pid: 5504\n",
      "  time_since_restore: 40.054842472076416\n",
      "  time_this_iter_s: 40.054842472076416\n",
      "  time_total_s: 40.054842472076416\n",
      "  timestamp: 1652643524\n",
      "  timesteps_since_restore: 0\n",
      "  training_iteration: 1\n",
      "  trial_id: 80ca4_00003\n",
      "  \n"
     ]
    },
    {
     "name": "stderr",
     "output_type": "stream",
     "text": [
      "\u001b[2m\u001b[36m(pid=2832)\u001b[0m Windows fatal exception: access violation\n",
      "\u001b[2m\u001b[36m(pid=2832)\u001b[0m \n",
      "\u001b[2m\u001b[36m(pid=5504)\u001b[0m Windows fatal exception: access violation\n",
      "\u001b[2m\u001b[36m(pid=5504)\u001b[0m \n"
     ]
    },
    {
     "name": "stdout",
     "output_type": "stream",
     "text": [
      "Result for __network_generator_80ca4_00001:\n",
      "  _metric:\n",
      "    alpha: 0.01\n",
      "    epochs: 500\n",
      "    middle_layer_size: 8\n",
      "    number_of_layers: 3\n",
      "  date: 2022-05-15_21-38-44\n",
      "  done: true\n",
      "  experiment_id: 59e29ba83c594e069c64cc486d758e4a\n",
      "  hostname: Ghallab\n",
      "  iterations_since_restore: 1\n",
      "  mean_accuracy: 0.9444444444444444\n",
      "  node_ip: 192.168.1.105\n",
      "  pid: 1836\n",
      "  time_since_restore: 40.55849552154541\n",
      "  time_this_iter_s: 40.55849552154541\n",
      "  time_total_s: 40.55849552154541\n",
      "  timestamp: 1652643524\n",
      "  timesteps_since_restore: 0\n",
      "  training_iteration: 1\n",
      "  trial_id: 80ca4_00001\n",
      "  \n"
     ]
    },
    {
     "name": "stderr",
     "output_type": "stream",
     "text": [
      "\u001b[2m\u001b[36m(pid=1836)\u001b[0m Windows fatal exception: access violation\n",
      "\u001b[2m\u001b[36m(pid=1836)\u001b[0m \n"
     ]
    },
    {
     "name": "stdout",
     "output_type": "stream",
     "text": [
      "Result for __network_generator_80ca4_00007:\n",
      "  _metric:\n",
      "    alpha: 1\n",
      "    epochs: 1000\n",
      "    middle_layer_size: 8\n",
      "    number_of_layers: 3\n",
      "  date: 2022-05-15_21-39-17\n",
      "  done: true\n",
      "  experiment_id: 8f040756a06645f2a6052ebaf4933b0c\n",
      "  hostname: Ghallab\n",
      "  iterations_since_restore: 1\n",
      "  mean_accuracy: 0.9444444444444444\n",
      "  node_ip: 192.168.1.105\n",
      "  pid: 2168\n",
      "  time_since_restore: 72.84113001823425\n",
      "  time_this_iter_s: 72.84113001823425\n",
      "  time_total_s: 72.84113001823425\n",
      "  timestamp: 1652643557\n",
      "  timesteps_since_restore: 0\n",
      "  training_iteration: 1\n",
      "  trial_id: 80ca4_00007\n",
      "  \n"
     ]
    },
    {
     "data": {
      "text/html": [
       "== Status ==<br>Memory usage on this node: 5.3/7.9 GiB<br>Using AsyncHyperBand: num_stopped=0\n",
       "Bracket: Iter 64.000: None | Iter 16.000: None | Iter 4.000: None | Iter 1.000: 0.9722222222222222<br>Resources requested: 7.0/8 CPUs, 0/0 GPUs, 0.0/1.08 GiB heap, 0.0/0.54 GiB objects<br>Current best trial: 80ca4_00002 with mean_accuracy=0.9722222222222222 and parameters={'number_of_layers': 3, 'middle_layer_size': 8, 'epochs': 500, 'alpha': 0.1}<br>Result logdir: C:\\Users\\Mohamed Ghallab\\ray_results\\my_exp<br>Number of trials: 16/16 (4 PENDING, 7 RUNNING, 5 TERMINATED)<br><table>\n",
       "<thead>\n",
       "<tr><th>Trial name                     </th><th>status    </th><th>loc  </th><th style=\"text-align: right;\">  alpha</th><th style=\"text-align: right;\">  epochs</th><th style=\"text-align: right;\">  middle_layer_size</th><th style=\"text-align: right;\">  number_of_layers</th><th style=\"text-align: right;\">     acc</th><th style=\"text-align: right;\">  iter</th><th style=\"text-align: right;\">  total time (s)</th></tr>\n",
       "</thead>\n",
       "<tbody>\n",
       "<tr><td>__network_generator_80ca4_00004</td><td>RUNNING   </td><td>     </td><td style=\"text-align: right;\">  0.001</td><td style=\"text-align: right;\">    1000</td><td style=\"text-align: right;\">                  8</td><td style=\"text-align: right;\">                 3</td><td style=\"text-align: right;\">        </td><td style=\"text-align: right;\">      </td><td style=\"text-align: right;\">                </td></tr>\n",
       "<tr><td>__network_generator_80ca4_00005</td><td>RUNNING   </td><td>     </td><td style=\"text-align: right;\">  0.01 </td><td style=\"text-align: right;\">    1000</td><td style=\"text-align: right;\">                  8</td><td style=\"text-align: right;\">                 3</td><td style=\"text-align: right;\">        </td><td style=\"text-align: right;\">      </td><td style=\"text-align: right;\">                </td></tr>\n",
       "<tr><td>__network_generator_80ca4_00006</td><td>RUNNING   </td><td>     </td><td style=\"text-align: right;\">  0.1  </td><td style=\"text-align: right;\">    1000</td><td style=\"text-align: right;\">                  8</td><td style=\"text-align: right;\">                 3</td><td style=\"text-align: right;\">        </td><td style=\"text-align: right;\">      </td><td style=\"text-align: right;\">                </td></tr>\n",
       "<tr><td>__network_generator_80ca4_00008</td><td>RUNNING   </td><td>     </td><td style=\"text-align: right;\">  0.001</td><td style=\"text-align: right;\">     500</td><td style=\"text-align: right;\">                  8</td><td style=\"text-align: right;\">                 4</td><td style=\"text-align: right;\">        </td><td style=\"text-align: right;\">      </td><td style=\"text-align: right;\">                </td></tr>\n",
       "<tr><td>__network_generator_80ca4_00009</td><td>RUNNING   </td><td>     </td><td style=\"text-align: right;\">  0.01 </td><td style=\"text-align: right;\">     500</td><td style=\"text-align: right;\">                  8</td><td style=\"text-align: right;\">                 4</td><td style=\"text-align: right;\">        </td><td style=\"text-align: right;\">      </td><td style=\"text-align: right;\">                </td></tr>\n",
       "<tr><td>__network_generator_80ca4_00010</td><td>RUNNING   </td><td>     </td><td style=\"text-align: right;\">  0.1  </td><td style=\"text-align: right;\">     500</td><td style=\"text-align: right;\">                  8</td><td style=\"text-align: right;\">                 4</td><td style=\"text-align: right;\">        </td><td style=\"text-align: right;\">      </td><td style=\"text-align: right;\">                </td></tr>\n",
       "<tr><td>__network_generator_80ca4_00011</td><td>RUNNING   </td><td>     </td><td style=\"text-align: right;\">  1    </td><td style=\"text-align: right;\">     500</td><td style=\"text-align: right;\">                  8</td><td style=\"text-align: right;\">                 4</td><td style=\"text-align: right;\">        </td><td style=\"text-align: right;\">      </td><td style=\"text-align: right;\">                </td></tr>\n",
       "<tr><td>__network_generator_80ca4_00012</td><td>PENDING   </td><td>     </td><td style=\"text-align: right;\">  0.001</td><td style=\"text-align: right;\">    1000</td><td style=\"text-align: right;\">                  8</td><td style=\"text-align: right;\">                 4</td><td style=\"text-align: right;\">        </td><td style=\"text-align: right;\">      </td><td style=\"text-align: right;\">                </td></tr>\n",
       "<tr><td>__network_generator_80ca4_00013</td><td>PENDING   </td><td>     </td><td style=\"text-align: right;\">  0.01 </td><td style=\"text-align: right;\">    1000</td><td style=\"text-align: right;\">                  8</td><td style=\"text-align: right;\">                 4</td><td style=\"text-align: right;\">        </td><td style=\"text-align: right;\">      </td><td style=\"text-align: right;\">                </td></tr>\n",
       "<tr><td>__network_generator_80ca4_00014</td><td>PENDING   </td><td>     </td><td style=\"text-align: right;\">  0.1  </td><td style=\"text-align: right;\">    1000</td><td style=\"text-align: right;\">                  8</td><td style=\"text-align: right;\">                 4</td><td style=\"text-align: right;\">        </td><td style=\"text-align: right;\">      </td><td style=\"text-align: right;\">                </td></tr>\n",
       "<tr><td>__network_generator_80ca4_00015</td><td>PENDING   </td><td>     </td><td style=\"text-align: right;\">  1    </td><td style=\"text-align: right;\">    1000</td><td style=\"text-align: right;\">                  8</td><td style=\"text-align: right;\">                 4</td><td style=\"text-align: right;\">        </td><td style=\"text-align: right;\">      </td><td style=\"text-align: right;\">                </td></tr>\n",
       "<tr><td>__network_generator_80ca4_00000</td><td>TERMINATED</td><td>     </td><td style=\"text-align: right;\">  0.001</td><td style=\"text-align: right;\">     500</td><td style=\"text-align: right;\">                  8</td><td style=\"text-align: right;\">                 3</td><td style=\"text-align: right;\">0.944444</td><td style=\"text-align: right;\">     1</td><td style=\"text-align: right;\">         34.032 </td></tr>\n",
       "<tr><td>__network_generator_80ca4_00001</td><td>TERMINATED</td><td>     </td><td style=\"text-align: right;\">  0.01 </td><td style=\"text-align: right;\">     500</td><td style=\"text-align: right;\">                  8</td><td style=\"text-align: right;\">                 3</td><td style=\"text-align: right;\">0.944444</td><td style=\"text-align: right;\">     1</td><td style=\"text-align: right;\">         40.5585</td></tr>\n",
       "<tr><td>__network_generator_80ca4_00002</td><td>TERMINATED</td><td>     </td><td style=\"text-align: right;\">  0.1  </td><td style=\"text-align: right;\">     500</td><td style=\"text-align: right;\">                  8</td><td style=\"text-align: right;\">                 3</td><td style=\"text-align: right;\">0.972222</td><td style=\"text-align: right;\">     1</td><td style=\"text-align: right;\">         39.8424</td></tr>\n",
       "<tr><td>__network_generator_80ca4_00003</td><td>TERMINATED</td><td>     </td><td style=\"text-align: right;\">  1    </td><td style=\"text-align: right;\">     500</td><td style=\"text-align: right;\">                  8</td><td style=\"text-align: right;\">                 3</td><td style=\"text-align: right;\">0.972222</td><td style=\"text-align: right;\">     1</td><td style=\"text-align: right;\">         40.0548</td></tr>\n",
       "<tr><td>__network_generator_80ca4_00007</td><td>TERMINATED</td><td>     </td><td style=\"text-align: right;\">  1    </td><td style=\"text-align: right;\">    1000</td><td style=\"text-align: right;\">                  8</td><td style=\"text-align: right;\">                 3</td><td style=\"text-align: right;\">0.944444</td><td style=\"text-align: right;\">     1</td><td style=\"text-align: right;\">         72.8411</td></tr>\n",
       "</tbody>\n",
       "</table><br><br>"
      ],
      "text/plain": [
       "<IPython.core.display.HTML object>"
      ]
     },
     "metadata": {},
     "output_type": "display_data"
    },
    {
     "name": "stderr",
     "output_type": "stream",
     "text": [
      "\u001b[2m\u001b[36m(pid=2168)\u001b[0m Windows fatal exception: access violation\n",
      "\u001b[2m\u001b[36m(pid=2168)\u001b[0m \n"
     ]
    },
    {
     "name": "stdout",
     "output_type": "stream",
     "text": [
      "Result for __network_generator_80ca4_00005:\n",
      "  _metric:\n",
      "    alpha: 0.01\n",
      "    epochs: 1000\n",
      "    middle_layer_size: 8\n",
      "    number_of_layers: 3\n",
      "  date: 2022-05-15_21-39-23\n",
      "  done: true\n",
      "  experiment_id: 54b4929a9306447b80257025d2ebde7c\n",
      "  hostname: Ghallab\n",
      "  iterations_since_restore: 1\n",
      "  mean_accuracy: 0.9722222222222222\n",
      "  node_ip: 192.168.1.105\n",
      "  pid: 5244\n",
      "  time_since_restore: 79.1083619594574\n",
      "  time_this_iter_s: 79.1083619594574\n",
      "  time_total_s: 79.1083619594574\n",
      "  timestamp: 1652643563\n",
      "  timesteps_since_restore: 0\n",
      "  training_iteration: 1\n",
      "  trial_id: 80ca4_00005\n",
      "  \n"
     ]
    },
    {
     "data": {
      "text/html": [
       "== Status ==<br>Memory usage on this node: 5.3/7.9 GiB<br>Using AsyncHyperBand: num_stopped=0\n",
       "Bracket: Iter 64.000: None | Iter 16.000: None | Iter 4.000: None | Iter 1.000: 0.9722222222222222<br>Resources requested: 7.0/8 CPUs, 0/0 GPUs, 0.0/1.08 GiB heap, 0.0/0.54 GiB objects<br>Current best trial: 80ca4_00002 with mean_accuracy=0.9722222222222222 and parameters={'number_of_layers': 3, 'middle_layer_size': 8, 'epochs': 500, 'alpha': 0.1}<br>Result logdir: C:\\Users\\Mohamed Ghallab\\ray_results\\my_exp<br>Number of trials: 16/16 (3 PENDING, 7 RUNNING, 6 TERMINATED)<br><table>\n",
       "<thead>\n",
       "<tr><th>Trial name                     </th><th>status    </th><th>loc  </th><th style=\"text-align: right;\">  alpha</th><th style=\"text-align: right;\">  epochs</th><th style=\"text-align: right;\">  middle_layer_size</th><th style=\"text-align: right;\">  number_of_layers</th><th style=\"text-align: right;\">     acc</th><th style=\"text-align: right;\">  iter</th><th style=\"text-align: right;\">  total time (s)</th></tr>\n",
       "</thead>\n",
       "<tbody>\n",
       "<tr><td>__network_generator_80ca4_00004</td><td>RUNNING   </td><td>     </td><td style=\"text-align: right;\">  0.001</td><td style=\"text-align: right;\">    1000</td><td style=\"text-align: right;\">                  8</td><td style=\"text-align: right;\">                 3</td><td style=\"text-align: right;\">        </td><td style=\"text-align: right;\">      </td><td style=\"text-align: right;\">                </td></tr>\n",
       "<tr><td>__network_generator_80ca4_00006</td><td>RUNNING   </td><td>     </td><td style=\"text-align: right;\">  0.1  </td><td style=\"text-align: right;\">    1000</td><td style=\"text-align: right;\">                  8</td><td style=\"text-align: right;\">                 3</td><td style=\"text-align: right;\">        </td><td style=\"text-align: right;\">      </td><td style=\"text-align: right;\">                </td></tr>\n",
       "<tr><td>__network_generator_80ca4_00008</td><td>RUNNING   </td><td>     </td><td style=\"text-align: right;\">  0.001</td><td style=\"text-align: right;\">     500</td><td style=\"text-align: right;\">                  8</td><td style=\"text-align: right;\">                 4</td><td style=\"text-align: right;\">        </td><td style=\"text-align: right;\">      </td><td style=\"text-align: right;\">                </td></tr>\n",
       "<tr><td>__network_generator_80ca4_00009</td><td>RUNNING   </td><td>     </td><td style=\"text-align: right;\">  0.01 </td><td style=\"text-align: right;\">     500</td><td style=\"text-align: right;\">                  8</td><td style=\"text-align: right;\">                 4</td><td style=\"text-align: right;\">        </td><td style=\"text-align: right;\">      </td><td style=\"text-align: right;\">                </td></tr>\n",
       "<tr><td>__network_generator_80ca4_00010</td><td>RUNNING   </td><td>     </td><td style=\"text-align: right;\">  0.1  </td><td style=\"text-align: right;\">     500</td><td style=\"text-align: right;\">                  8</td><td style=\"text-align: right;\">                 4</td><td style=\"text-align: right;\">        </td><td style=\"text-align: right;\">      </td><td style=\"text-align: right;\">                </td></tr>\n",
       "<tr><td>__network_generator_80ca4_00011</td><td>RUNNING   </td><td>     </td><td style=\"text-align: right;\">  1    </td><td style=\"text-align: right;\">     500</td><td style=\"text-align: right;\">                  8</td><td style=\"text-align: right;\">                 4</td><td style=\"text-align: right;\">        </td><td style=\"text-align: right;\">      </td><td style=\"text-align: right;\">                </td></tr>\n",
       "<tr><td>__network_generator_80ca4_00012</td><td>RUNNING   </td><td>     </td><td style=\"text-align: right;\">  0.001</td><td style=\"text-align: right;\">    1000</td><td style=\"text-align: right;\">                  8</td><td style=\"text-align: right;\">                 4</td><td style=\"text-align: right;\">        </td><td style=\"text-align: right;\">      </td><td style=\"text-align: right;\">                </td></tr>\n",
       "<tr><td>__network_generator_80ca4_00013</td><td>PENDING   </td><td>     </td><td style=\"text-align: right;\">  0.01 </td><td style=\"text-align: right;\">    1000</td><td style=\"text-align: right;\">                  8</td><td style=\"text-align: right;\">                 4</td><td style=\"text-align: right;\">        </td><td style=\"text-align: right;\">      </td><td style=\"text-align: right;\">                </td></tr>\n",
       "<tr><td>__network_generator_80ca4_00014</td><td>PENDING   </td><td>     </td><td style=\"text-align: right;\">  0.1  </td><td style=\"text-align: right;\">    1000</td><td style=\"text-align: right;\">                  8</td><td style=\"text-align: right;\">                 4</td><td style=\"text-align: right;\">        </td><td style=\"text-align: right;\">      </td><td style=\"text-align: right;\">                </td></tr>\n",
       "<tr><td>__network_generator_80ca4_00015</td><td>PENDING   </td><td>     </td><td style=\"text-align: right;\">  1    </td><td style=\"text-align: right;\">    1000</td><td style=\"text-align: right;\">                  8</td><td style=\"text-align: right;\">                 4</td><td style=\"text-align: right;\">        </td><td style=\"text-align: right;\">      </td><td style=\"text-align: right;\">                </td></tr>\n",
       "<tr><td>__network_generator_80ca4_00000</td><td>TERMINATED</td><td>     </td><td style=\"text-align: right;\">  0.001</td><td style=\"text-align: right;\">     500</td><td style=\"text-align: right;\">                  8</td><td style=\"text-align: right;\">                 3</td><td style=\"text-align: right;\">0.944444</td><td style=\"text-align: right;\">     1</td><td style=\"text-align: right;\">         34.032 </td></tr>\n",
       "<tr><td>__network_generator_80ca4_00001</td><td>TERMINATED</td><td>     </td><td style=\"text-align: right;\">  0.01 </td><td style=\"text-align: right;\">     500</td><td style=\"text-align: right;\">                  8</td><td style=\"text-align: right;\">                 3</td><td style=\"text-align: right;\">0.944444</td><td style=\"text-align: right;\">     1</td><td style=\"text-align: right;\">         40.5585</td></tr>\n",
       "<tr><td>__network_generator_80ca4_00002</td><td>TERMINATED</td><td>     </td><td style=\"text-align: right;\">  0.1  </td><td style=\"text-align: right;\">     500</td><td style=\"text-align: right;\">                  8</td><td style=\"text-align: right;\">                 3</td><td style=\"text-align: right;\">0.972222</td><td style=\"text-align: right;\">     1</td><td style=\"text-align: right;\">         39.8424</td></tr>\n",
       "<tr><td>__network_generator_80ca4_00003</td><td>TERMINATED</td><td>     </td><td style=\"text-align: right;\">  1    </td><td style=\"text-align: right;\">     500</td><td style=\"text-align: right;\">                  8</td><td style=\"text-align: right;\">                 3</td><td style=\"text-align: right;\">0.972222</td><td style=\"text-align: right;\">     1</td><td style=\"text-align: right;\">         40.0548</td></tr>\n",
       "<tr><td>__network_generator_80ca4_00005</td><td>TERMINATED</td><td>     </td><td style=\"text-align: right;\">  0.01 </td><td style=\"text-align: right;\">    1000</td><td style=\"text-align: right;\">                  8</td><td style=\"text-align: right;\">                 3</td><td style=\"text-align: right;\">0.972222</td><td style=\"text-align: right;\">     1</td><td style=\"text-align: right;\">         79.1084</td></tr>\n",
       "<tr><td>__network_generator_80ca4_00007</td><td>TERMINATED</td><td>     </td><td style=\"text-align: right;\">  1    </td><td style=\"text-align: right;\">    1000</td><td style=\"text-align: right;\">                  8</td><td style=\"text-align: right;\">                 3</td><td style=\"text-align: right;\">0.944444</td><td style=\"text-align: right;\">     1</td><td style=\"text-align: right;\">         72.8411</td></tr>\n",
       "</tbody>\n",
       "</table><br><br>"
      ],
      "text/plain": [
       "<IPython.core.display.HTML object>"
      ]
     },
     "metadata": {},
     "output_type": "display_data"
    },
    {
     "name": "stderr",
     "output_type": "stream",
     "text": [
      "\u001b[2m\u001b[36m(pid=5244)\u001b[0m Windows fatal exception: access violation\n",
      "\u001b[2m\u001b[36m(pid=5244)\u001b[0m \n"
     ]
    },
    {
     "name": "stdout",
     "output_type": "stream",
     "text": [
      "Result for __network_generator_80ca4_00006:\n",
      "  _metric:\n",
      "    alpha: 0.1\n",
      "    epochs: 1000\n",
      "    middle_layer_size: 8\n",
      "    number_of_layers: 3\n",
      "  date: 2022-05-15_21-39-23\n",
      "  done: true\n",
      "  experiment_id: 5a3d7945e3b045b19c0d5b63fc9ff43b\n",
      "  hostname: Ghallab\n",
      "  iterations_since_restore: 1\n",
      "  mean_accuracy: 0.9722222222222222\n",
      "  node_ip: 192.168.1.105\n",
      "  pid: 6264\n",
      "  time_since_restore: 79.30284190177917\n",
      "  time_this_iter_s: 79.30284190177917\n",
      "  time_total_s: 79.30284190177917\n",
      "  timestamp: 1652643563\n",
      "  timesteps_since_restore: 0\n",
      "  training_iteration: 1\n",
      "  trial_id: 80ca4_00006\n",
      "  \n"
     ]
    },
    {
     "name": "stderr",
     "output_type": "stream",
     "text": [
      "\u001b[2m\u001b[36m(pid=6264)\u001b[0m Windows fatal exception: access violation\n",
      "\u001b[2m\u001b[36m(pid=6264)\u001b[0m \n"
     ]
    },
    {
     "name": "stdout",
     "output_type": "stream",
     "text": [
      "Result for __network_generator_80ca4_00004:\n",
      "  _metric:\n",
      "    alpha: 0.001\n",
      "    epochs: 1000\n",
      "    middle_layer_size: 8\n",
      "    number_of_layers: 3\n",
      "  date: 2022-05-15_21-39-23\n",
      "  done: true\n",
      "  experiment_id: 411a241a30854127af074a30e8e80510\n",
      "  hostname: Ghallab\n",
      "  iterations_since_restore: 1\n",
      "  mean_accuracy: 0.9444444444444444\n",
      "  node_ip: 192.168.1.105\n",
      "  pid: 11700\n",
      "  time_since_restore: 79.78654742240906\n",
      "  time_this_iter_s: 79.78654742240906\n",
      "  time_total_s: 79.78654742240906\n",
      "  timestamp: 1652643563\n",
      "  timesteps_since_restore: 0\n",
      "  training_iteration: 1\n",
      "  trial_id: 80ca4_00004\n",
      "  \n"
     ]
    },
    {
     "name": "stderr",
     "output_type": "stream",
     "text": [
      "\u001b[2m\u001b[36m(pid=11700)\u001b[0m Windows fatal exception: access violation\n",
      "\u001b[2m\u001b[36m(pid=11700)\u001b[0m \n"
     ]
    },
    {
     "name": "stdout",
     "output_type": "stream",
     "text": [
      "Result for __network_generator_80ca4_00008:\n",
      "  _metric:\n",
      "    alpha: 0.001\n",
      "    epochs: 500\n",
      "    middle_layer_size: 8\n",
      "    number_of_layers: 4\n",
      "  date: 2022-05-15_21-39-37\n",
      "  done: true\n",
      "  experiment_id: d0182ebcd85242ffa8f46bfbb6e12fba\n",
      "  hostname: Ghallab\n",
      "  iterations_since_restore: 1\n",
      "  mean_accuracy: 0.9444444444444444\n",
      "  node_ip: 192.168.1.105\n",
      "  pid: 6008\n",
      "  time_since_restore: 45.002604484558105\n",
      "  time_this_iter_s: 45.002604484558105\n",
      "  time_total_s: 45.002604484558105\n",
      "  timestamp: 1652643577\n",
      "  timesteps_since_restore: 0\n",
      "  training_iteration: 1\n",
      "  trial_id: 80ca4_00008\n",
      "  \n"
     ]
    },
    {
     "data": {
      "text/html": [
       "== Status ==<br>Memory usage on this node: 6.1/7.9 GiB<br>Using AsyncHyperBand: num_stopped=0\n",
       "Bracket: Iter 64.000: None | Iter 16.000: None | Iter 4.000: None | Iter 1.000: 0.9722222222222222<br>Resources requested: 7.0/8 CPUs, 0/0 GPUs, 0.0/1.08 GiB heap, 0.0/0.54 GiB objects<br>Current best trial: 80ca4_00002 with mean_accuracy=0.9722222222222222 and parameters={'number_of_layers': 3, 'middle_layer_size': 8, 'epochs': 500, 'alpha': 0.1}<br>Result logdir: C:\\Users\\Mohamed Ghallab\\ray_results\\my_exp<br>Number of trials: 16/16 (7 RUNNING, 9 TERMINATED)<br><table>\n",
       "<thead>\n",
       "<tr><th>Trial name                     </th><th>status    </th><th>loc  </th><th style=\"text-align: right;\">  alpha</th><th style=\"text-align: right;\">  epochs</th><th style=\"text-align: right;\">  middle_layer_size</th><th style=\"text-align: right;\">  number_of_layers</th><th style=\"text-align: right;\">     acc</th><th style=\"text-align: right;\">  iter</th><th style=\"text-align: right;\">  total time (s)</th></tr>\n",
       "</thead>\n",
       "<tbody>\n",
       "<tr><td>__network_generator_80ca4_00009</td><td>RUNNING   </td><td>     </td><td style=\"text-align: right;\">  0.01 </td><td style=\"text-align: right;\">     500</td><td style=\"text-align: right;\">                  8</td><td style=\"text-align: right;\">                 4</td><td style=\"text-align: right;\">        </td><td style=\"text-align: right;\">      </td><td style=\"text-align: right;\">                </td></tr>\n",
       "<tr><td>__network_generator_80ca4_00010</td><td>RUNNING   </td><td>     </td><td style=\"text-align: right;\">  0.1  </td><td style=\"text-align: right;\">     500</td><td style=\"text-align: right;\">                  8</td><td style=\"text-align: right;\">                 4</td><td style=\"text-align: right;\">        </td><td style=\"text-align: right;\">      </td><td style=\"text-align: right;\">                </td></tr>\n",
       "<tr><td>__network_generator_80ca4_00011</td><td>RUNNING   </td><td>     </td><td style=\"text-align: right;\">  1    </td><td style=\"text-align: right;\">     500</td><td style=\"text-align: right;\">                  8</td><td style=\"text-align: right;\">                 4</td><td style=\"text-align: right;\">        </td><td style=\"text-align: right;\">      </td><td style=\"text-align: right;\">                </td></tr>\n",
       "<tr><td>__network_generator_80ca4_00012</td><td>RUNNING   </td><td>     </td><td style=\"text-align: right;\">  0.001</td><td style=\"text-align: right;\">    1000</td><td style=\"text-align: right;\">                  8</td><td style=\"text-align: right;\">                 4</td><td style=\"text-align: right;\">        </td><td style=\"text-align: right;\">      </td><td style=\"text-align: right;\">                </td></tr>\n",
       "<tr><td>__network_generator_80ca4_00013</td><td>RUNNING   </td><td>     </td><td style=\"text-align: right;\">  0.01 </td><td style=\"text-align: right;\">    1000</td><td style=\"text-align: right;\">                  8</td><td style=\"text-align: right;\">                 4</td><td style=\"text-align: right;\">        </td><td style=\"text-align: right;\">      </td><td style=\"text-align: right;\">                </td></tr>\n",
       "<tr><td>__network_generator_80ca4_00014</td><td>RUNNING   </td><td>     </td><td style=\"text-align: right;\">  0.1  </td><td style=\"text-align: right;\">    1000</td><td style=\"text-align: right;\">                  8</td><td style=\"text-align: right;\">                 4</td><td style=\"text-align: right;\">        </td><td style=\"text-align: right;\">      </td><td style=\"text-align: right;\">                </td></tr>\n",
       "<tr><td>__network_generator_80ca4_00015</td><td>RUNNING   </td><td>     </td><td style=\"text-align: right;\">  1    </td><td style=\"text-align: right;\">    1000</td><td style=\"text-align: right;\">                  8</td><td style=\"text-align: right;\">                 4</td><td style=\"text-align: right;\">        </td><td style=\"text-align: right;\">      </td><td style=\"text-align: right;\">                </td></tr>\n",
       "<tr><td>__network_generator_80ca4_00000</td><td>TERMINATED</td><td>     </td><td style=\"text-align: right;\">  0.001</td><td style=\"text-align: right;\">     500</td><td style=\"text-align: right;\">                  8</td><td style=\"text-align: right;\">                 3</td><td style=\"text-align: right;\">0.944444</td><td style=\"text-align: right;\">     1</td><td style=\"text-align: right;\">         34.032 </td></tr>\n",
       "<tr><td>__network_generator_80ca4_00001</td><td>TERMINATED</td><td>     </td><td style=\"text-align: right;\">  0.01 </td><td style=\"text-align: right;\">     500</td><td style=\"text-align: right;\">                  8</td><td style=\"text-align: right;\">                 3</td><td style=\"text-align: right;\">0.944444</td><td style=\"text-align: right;\">     1</td><td style=\"text-align: right;\">         40.5585</td></tr>\n",
       "<tr><td>__network_generator_80ca4_00002</td><td>TERMINATED</td><td>     </td><td style=\"text-align: right;\">  0.1  </td><td style=\"text-align: right;\">     500</td><td style=\"text-align: right;\">                  8</td><td style=\"text-align: right;\">                 3</td><td style=\"text-align: right;\">0.972222</td><td style=\"text-align: right;\">     1</td><td style=\"text-align: right;\">         39.8424</td></tr>\n",
       "<tr><td>__network_generator_80ca4_00003</td><td>TERMINATED</td><td>     </td><td style=\"text-align: right;\">  1    </td><td style=\"text-align: right;\">     500</td><td style=\"text-align: right;\">                  8</td><td style=\"text-align: right;\">                 3</td><td style=\"text-align: right;\">0.972222</td><td style=\"text-align: right;\">     1</td><td style=\"text-align: right;\">         40.0548</td></tr>\n",
       "<tr><td>__network_generator_80ca4_00004</td><td>TERMINATED</td><td>     </td><td style=\"text-align: right;\">  0.001</td><td style=\"text-align: right;\">    1000</td><td style=\"text-align: right;\">                  8</td><td style=\"text-align: right;\">                 3</td><td style=\"text-align: right;\">0.944444</td><td style=\"text-align: right;\">     1</td><td style=\"text-align: right;\">         79.7865</td></tr>\n",
       "<tr><td>__network_generator_80ca4_00005</td><td>TERMINATED</td><td>     </td><td style=\"text-align: right;\">  0.01 </td><td style=\"text-align: right;\">    1000</td><td style=\"text-align: right;\">                  8</td><td style=\"text-align: right;\">                 3</td><td style=\"text-align: right;\">0.972222</td><td style=\"text-align: right;\">     1</td><td style=\"text-align: right;\">         79.1084</td></tr>\n",
       "<tr><td>__network_generator_80ca4_00006</td><td>TERMINATED</td><td>     </td><td style=\"text-align: right;\">  0.1  </td><td style=\"text-align: right;\">    1000</td><td style=\"text-align: right;\">                  8</td><td style=\"text-align: right;\">                 3</td><td style=\"text-align: right;\">0.972222</td><td style=\"text-align: right;\">     1</td><td style=\"text-align: right;\">         79.3028</td></tr>\n",
       "<tr><td>__network_generator_80ca4_00007</td><td>TERMINATED</td><td>     </td><td style=\"text-align: right;\">  1    </td><td style=\"text-align: right;\">    1000</td><td style=\"text-align: right;\">                  8</td><td style=\"text-align: right;\">                 3</td><td style=\"text-align: right;\">0.944444</td><td style=\"text-align: right;\">     1</td><td style=\"text-align: right;\">         72.8411</td></tr>\n",
       "<tr><td>__network_generator_80ca4_00008</td><td>TERMINATED</td><td>     </td><td style=\"text-align: right;\">  0.001</td><td style=\"text-align: right;\">     500</td><td style=\"text-align: right;\">                  8</td><td style=\"text-align: right;\">                 4</td><td style=\"text-align: right;\">0.944444</td><td style=\"text-align: right;\">     1</td><td style=\"text-align: right;\">         45.0026</td></tr>\n",
       "</tbody>\n",
       "</table><br><br>"
      ],
      "text/plain": [
       "<IPython.core.display.HTML object>"
      ]
     },
     "metadata": {},
     "output_type": "display_data"
    },
    {
     "name": "stderr",
     "output_type": "stream",
     "text": [
      "\u001b[2m\u001b[36m(pid=6008)\u001b[0m Windows fatal exception: access violation\n",
      "\u001b[2m\u001b[36m(pid=6008)\u001b[0m \n"
     ]
    },
    {
     "name": "stdout",
     "output_type": "stream",
     "text": [
      "Result for __network_generator_80ca4_00009:\n",
      "  _metric:\n",
      "    alpha: 0.01\n",
      "    epochs: 500\n",
      "    middle_layer_size: 8\n",
      "    number_of_layers: 4\n",
      "  date: 2022-05-15_21-39-46\n",
      "  done: true\n",
      "  experiment_id: cabe48fdc96b4528ba9fa6b9149f8669\n",
      "  hostname: Ghallab\n",
      "  iterations_since_restore: 1\n",
      "  mean_accuracy: 0.9444444444444444\n",
      "  node_ip: 192.168.1.105\n",
      "  pid: 10096\n",
      "  time_since_restore: 47.30544352531433\n",
      "  time_this_iter_s: 47.30544352531433\n",
      "  time_total_s: 47.30544352531433\n",
      "  timestamp: 1652643586\n",
      "  timesteps_since_restore: 0\n",
      "  training_iteration: 1\n",
      "  trial_id: 80ca4_00009\n",
      "  \n"
     ]
    },
    {
     "data": {
      "text/html": [
       "== Status ==<br>Memory usage on this node: 6.1/7.9 GiB<br>Using AsyncHyperBand: num_stopped=0\n",
       "Bracket: Iter 64.000: None | Iter 16.000: None | Iter 4.000: None | Iter 1.000: 0.9722222222222222<br>Resources requested: 6.0/8 CPUs, 0/0 GPUs, 0.0/1.08 GiB heap, 0.0/0.54 GiB objects<br>Current best trial: 80ca4_00002 with mean_accuracy=0.9722222222222222 and parameters={'number_of_layers': 3, 'middle_layer_size': 8, 'epochs': 500, 'alpha': 0.1}<br>Result logdir: C:\\Users\\Mohamed Ghallab\\ray_results\\my_exp<br>Number of trials: 16/16 (6 RUNNING, 10 TERMINATED)<br><table>\n",
       "<thead>\n",
       "<tr><th>Trial name                     </th><th>status    </th><th>loc  </th><th style=\"text-align: right;\">  alpha</th><th style=\"text-align: right;\">  epochs</th><th style=\"text-align: right;\">  middle_layer_size</th><th style=\"text-align: right;\">  number_of_layers</th><th style=\"text-align: right;\">     acc</th><th style=\"text-align: right;\">  iter</th><th style=\"text-align: right;\">  total time (s)</th></tr>\n",
       "</thead>\n",
       "<tbody>\n",
       "<tr><td>__network_generator_80ca4_00010</td><td>RUNNING   </td><td>     </td><td style=\"text-align: right;\">  0.1  </td><td style=\"text-align: right;\">     500</td><td style=\"text-align: right;\">                  8</td><td style=\"text-align: right;\">                 4</td><td style=\"text-align: right;\">        </td><td style=\"text-align: right;\">      </td><td style=\"text-align: right;\">                </td></tr>\n",
       "<tr><td>__network_generator_80ca4_00011</td><td>RUNNING   </td><td>     </td><td style=\"text-align: right;\">  1    </td><td style=\"text-align: right;\">     500</td><td style=\"text-align: right;\">                  8</td><td style=\"text-align: right;\">                 4</td><td style=\"text-align: right;\">        </td><td style=\"text-align: right;\">      </td><td style=\"text-align: right;\">                </td></tr>\n",
       "<tr><td>__network_generator_80ca4_00012</td><td>RUNNING   </td><td>     </td><td style=\"text-align: right;\">  0.001</td><td style=\"text-align: right;\">    1000</td><td style=\"text-align: right;\">                  8</td><td style=\"text-align: right;\">                 4</td><td style=\"text-align: right;\">        </td><td style=\"text-align: right;\">      </td><td style=\"text-align: right;\">                </td></tr>\n",
       "<tr><td>__network_generator_80ca4_00013</td><td>RUNNING   </td><td>     </td><td style=\"text-align: right;\">  0.01 </td><td style=\"text-align: right;\">    1000</td><td style=\"text-align: right;\">                  8</td><td style=\"text-align: right;\">                 4</td><td style=\"text-align: right;\">        </td><td style=\"text-align: right;\">      </td><td style=\"text-align: right;\">                </td></tr>\n",
       "<tr><td>__network_generator_80ca4_00014</td><td>RUNNING   </td><td>     </td><td style=\"text-align: right;\">  0.1  </td><td style=\"text-align: right;\">    1000</td><td style=\"text-align: right;\">                  8</td><td style=\"text-align: right;\">                 4</td><td style=\"text-align: right;\">        </td><td style=\"text-align: right;\">      </td><td style=\"text-align: right;\">                </td></tr>\n",
       "<tr><td>__network_generator_80ca4_00015</td><td>RUNNING   </td><td>     </td><td style=\"text-align: right;\">  1    </td><td style=\"text-align: right;\">    1000</td><td style=\"text-align: right;\">                  8</td><td style=\"text-align: right;\">                 4</td><td style=\"text-align: right;\">        </td><td style=\"text-align: right;\">      </td><td style=\"text-align: right;\">                </td></tr>\n",
       "<tr><td>__network_generator_80ca4_00000</td><td>TERMINATED</td><td>     </td><td style=\"text-align: right;\">  0.001</td><td style=\"text-align: right;\">     500</td><td style=\"text-align: right;\">                  8</td><td style=\"text-align: right;\">                 3</td><td style=\"text-align: right;\">0.944444</td><td style=\"text-align: right;\">     1</td><td style=\"text-align: right;\">         34.032 </td></tr>\n",
       "<tr><td>__network_generator_80ca4_00001</td><td>TERMINATED</td><td>     </td><td style=\"text-align: right;\">  0.01 </td><td style=\"text-align: right;\">     500</td><td style=\"text-align: right;\">                  8</td><td style=\"text-align: right;\">                 3</td><td style=\"text-align: right;\">0.944444</td><td style=\"text-align: right;\">     1</td><td style=\"text-align: right;\">         40.5585</td></tr>\n",
       "<tr><td>__network_generator_80ca4_00002</td><td>TERMINATED</td><td>     </td><td style=\"text-align: right;\">  0.1  </td><td style=\"text-align: right;\">     500</td><td style=\"text-align: right;\">                  8</td><td style=\"text-align: right;\">                 3</td><td style=\"text-align: right;\">0.972222</td><td style=\"text-align: right;\">     1</td><td style=\"text-align: right;\">         39.8424</td></tr>\n",
       "<tr><td>__network_generator_80ca4_00003</td><td>TERMINATED</td><td>     </td><td style=\"text-align: right;\">  1    </td><td style=\"text-align: right;\">     500</td><td style=\"text-align: right;\">                  8</td><td style=\"text-align: right;\">                 3</td><td style=\"text-align: right;\">0.972222</td><td style=\"text-align: right;\">     1</td><td style=\"text-align: right;\">         40.0548</td></tr>\n",
       "<tr><td>__network_generator_80ca4_00004</td><td>TERMINATED</td><td>     </td><td style=\"text-align: right;\">  0.001</td><td style=\"text-align: right;\">    1000</td><td style=\"text-align: right;\">                  8</td><td style=\"text-align: right;\">                 3</td><td style=\"text-align: right;\">0.944444</td><td style=\"text-align: right;\">     1</td><td style=\"text-align: right;\">         79.7865</td></tr>\n",
       "<tr><td>__network_generator_80ca4_00005</td><td>TERMINATED</td><td>     </td><td style=\"text-align: right;\">  0.01 </td><td style=\"text-align: right;\">    1000</td><td style=\"text-align: right;\">                  8</td><td style=\"text-align: right;\">                 3</td><td style=\"text-align: right;\">0.972222</td><td style=\"text-align: right;\">     1</td><td style=\"text-align: right;\">         79.1084</td></tr>\n",
       "<tr><td>__network_generator_80ca4_00006</td><td>TERMINATED</td><td>     </td><td style=\"text-align: right;\">  0.1  </td><td style=\"text-align: right;\">    1000</td><td style=\"text-align: right;\">                  8</td><td style=\"text-align: right;\">                 3</td><td style=\"text-align: right;\">0.972222</td><td style=\"text-align: right;\">     1</td><td style=\"text-align: right;\">         79.3028</td></tr>\n",
       "<tr><td>__network_generator_80ca4_00007</td><td>TERMINATED</td><td>     </td><td style=\"text-align: right;\">  1    </td><td style=\"text-align: right;\">    1000</td><td style=\"text-align: right;\">                  8</td><td style=\"text-align: right;\">                 3</td><td style=\"text-align: right;\">0.944444</td><td style=\"text-align: right;\">     1</td><td style=\"text-align: right;\">         72.8411</td></tr>\n",
       "<tr><td>__network_generator_80ca4_00008</td><td>TERMINATED</td><td>     </td><td style=\"text-align: right;\">  0.001</td><td style=\"text-align: right;\">     500</td><td style=\"text-align: right;\">                  8</td><td style=\"text-align: right;\">                 4</td><td style=\"text-align: right;\">0.944444</td><td style=\"text-align: right;\">     1</td><td style=\"text-align: right;\">         45.0026</td></tr>\n",
       "<tr><td>__network_generator_80ca4_00009</td><td>TERMINATED</td><td>     </td><td style=\"text-align: right;\">  0.01 </td><td style=\"text-align: right;\">     500</td><td style=\"text-align: right;\">                  8</td><td style=\"text-align: right;\">                 4</td><td style=\"text-align: right;\">0.944444</td><td style=\"text-align: right;\">     1</td><td style=\"text-align: right;\">         47.3054</td></tr>\n",
       "</tbody>\n",
       "</table><br><br>"
      ],
      "text/plain": [
       "<IPython.core.display.HTML object>"
      ]
     },
     "metadata": {},
     "output_type": "display_data"
    },
    {
     "name": "stderr",
     "output_type": "stream",
     "text": [
      "\u001b[2m\u001b[36m(pid=10096)\u001b[0m Windows fatal exception: access violation\n",
      "\u001b[2m\u001b[36m(pid=10096)\u001b[0m \n"
     ]
    },
    {
     "name": "stdout",
     "output_type": "stream",
     "text": [
      "Result for __network_generator_80ca4_00011:\n",
      "  _metric:\n",
      "    alpha: 1\n",
      "    epochs: 500\n",
      "    middle_layer_size: 8\n",
      "    number_of_layers: 4\n",
      "  date: 2022-05-15_21-39-47\n",
      "  done: true\n",
      "  experiment_id: 319e3eb215ee4e9f82a64f254a6f199d\n",
      "  hostname: Ghallab\n",
      "  iterations_since_restore: 1\n",
      "  mean_accuracy: 0.9722222222222222\n",
      "  node_ip: 192.168.1.105\n",
      "  pid: 12836\n",
      "  time_since_restore: 48.019532680511475\n",
      "  time_this_iter_s: 48.019532680511475\n",
      "  time_total_s: 48.019532680511475\n",
      "  timestamp: 1652643587\n",
      "  timesteps_since_restore: 0\n",
      "  training_iteration: 1\n",
      "  trial_id: 80ca4_00011\n",
      "  \n"
     ]
    },
    {
     "name": "stderr",
     "output_type": "stream",
     "text": [
      "\u001b[2m\u001b[36m(pid=12836)\u001b[0m Windows fatal exception: access violation\n",
      "\u001b[2m\u001b[36m(pid=12836)\u001b[0m \n"
     ]
    },
    {
     "name": "stdout",
     "output_type": "stream",
     "text": [
      "Result for __network_generator_80ca4_00010:\n",
      "  _metric:\n",
      "    alpha: 0.1\n",
      "    epochs: 500\n",
      "    middle_layer_size: 8\n",
      "    number_of_layers: 4\n",
      "  date: 2022-05-15_21-39-49\n",
      "  done: true\n",
      "  experiment_id: d0a2ee55502042968c4af95621bc17c8\n",
      "  hostname: Ghallab\n",
      "  iterations_since_restore: 1\n",
      "  mean_accuracy: 0.9444444444444444\n",
      "  node_ip: 192.168.1.105\n",
      "  pid: 9896\n",
      "  time_since_restore: 50.86591815948486\n",
      "  time_this_iter_s: 50.86591815948486\n",
      "  time_total_s: 50.86591815948486\n",
      "  timestamp: 1652643589\n",
      "  timesteps_since_restore: 0\n",
      "  training_iteration: 1\n",
      "  trial_id: 80ca4_00010\n",
      "  \n"
     ]
    },
    {
     "name": "stderr",
     "output_type": "stream",
     "text": [
      "\u001b[2m\u001b[36m(pid=9896)\u001b[0m Windows fatal exception: access violation\n",
      "\u001b[2m\u001b[36m(pid=9896)\u001b[0m \n"
     ]
    },
    {
     "name": "stdout",
     "output_type": "stream",
     "text": [
      "Result for __network_generator_80ca4_00012:\n",
      "  _metric:\n",
      "    alpha: 0.001\n",
      "    epochs: 1000\n",
      "    middle_layer_size: 8\n",
      "    number_of_layers: 4\n",
      "  date: 2022-05-15_21-40-51\n",
      "  done: true\n",
      "  experiment_id: c4995ed79fee467681c84821e7a73898\n",
      "  hostname: Ghallab\n",
      "  iterations_since_restore: 1\n",
      "  mean_accuracy: 0.9444444444444444\n",
      "  node_ip: 192.168.1.105\n",
      "  pid: 5248\n",
      "  time_since_restore: 82.78253173828125\n",
      "  time_this_iter_s: 82.78253173828125\n",
      "  time_total_s: 82.78253173828125\n",
      "  timestamp: 1652643651\n",
      "  timesteps_since_restore: 0\n",
      "  training_iteration: 1\n",
      "  trial_id: 80ca4_00012\n",
      "  \n"
     ]
    },
    {
     "data": {
      "text/html": [
       "== Status ==<br>Memory usage on this node: 6.1/7.9 GiB<br>Using AsyncHyperBand: num_stopped=0\n",
       "Bracket: Iter 64.000: None | Iter 16.000: None | Iter 4.000: None | Iter 1.000: 0.9722222222222222<br>Resources requested: 3.0/8 CPUs, 0/0 GPUs, 0.0/1.08 GiB heap, 0.0/0.54 GiB objects<br>Current best trial: 80ca4_00002 with mean_accuracy=0.9722222222222222 and parameters={'number_of_layers': 3, 'middle_layer_size': 8, 'epochs': 500, 'alpha': 0.1}<br>Result logdir: C:\\Users\\Mohamed Ghallab\\ray_results\\my_exp<br>Number of trials: 16/16 (3 RUNNING, 13 TERMINATED)<br><table>\n",
       "<thead>\n",
       "<tr><th>Trial name                     </th><th>status    </th><th>loc  </th><th style=\"text-align: right;\">  alpha</th><th style=\"text-align: right;\">  epochs</th><th style=\"text-align: right;\">  middle_layer_size</th><th style=\"text-align: right;\">  number_of_layers</th><th style=\"text-align: right;\">     acc</th><th style=\"text-align: right;\">  iter</th><th style=\"text-align: right;\">  total time (s)</th></tr>\n",
       "</thead>\n",
       "<tbody>\n",
       "<tr><td>__network_generator_80ca4_00013</td><td>RUNNING   </td><td>     </td><td style=\"text-align: right;\">  0.01 </td><td style=\"text-align: right;\">    1000</td><td style=\"text-align: right;\">                  8</td><td style=\"text-align: right;\">                 4</td><td style=\"text-align: right;\">        </td><td style=\"text-align: right;\">      </td><td style=\"text-align: right;\">                </td></tr>\n",
       "<tr><td>__network_generator_80ca4_00014</td><td>RUNNING   </td><td>     </td><td style=\"text-align: right;\">  0.1  </td><td style=\"text-align: right;\">    1000</td><td style=\"text-align: right;\">                  8</td><td style=\"text-align: right;\">                 4</td><td style=\"text-align: right;\">        </td><td style=\"text-align: right;\">      </td><td style=\"text-align: right;\">                </td></tr>\n",
       "<tr><td>__network_generator_80ca4_00015</td><td>RUNNING   </td><td>     </td><td style=\"text-align: right;\">  1    </td><td style=\"text-align: right;\">    1000</td><td style=\"text-align: right;\">                  8</td><td style=\"text-align: right;\">                 4</td><td style=\"text-align: right;\">        </td><td style=\"text-align: right;\">      </td><td style=\"text-align: right;\">                </td></tr>\n",
       "<tr><td>__network_generator_80ca4_00000</td><td>TERMINATED</td><td>     </td><td style=\"text-align: right;\">  0.001</td><td style=\"text-align: right;\">     500</td><td style=\"text-align: right;\">                  8</td><td style=\"text-align: right;\">                 3</td><td style=\"text-align: right;\">0.944444</td><td style=\"text-align: right;\">     1</td><td style=\"text-align: right;\">         34.032 </td></tr>\n",
       "<tr><td>__network_generator_80ca4_00001</td><td>TERMINATED</td><td>     </td><td style=\"text-align: right;\">  0.01 </td><td style=\"text-align: right;\">     500</td><td style=\"text-align: right;\">                  8</td><td style=\"text-align: right;\">                 3</td><td style=\"text-align: right;\">0.944444</td><td style=\"text-align: right;\">     1</td><td style=\"text-align: right;\">         40.5585</td></tr>\n",
       "<tr><td>__network_generator_80ca4_00002</td><td>TERMINATED</td><td>     </td><td style=\"text-align: right;\">  0.1  </td><td style=\"text-align: right;\">     500</td><td style=\"text-align: right;\">                  8</td><td style=\"text-align: right;\">                 3</td><td style=\"text-align: right;\">0.972222</td><td style=\"text-align: right;\">     1</td><td style=\"text-align: right;\">         39.8424</td></tr>\n",
       "<tr><td>__network_generator_80ca4_00003</td><td>TERMINATED</td><td>     </td><td style=\"text-align: right;\">  1    </td><td style=\"text-align: right;\">     500</td><td style=\"text-align: right;\">                  8</td><td style=\"text-align: right;\">                 3</td><td style=\"text-align: right;\">0.972222</td><td style=\"text-align: right;\">     1</td><td style=\"text-align: right;\">         40.0548</td></tr>\n",
       "<tr><td>__network_generator_80ca4_00004</td><td>TERMINATED</td><td>     </td><td style=\"text-align: right;\">  0.001</td><td style=\"text-align: right;\">    1000</td><td style=\"text-align: right;\">                  8</td><td style=\"text-align: right;\">                 3</td><td style=\"text-align: right;\">0.944444</td><td style=\"text-align: right;\">     1</td><td style=\"text-align: right;\">         79.7865</td></tr>\n",
       "<tr><td>__network_generator_80ca4_00005</td><td>TERMINATED</td><td>     </td><td style=\"text-align: right;\">  0.01 </td><td style=\"text-align: right;\">    1000</td><td style=\"text-align: right;\">                  8</td><td style=\"text-align: right;\">                 3</td><td style=\"text-align: right;\">0.972222</td><td style=\"text-align: right;\">     1</td><td style=\"text-align: right;\">         79.1084</td></tr>\n",
       "<tr><td>__network_generator_80ca4_00006</td><td>TERMINATED</td><td>     </td><td style=\"text-align: right;\">  0.1  </td><td style=\"text-align: right;\">    1000</td><td style=\"text-align: right;\">                  8</td><td style=\"text-align: right;\">                 3</td><td style=\"text-align: right;\">0.972222</td><td style=\"text-align: right;\">     1</td><td style=\"text-align: right;\">         79.3028</td></tr>\n",
       "<tr><td>__network_generator_80ca4_00007</td><td>TERMINATED</td><td>     </td><td style=\"text-align: right;\">  1    </td><td style=\"text-align: right;\">    1000</td><td style=\"text-align: right;\">                  8</td><td style=\"text-align: right;\">                 3</td><td style=\"text-align: right;\">0.944444</td><td style=\"text-align: right;\">     1</td><td style=\"text-align: right;\">         72.8411</td></tr>\n",
       "<tr><td>__network_generator_80ca4_00008</td><td>TERMINATED</td><td>     </td><td style=\"text-align: right;\">  0.001</td><td style=\"text-align: right;\">     500</td><td style=\"text-align: right;\">                  8</td><td style=\"text-align: right;\">                 4</td><td style=\"text-align: right;\">0.944444</td><td style=\"text-align: right;\">     1</td><td style=\"text-align: right;\">         45.0026</td></tr>\n",
       "<tr><td>__network_generator_80ca4_00009</td><td>TERMINATED</td><td>     </td><td style=\"text-align: right;\">  0.01 </td><td style=\"text-align: right;\">     500</td><td style=\"text-align: right;\">                  8</td><td style=\"text-align: right;\">                 4</td><td style=\"text-align: right;\">0.944444</td><td style=\"text-align: right;\">     1</td><td style=\"text-align: right;\">         47.3054</td></tr>\n",
       "<tr><td>__network_generator_80ca4_00010</td><td>TERMINATED</td><td>     </td><td style=\"text-align: right;\">  0.1  </td><td style=\"text-align: right;\">     500</td><td style=\"text-align: right;\">                  8</td><td style=\"text-align: right;\">                 4</td><td style=\"text-align: right;\">0.944444</td><td style=\"text-align: right;\">     1</td><td style=\"text-align: right;\">         50.8659</td></tr>\n",
       "<tr><td>__network_generator_80ca4_00011</td><td>TERMINATED</td><td>     </td><td style=\"text-align: right;\">  1    </td><td style=\"text-align: right;\">     500</td><td style=\"text-align: right;\">                  8</td><td style=\"text-align: right;\">                 4</td><td style=\"text-align: right;\">0.972222</td><td style=\"text-align: right;\">     1</td><td style=\"text-align: right;\">         48.0195</td></tr>\n",
       "<tr><td>__network_generator_80ca4_00012</td><td>TERMINATED</td><td>     </td><td style=\"text-align: right;\">  0.001</td><td style=\"text-align: right;\">    1000</td><td style=\"text-align: right;\">                  8</td><td style=\"text-align: right;\">                 4</td><td style=\"text-align: right;\">0.944444</td><td style=\"text-align: right;\">     1</td><td style=\"text-align: right;\">         82.7825</td></tr>\n",
       "</tbody>\n",
       "</table><br><br>"
      ],
      "text/plain": [
       "<IPython.core.display.HTML object>"
      ]
     },
     "metadata": {},
     "output_type": "display_data"
    },
    {
     "name": "stderr",
     "output_type": "stream",
     "text": [
      "\u001b[2m\u001b[36m(pid=5248)\u001b[0m Windows fatal exception: access violation\n",
      "\u001b[2m\u001b[36m(pid=5248)\u001b[0m \n"
     ]
    },
    {
     "name": "stdout",
     "output_type": "stream",
     "text": [
      "Result for __network_generator_80ca4_00014:\n",
      "  _metric:\n",
      "    alpha: 0.1\n",
      "    epochs: 1000\n",
      "    middle_layer_size: 8\n",
      "    number_of_layers: 4\n",
      "  date: 2022-05-15_21-40-55\n",
      "  done: true\n",
      "  experiment_id: b954dbbecf48459a809d5a1faceeb557\n",
      "  hostname: Ghallab\n",
      "  iterations_since_restore: 1\n",
      "  mean_accuracy: 0.9722222222222222\n",
      "  node_ip: 192.168.1.105\n",
      "  pid: 11824\n",
      "  time_since_restore: 66.8152482509613\n",
      "  time_this_iter_s: 66.8152482509613\n",
      "  time_total_s: 66.8152482509613\n",
      "  timestamp: 1652643655\n",
      "  timesteps_since_restore: 0\n",
      "  training_iteration: 1\n",
      "  trial_id: 80ca4_00014\n",
      "  \n"
     ]
    },
    {
     "name": "stderr",
     "output_type": "stream",
     "text": [
      "\u001b[2m\u001b[36m(pid=11824)\u001b[0m Windows fatal exception: access violation\n",
      "\u001b[2m\u001b[36m(pid=11824)\u001b[0m \n"
     ]
    },
    {
     "name": "stdout",
     "output_type": "stream",
     "text": [
      "Result for __network_generator_80ca4_00013:\n",
      "  _metric:\n",
      "    alpha: 0.01\n",
      "    epochs: 1000\n",
      "    middle_layer_size: 8\n",
      "    number_of_layers: 4\n",
      "  date: 2022-05-15_21-40-55\n",
      "  done: true\n",
      "  experiment_id: fa67c71b77a941e9a6975e5f8a7d0f81\n",
      "  hostname: Ghallab\n",
      "  iterations_since_restore: 1\n",
      "  mean_accuracy: 0.9722222222222222\n",
      "  node_ip: 192.168.1.105\n",
      "  pid: 3260\n",
      "  time_since_restore: 66.65168714523315\n",
      "  time_this_iter_s: 66.65168714523315\n",
      "  time_total_s: 66.65168714523315\n",
      "  timestamp: 1652643655\n",
      "  timesteps_since_restore: 0\n",
      "  training_iteration: 1\n",
      "  trial_id: 80ca4_00013\n",
      "  \n"
     ]
    },
    {
     "name": "stderr",
     "output_type": "stream",
     "text": [
      "\u001b[2m\u001b[36m(pid=3260)\u001b[0m Windows fatal exception: access violation\n",
      "\u001b[2m\u001b[36m(pid=3260)\u001b[0m \n"
     ]
    },
    {
     "name": "stdout",
     "output_type": "stream",
     "text": [
      "Result for __network_generator_80ca4_00015:\n",
      "  _metric:\n",
      "    alpha: 1\n",
      "    epochs: 1000\n",
      "    middle_layer_size: 8\n",
      "    number_of_layers: 4\n",
      "  date: 2022-05-15_21-40-56\n",
      "  done: true\n",
      "  experiment_id: d45e3b8660614d11a83e01e5427f9c85\n",
      "  hostname: Ghallab\n",
      "  iterations_since_restore: 1\n",
      "  mean_accuracy: 0.9722222222222222\n",
      "  node_ip: 192.168.1.105\n",
      "  pid: 10852\n",
      "  time_since_restore: 67.54429888725281\n",
      "  time_this_iter_s: 67.54429888725281\n",
      "  time_total_s: 67.54429888725281\n",
      "  timestamp: 1652643656\n",
      "  timesteps_since_restore: 0\n",
      "  training_iteration: 1\n",
      "  trial_id: 80ca4_00015\n",
      "  \n"
     ]
    },
    {
     "data": {
      "text/html": [
       "== Status ==<br>Memory usage on this node: 5.9/7.9 GiB<br>Using AsyncHyperBand: num_stopped=0\n",
       "Bracket: Iter 64.000: None | Iter 16.000: None | Iter 4.000: None | Iter 1.000: 0.9722222222222222<br>Resources requested: 0/8 CPUs, 0/0 GPUs, 0.0/1.08 GiB heap, 0.0/0.54 GiB objects<br>Current best trial: 80ca4_00002 with mean_accuracy=0.9722222222222222 and parameters={'number_of_layers': 3, 'middle_layer_size': 8, 'epochs': 500, 'alpha': 0.1}<br>Result logdir: C:\\Users\\Mohamed Ghallab\\ray_results\\my_exp<br>Number of trials: 16/16 (16 TERMINATED)<br><table>\n",
       "<thead>\n",
       "<tr><th>Trial name                     </th><th>status    </th><th>loc  </th><th style=\"text-align: right;\">  alpha</th><th style=\"text-align: right;\">  epochs</th><th style=\"text-align: right;\">  middle_layer_size</th><th style=\"text-align: right;\">  number_of_layers</th><th style=\"text-align: right;\">     acc</th><th style=\"text-align: right;\">  iter</th><th style=\"text-align: right;\">  total time (s)</th></tr>\n",
       "</thead>\n",
       "<tbody>\n",
       "<tr><td>__network_generator_80ca4_00000</td><td>TERMINATED</td><td>     </td><td style=\"text-align: right;\">  0.001</td><td style=\"text-align: right;\">     500</td><td style=\"text-align: right;\">                  8</td><td style=\"text-align: right;\">                 3</td><td style=\"text-align: right;\">0.944444</td><td style=\"text-align: right;\">     1</td><td style=\"text-align: right;\">         34.032 </td></tr>\n",
       "<tr><td>__network_generator_80ca4_00001</td><td>TERMINATED</td><td>     </td><td style=\"text-align: right;\">  0.01 </td><td style=\"text-align: right;\">     500</td><td style=\"text-align: right;\">                  8</td><td style=\"text-align: right;\">                 3</td><td style=\"text-align: right;\">0.944444</td><td style=\"text-align: right;\">     1</td><td style=\"text-align: right;\">         40.5585</td></tr>\n",
       "<tr><td>__network_generator_80ca4_00002</td><td>TERMINATED</td><td>     </td><td style=\"text-align: right;\">  0.1  </td><td style=\"text-align: right;\">     500</td><td style=\"text-align: right;\">                  8</td><td style=\"text-align: right;\">                 3</td><td style=\"text-align: right;\">0.972222</td><td style=\"text-align: right;\">     1</td><td style=\"text-align: right;\">         39.8424</td></tr>\n",
       "<tr><td>__network_generator_80ca4_00003</td><td>TERMINATED</td><td>     </td><td style=\"text-align: right;\">  1    </td><td style=\"text-align: right;\">     500</td><td style=\"text-align: right;\">                  8</td><td style=\"text-align: right;\">                 3</td><td style=\"text-align: right;\">0.972222</td><td style=\"text-align: right;\">     1</td><td style=\"text-align: right;\">         40.0548</td></tr>\n",
       "<tr><td>__network_generator_80ca4_00004</td><td>TERMINATED</td><td>     </td><td style=\"text-align: right;\">  0.001</td><td style=\"text-align: right;\">    1000</td><td style=\"text-align: right;\">                  8</td><td style=\"text-align: right;\">                 3</td><td style=\"text-align: right;\">0.944444</td><td style=\"text-align: right;\">     1</td><td style=\"text-align: right;\">         79.7865</td></tr>\n",
       "<tr><td>__network_generator_80ca4_00005</td><td>TERMINATED</td><td>     </td><td style=\"text-align: right;\">  0.01 </td><td style=\"text-align: right;\">    1000</td><td style=\"text-align: right;\">                  8</td><td style=\"text-align: right;\">                 3</td><td style=\"text-align: right;\">0.972222</td><td style=\"text-align: right;\">     1</td><td style=\"text-align: right;\">         79.1084</td></tr>\n",
       "<tr><td>__network_generator_80ca4_00006</td><td>TERMINATED</td><td>     </td><td style=\"text-align: right;\">  0.1  </td><td style=\"text-align: right;\">    1000</td><td style=\"text-align: right;\">                  8</td><td style=\"text-align: right;\">                 3</td><td style=\"text-align: right;\">0.972222</td><td style=\"text-align: right;\">     1</td><td style=\"text-align: right;\">         79.3028</td></tr>\n",
       "<tr><td>__network_generator_80ca4_00007</td><td>TERMINATED</td><td>     </td><td style=\"text-align: right;\">  1    </td><td style=\"text-align: right;\">    1000</td><td style=\"text-align: right;\">                  8</td><td style=\"text-align: right;\">                 3</td><td style=\"text-align: right;\">0.944444</td><td style=\"text-align: right;\">     1</td><td style=\"text-align: right;\">         72.8411</td></tr>\n",
       "<tr><td>__network_generator_80ca4_00008</td><td>TERMINATED</td><td>     </td><td style=\"text-align: right;\">  0.001</td><td style=\"text-align: right;\">     500</td><td style=\"text-align: right;\">                  8</td><td style=\"text-align: right;\">                 4</td><td style=\"text-align: right;\">0.944444</td><td style=\"text-align: right;\">     1</td><td style=\"text-align: right;\">         45.0026</td></tr>\n",
       "<tr><td>__network_generator_80ca4_00009</td><td>TERMINATED</td><td>     </td><td style=\"text-align: right;\">  0.01 </td><td style=\"text-align: right;\">     500</td><td style=\"text-align: right;\">                  8</td><td style=\"text-align: right;\">                 4</td><td style=\"text-align: right;\">0.944444</td><td style=\"text-align: right;\">     1</td><td style=\"text-align: right;\">         47.3054</td></tr>\n",
       "<tr><td>__network_generator_80ca4_00010</td><td>TERMINATED</td><td>     </td><td style=\"text-align: right;\">  0.1  </td><td style=\"text-align: right;\">     500</td><td style=\"text-align: right;\">                  8</td><td style=\"text-align: right;\">                 4</td><td style=\"text-align: right;\">0.944444</td><td style=\"text-align: right;\">     1</td><td style=\"text-align: right;\">         50.8659</td></tr>\n",
       "<tr><td>__network_generator_80ca4_00011</td><td>TERMINATED</td><td>     </td><td style=\"text-align: right;\">  1    </td><td style=\"text-align: right;\">     500</td><td style=\"text-align: right;\">                  8</td><td style=\"text-align: right;\">                 4</td><td style=\"text-align: right;\">0.972222</td><td style=\"text-align: right;\">     1</td><td style=\"text-align: right;\">         48.0195</td></tr>\n",
       "<tr><td>__network_generator_80ca4_00012</td><td>TERMINATED</td><td>     </td><td style=\"text-align: right;\">  0.001</td><td style=\"text-align: right;\">    1000</td><td style=\"text-align: right;\">                  8</td><td style=\"text-align: right;\">                 4</td><td style=\"text-align: right;\">0.944444</td><td style=\"text-align: right;\">     1</td><td style=\"text-align: right;\">         82.7825</td></tr>\n",
       "<tr><td>__network_generator_80ca4_00013</td><td>TERMINATED</td><td>     </td><td style=\"text-align: right;\">  0.01 </td><td style=\"text-align: right;\">    1000</td><td style=\"text-align: right;\">                  8</td><td style=\"text-align: right;\">                 4</td><td style=\"text-align: right;\">0.972222</td><td style=\"text-align: right;\">     1</td><td style=\"text-align: right;\">         66.6517</td></tr>\n",
       "<tr><td>__network_generator_80ca4_00014</td><td>TERMINATED</td><td>     </td><td style=\"text-align: right;\">  0.1  </td><td style=\"text-align: right;\">    1000</td><td style=\"text-align: right;\">                  8</td><td style=\"text-align: right;\">                 4</td><td style=\"text-align: right;\">0.972222</td><td style=\"text-align: right;\">     1</td><td style=\"text-align: right;\">         66.8152</td></tr>\n",
       "<tr><td>__network_generator_80ca4_00015</td><td>TERMINATED</td><td>     </td><td style=\"text-align: right;\">  1    </td><td style=\"text-align: right;\">    1000</td><td style=\"text-align: right;\">                  8</td><td style=\"text-align: right;\">                 4</td><td style=\"text-align: right;\">0.972222</td><td style=\"text-align: right;\">     1</td><td style=\"text-align: right;\">         67.5443</td></tr>\n",
       "</tbody>\n",
       "</table><br><br>"
      ],
      "text/plain": [
       "<IPython.core.display.HTML object>"
      ]
     },
     "metadata": {},
     "output_type": "display_data"
    },
    {
     "name": "stderr",
     "output_type": "stream",
     "text": [
      "\u001b[2m\u001b[36m(pid=10852)\u001b[0m Windows fatal exception: access violation\n",
      "\u001b[2m\u001b[36m(pid=10852)\u001b[0m \n"
     ]
    },
    {
     "data": {
      "text/html": [
       "== Status ==<br>Memory usage on this node: 5.8/7.9 GiB<br>Using AsyncHyperBand: num_stopped=0\n",
       "Bracket: Iter 64.000: None | Iter 16.000: None | Iter 4.000: None | Iter 1.000: 0.9722222222222222<br>Resources requested: 0/8 CPUs, 0/0 GPUs, 0.0/1.08 GiB heap, 0.0/0.54 GiB objects<br>Current best trial: 80ca4_00002 with mean_accuracy=0.9722222222222222 and parameters={'number_of_layers': 3, 'middle_layer_size': 8, 'epochs': 500, 'alpha': 0.1}<br>Result logdir: C:\\Users\\Mohamed Ghallab\\ray_results\\my_exp<br>Number of trials: 16/16 (16 TERMINATED)<br><table>\n",
       "<thead>\n",
       "<tr><th>Trial name                     </th><th>status    </th><th>loc  </th><th style=\"text-align: right;\">  alpha</th><th style=\"text-align: right;\">  epochs</th><th style=\"text-align: right;\">  middle_layer_size</th><th style=\"text-align: right;\">  number_of_layers</th><th style=\"text-align: right;\">     acc</th><th style=\"text-align: right;\">  iter</th><th style=\"text-align: right;\">  total time (s)</th></tr>\n",
       "</thead>\n",
       "<tbody>\n",
       "<tr><td>__network_generator_80ca4_00000</td><td>TERMINATED</td><td>     </td><td style=\"text-align: right;\">  0.001</td><td style=\"text-align: right;\">     500</td><td style=\"text-align: right;\">                  8</td><td style=\"text-align: right;\">                 3</td><td style=\"text-align: right;\">0.944444</td><td style=\"text-align: right;\">     1</td><td style=\"text-align: right;\">         34.032 </td></tr>\n",
       "<tr><td>__network_generator_80ca4_00001</td><td>TERMINATED</td><td>     </td><td style=\"text-align: right;\">  0.01 </td><td style=\"text-align: right;\">     500</td><td style=\"text-align: right;\">                  8</td><td style=\"text-align: right;\">                 3</td><td style=\"text-align: right;\">0.944444</td><td style=\"text-align: right;\">     1</td><td style=\"text-align: right;\">         40.5585</td></tr>\n",
       "<tr><td>__network_generator_80ca4_00002</td><td>TERMINATED</td><td>     </td><td style=\"text-align: right;\">  0.1  </td><td style=\"text-align: right;\">     500</td><td style=\"text-align: right;\">                  8</td><td style=\"text-align: right;\">                 3</td><td style=\"text-align: right;\">0.972222</td><td style=\"text-align: right;\">     1</td><td style=\"text-align: right;\">         39.8424</td></tr>\n",
       "<tr><td>__network_generator_80ca4_00003</td><td>TERMINATED</td><td>     </td><td style=\"text-align: right;\">  1    </td><td style=\"text-align: right;\">     500</td><td style=\"text-align: right;\">                  8</td><td style=\"text-align: right;\">                 3</td><td style=\"text-align: right;\">0.972222</td><td style=\"text-align: right;\">     1</td><td style=\"text-align: right;\">         40.0548</td></tr>\n",
       "<tr><td>__network_generator_80ca4_00004</td><td>TERMINATED</td><td>     </td><td style=\"text-align: right;\">  0.001</td><td style=\"text-align: right;\">    1000</td><td style=\"text-align: right;\">                  8</td><td style=\"text-align: right;\">                 3</td><td style=\"text-align: right;\">0.944444</td><td style=\"text-align: right;\">     1</td><td style=\"text-align: right;\">         79.7865</td></tr>\n",
       "<tr><td>__network_generator_80ca4_00005</td><td>TERMINATED</td><td>     </td><td style=\"text-align: right;\">  0.01 </td><td style=\"text-align: right;\">    1000</td><td style=\"text-align: right;\">                  8</td><td style=\"text-align: right;\">                 3</td><td style=\"text-align: right;\">0.972222</td><td style=\"text-align: right;\">     1</td><td style=\"text-align: right;\">         79.1084</td></tr>\n",
       "<tr><td>__network_generator_80ca4_00006</td><td>TERMINATED</td><td>     </td><td style=\"text-align: right;\">  0.1  </td><td style=\"text-align: right;\">    1000</td><td style=\"text-align: right;\">                  8</td><td style=\"text-align: right;\">                 3</td><td style=\"text-align: right;\">0.972222</td><td style=\"text-align: right;\">     1</td><td style=\"text-align: right;\">         79.3028</td></tr>\n",
       "<tr><td>__network_generator_80ca4_00007</td><td>TERMINATED</td><td>     </td><td style=\"text-align: right;\">  1    </td><td style=\"text-align: right;\">    1000</td><td style=\"text-align: right;\">                  8</td><td style=\"text-align: right;\">                 3</td><td style=\"text-align: right;\">0.944444</td><td style=\"text-align: right;\">     1</td><td style=\"text-align: right;\">         72.8411</td></tr>\n",
       "<tr><td>__network_generator_80ca4_00008</td><td>TERMINATED</td><td>     </td><td style=\"text-align: right;\">  0.001</td><td style=\"text-align: right;\">     500</td><td style=\"text-align: right;\">                  8</td><td style=\"text-align: right;\">                 4</td><td style=\"text-align: right;\">0.944444</td><td style=\"text-align: right;\">     1</td><td style=\"text-align: right;\">         45.0026</td></tr>\n",
       "<tr><td>__network_generator_80ca4_00009</td><td>TERMINATED</td><td>     </td><td style=\"text-align: right;\">  0.01 </td><td style=\"text-align: right;\">     500</td><td style=\"text-align: right;\">                  8</td><td style=\"text-align: right;\">                 4</td><td style=\"text-align: right;\">0.944444</td><td style=\"text-align: right;\">     1</td><td style=\"text-align: right;\">         47.3054</td></tr>\n",
       "<tr><td>__network_generator_80ca4_00010</td><td>TERMINATED</td><td>     </td><td style=\"text-align: right;\">  0.1  </td><td style=\"text-align: right;\">     500</td><td style=\"text-align: right;\">                  8</td><td style=\"text-align: right;\">                 4</td><td style=\"text-align: right;\">0.944444</td><td style=\"text-align: right;\">     1</td><td style=\"text-align: right;\">         50.8659</td></tr>\n",
       "<tr><td>__network_generator_80ca4_00011</td><td>TERMINATED</td><td>     </td><td style=\"text-align: right;\">  1    </td><td style=\"text-align: right;\">     500</td><td style=\"text-align: right;\">                  8</td><td style=\"text-align: right;\">                 4</td><td style=\"text-align: right;\">0.972222</td><td style=\"text-align: right;\">     1</td><td style=\"text-align: right;\">         48.0195</td></tr>\n",
       "<tr><td>__network_generator_80ca4_00012</td><td>TERMINATED</td><td>     </td><td style=\"text-align: right;\">  0.001</td><td style=\"text-align: right;\">    1000</td><td style=\"text-align: right;\">                  8</td><td style=\"text-align: right;\">                 4</td><td style=\"text-align: right;\">0.944444</td><td style=\"text-align: right;\">     1</td><td style=\"text-align: right;\">         82.7825</td></tr>\n",
       "<tr><td>__network_generator_80ca4_00013</td><td>TERMINATED</td><td>     </td><td style=\"text-align: right;\">  0.01 </td><td style=\"text-align: right;\">    1000</td><td style=\"text-align: right;\">                  8</td><td style=\"text-align: right;\">                 4</td><td style=\"text-align: right;\">0.972222</td><td style=\"text-align: right;\">     1</td><td style=\"text-align: right;\">         66.6517</td></tr>\n",
       "<tr><td>__network_generator_80ca4_00014</td><td>TERMINATED</td><td>     </td><td style=\"text-align: right;\">  0.1  </td><td style=\"text-align: right;\">    1000</td><td style=\"text-align: right;\">                  8</td><td style=\"text-align: right;\">                 4</td><td style=\"text-align: right;\">0.972222</td><td style=\"text-align: right;\">     1</td><td style=\"text-align: right;\">         66.8152</td></tr>\n",
       "<tr><td>__network_generator_80ca4_00015</td><td>TERMINATED</td><td>     </td><td style=\"text-align: right;\">  1    </td><td style=\"text-align: right;\">    1000</td><td style=\"text-align: right;\">                  8</td><td style=\"text-align: right;\">                 4</td><td style=\"text-align: right;\">0.972222</td><td style=\"text-align: right;\">     1</td><td style=\"text-align: right;\">         67.5443</td></tr>\n",
       "</tbody>\n",
       "</table><br><br>"
      ],
      "text/plain": [
       "<IPython.core.display.HTML object>"
      ]
     },
     "metadata": {},
     "output_type": "display_data"
    },
    {
     "name": "stderr",
     "output_type": "stream",
     "text": [
      "2022-05-15 21:40:56,816\tINFO tune.py:561 -- Total run time: 187.52 seconds (187.33 seconds for the tuning loop).\n"
     ]
    }
   ],
   "source": [
    "network_generator = NetworkGenerator(X_train, y_train, X_test, y_test, \"Classification\")\n",
    "network = network_generator.get_best_network()\n",
    "#sizes = network_generator.interpolate_hidden_layer_sizes(128, 5)\n",
    "#print(sizes)"
   ]
  },
  {
   "cell_type": "code",
   "execution_count": 16,
   "metadata": {},
   "outputs": [
    {
     "name": "stdout",
     "output_type": "stream",
     "text": [
      "0.9722222222222222 0.9722222222222222 {'number_of_layers': 3, 'middle_layer_size': 8, 'epochs': 500, 'alpha': 0.1}\n"
     ]
    },
    {
     "name": "stderr",
     "output_type": "stream",
     "text": [
      "\u001b[2m\u001b[36m(pid=None)\u001b[0m E0516 17:14:48.271000000 15352 external/com_github_grpc_grpc/src/core/ext/transport/chttp2/transport/chttp2_transport.cc:2876] ipv4:192.168.1.105:64222: Keepalive watchdog fired. Closing transport.\n"
     ]
    }
   ],
   "source": [
    "y_pred = np.array(network[0].predict(X_test))\n",
    "print(accuracy_score(y_test, y_pred.round()), network[1], network[2])"
   ]
  }
 ],
 "metadata": {
  "interpreter": {
   "hash": "7b9bf3d753fefe854781e52229fcc2b6d37fd5cec0eed166290fc2ac2cd3389d"
  },
  "kernelspec": {
   "display_name": "Python 3.8.8 ('base')",
   "language": "python",
   "name": "python3"
  },
  "language_info": {
   "codemirror_mode": {
    "name": "ipython",
    "version": 3
   },
   "file_extension": ".py",
   "mimetype": "text/x-python",
   "name": "python",
   "nbconvert_exporter": "python",
   "pygments_lexer": "ipython3",
   "version": "3.8.8"
  },
  "orig_nbformat": 4
 },
 "nbformat": 4,
 "nbformat_minor": 2
}
