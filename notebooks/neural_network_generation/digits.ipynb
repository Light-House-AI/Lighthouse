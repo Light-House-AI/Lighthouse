{
 "cells": [
  {
   "cell_type": "code",
   "execution_count": 1,
   "metadata": {},
   "outputs": [],
   "source": [
    "import numpy as np\n",
    "from sklearn.preprocessing import StandardScaler\n",
    "from ...server.automl.neural_network.neural_network import NeuralNetwork\n",
    "from ...server.automl.neural_network.fc_layer import FCLayer\n",
    "from ...server.automl.neural_network.activation_layer import ActivationLayer\n",
    "from ...server.automl.neural_network.activation_functions import tanh, tanh_derivative, relu, relu_derivative, sigmoid, sigmoid_derivative\n",
    "from ...server.automl.neural_network.loss_functions import mse, mse_derivative, cross_entropy_binary, cross_entropy_binary_derivative, cross_entropy_multi_class, cross_entropy_multi_class_derivative\n",
    "from sklearn.datasets import load_digits\n",
    "from sklearn.model_selection import train_test_split\n",
    "from sklearn.neural_network import MLPClassifier\n",
    "from sklearn.metrics import accuracy_score\n",
    "from keras.utils import np_utils"
   ]
  },
  {
   "cell_type": "code",
   "execution_count": 2,
   "metadata": {},
   "outputs": [
    {
     "name": "stdout",
     "output_type": "stream",
     "text": [
      "(1797, 64) (1797,)\n",
      "(1437, 64) (360, 64) (1437, 10) (360, 10)\n"
     ]
    }
   ],
   "source": [
    "#Lodaing data\n",
    "X, Y = load_digits(return_X_y=True)\n",
    "print(X.shape, Y.shape)\n",
    "X_train, X_test, y_train, y_test = train_test_split(X,Y, test_size=0.2)\n",
    "#Normalizing data\n",
    "scaler = StandardScaler()\n",
    "scaler.fit(X_train)\n",
    "X_train = scaler.transform(X_train)\n",
    "X_test = scaler.transform(X_test)\n",
    "#Reshaping for the neural network\n",
    "#X_train = X_train.reshape(X_train.shape[0], 1, X_train.shape[1])\n",
    "#X_test = X_test.reshape(X_test.shape[0], 1, X_test.shape[1])\n",
    "y_train = np_utils.to_categorical(y_train)\n",
    "y_test = np_utils.to_categorical(y_test)\n",
    "print(X_train.shape, X_test.shape, y_train.shape, y_test.shape)"
   ]
  },
  {
   "cell_type": "code",
   "execution_count": 3,
   "metadata": {},
   "outputs": [
    {
     "name": "stderr",
     "output_type": "stream",
     "text": [
      "c:\\Users\\Mohamed Ghallab\\Desktop\\GP\\AutoML\\notebooks\\neural_network_generation\\activation_functions.py:11: RuntimeWarning: overflow encountered in exp\n",
      "  return 1/(1+np.exp(-x))\n"
     ]
    }
   ],
   "source": [
    "network = NeuralNetwork()\n",
    "network.add(FCLayer(X_train.shape[1], 5))\n",
    "network.add(ActivationLayer(relu, relu_derivative))\n",
    "network.add(FCLayer(5, 2))\n",
    "network.add(ActivationLayer(relu, relu_derivative))\n",
    "network.add(FCLayer(2, 10))\n",
    "network.add(ActivationLayer(sigmoid, sigmoid_derivative))\n",
    "network.use(mse, mse_derivative)\n",
    "network.fit(X_train, y_train, epochs=1000, learning_rate=0.1)\n",
    "y_pred = np.array(network.predict(X_test))"
   ]
  },
  {
   "cell_type": "code",
   "execution_count": 4,
   "metadata": {},
   "outputs": [
    {
     "name": "stdout",
     "output_type": "stream",
     "text": [
      "[[0. 0. 0. 0. 0. 0. 0. 1. 0. 0.]\n",
      " [0. 0. 1. 0. 0. 0. 0. 0. 0. 0.]\n",
      " [0. 0. 0. 0. 1. 0. 0. 0. 0. 0.]] (360, 10)\n",
      "[[0. 0. 0. 0. 0. 0. 0. 0. 0. 0.]\n",
      " [0. 0. 1. 0. 0. 0. 0. 0. 0. 0.]\n",
      " [0. 0. 0. 0. 0. 0. 0. 0. 0. 0.]] (360, 10)\n",
      "0.5638888888888889\n"
     ]
    }
   ],
   "source": [
    "y_pred = y_pred.round()\n",
    "print(y_test[0:3], y_test.shape)\n",
    "print(y_pred[0:3], y_pred.shape)\n",
    "print(accuracy_score(y_test, y_pred.round()))"
   ]
  },
  {
   "cell_type": "code",
   "execution_count": 7,
   "metadata": {},
   "outputs": [
    {
     "name": "stdout",
     "output_type": "stream",
     "text": [
      "0.37222222222222223\n"
     ]
    }
   ],
   "source": [
    "clf = MLPClassifier(solver='lbfgs', alpha=0.1,\n",
    "                                            hidden_layer_sizes=(5,2),\n",
    "                                            max_iter=90000,activation='relu')\n",
    "clf.fit(X_train, y_train)\n",
    "y_pred_sk = clf.predict(X_test)\n",
    "print(accuracy_score(y_test, y_pred_sk))"
   ]
  }
 ],
 "metadata": {
  "interpreter": {
   "hash": "7b9bf3d753fefe854781e52229fcc2b6d37fd5cec0eed166290fc2ac2cd3389d"
  },
  "kernelspec": {
   "display_name": "Python 3.8.8 ('base')",
   "language": "python",
   "name": "python3"
  },
  "language_info": {
   "codemirror_mode": {
    "name": "ipython",
    "version": 3
   },
   "file_extension": ".py",
   "mimetype": "text/x-python",
   "name": "python",
   "nbconvert_exporter": "python",
   "pygments_lexer": "ipython3",
   "version": "3.8.8"
  },
  "orig_nbformat": 4
 },
 "nbformat": 4,
 "nbformat_minor": 2
}
