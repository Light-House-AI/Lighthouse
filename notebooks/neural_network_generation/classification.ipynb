{
 "cells": [
  {
   "cell_type": "code",
   "execution_count": 1,
   "metadata": {},
   "outputs": [],
   "source": [
    "import numpy as np\n",
    "import matplotlib.pyplot as plt\n",
    "import sklearn\n",
    "from skopt import *\n",
    "import ray\n",
    "from ray import tune\n",
    "from sklearn import *"
   ]
  },
  {
   "cell_type": "markdown",
   "metadata": {},
   "source": [
    "### Wine DataSet"
   ]
  },
  {
   "cell_type": "code",
   "execution_count": null,
   "metadata": {},
   "outputs": [],
   "source": [
    "X, Y = datasets.load_wine(return_X_y=True)\n",
    "print(X.shape, Y.shape)\n",
    "X_train, X_test, y_train, y_test = sklearn.model_selection.train_test_split(X,Y, test_size=0.2)\n",
    "print(X_train.shape, X_test.shape, y_train.shape, y_test.shape)"
   ]
  },
  {
   "cell_type": "code",
   "execution_count": null,
   "metadata": {},
   "outputs": [],
   "source": [
    "def my_func(config, reporter):  # add the reporter parameter\n",
    "      # report the configuration\n",
    "    clf = sklearn.neural_network.MLPClassifier(solver='lbfgs', alpha=config[\"alpha\"],\n",
    "                                            hidden_layer_sizes=config[\"hidden_layer_sizes\"],\n",
    "                                            max_iter=90000,activation='relu',random_state=1)\n",
    "    clf.fit(X_train, y_train)\n",
    "    y_pred = clf.predict(X_test)\n",
    "    reporter(config, mean_accuracy = sklearn.metrics.accuracy_score(y_test, y_pred))\n",
    "    print(sklearn.metrics.accuracy_score(y_test, y_pred))\n",
    "    \n",
    "tune.register_trainable(\"my_func\", my_func)\n",
    "ray.shutdown()\n",
    "ray.init()\n",
    "\n",
    "res = tune.run_experiments({\n",
    "    \"my_experiment\": {\n",
    "        \"run\": \"my_func\",\n",
    "        \"stop\": { \"mean_accuracy\": 0.6 },\n",
    "        \"config\": {\n",
    "            \"alpha\": tune.grid_search([0.1, 0.2]),\n",
    "            \"hidden_layer_sizes\": tune.grid_search([(5,2), (10,2)]),\n",
    "        }\n",
    "    }\n",
    "})"
   ]
  }
 ],
 "metadata": {
  "interpreter": {
   "hash": "3b0a75e1e8c8df83b79b22f512952d44650f65096437aa6f941abdf019394d61"
  },
  "kernelspec": {
   "display_name": "Python 3.8.8 ('base')",
   "language": "python",
   "name": "python3"
  },
  "language_info": {
   "codemirror_mode": {
    "name": "ipython",
    "version": 3
   },
   "file_extension": ".py",
   "mimetype": "text/x-python",
   "name": "python",
   "nbconvert_exporter": "python",
   "pygments_lexer": "ipython3",
   "version": "3.8.8"
  },
  "orig_nbformat": 4
 },
 "nbformat": 4,
 "nbformat_minor": 2
}
