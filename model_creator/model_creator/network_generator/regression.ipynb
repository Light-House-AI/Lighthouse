{
 "cells": [
  {
   "cell_type": "code",
   "execution_count": 1,
   "metadata": {},
   "outputs": [],
   "source": [
    "import numpy as np\n",
    "import pandas as pd\n",
    "from network_generator import NetworkGenerator\n",
    "from neural_network import NeuralNetwork\n",
    "from fc_layer import FCLayer\n",
    "from activation_layer import ActivationLayer\n",
    "from activation_functions import tanh, tanh_derivative, relu, relu_derivative, identity, identity_derivative\n",
    "from loss_functions import mse, mse_derivative\n",
    "from sklearn.model_selection import train_test_split \n",
    "from sklearn.metrics import mean_squared_log_error\n",
    "from sklearn.neural_network import MLPRegressor"
   ]
  },
  {
   "cell_type": "code",
   "execution_count": 2,
   "metadata": {},
   "outputs": [],
   "source": [
    "data = pd.read_csv('../../../datasets/cleaned_datasets/cars_final.csv')"
   ]
  },
  {
   "cell_type": "code",
   "execution_count": 4,
   "metadata": {},
   "outputs": [],
   "source": [
    "X_train, X_test, y_train, y_test = train_test_split(\n",
    "    data.loc[:, data.columns != \"price\"], data[\"price\"], test_size=0.20)\n",
    "X_train = np.asarray(X_train)\n",
    "y_train = np.asarray(y_train)\n",
    "X_test = np.asarray(X_test)\n",
    "y_test = np.asarray(y_test)"
   ]
  },
  {
   "cell_type": "code",
   "execution_count": 4,
   "metadata": {},
   "outputs": [
    {
     "name": "stdout",
     "output_type": "stream",
     "text": [
      "0.1554998866427396\n"
     ]
    }
   ],
   "source": [
    "clf = MLPRegressor(solver='sgd', alpha=0.1,\n",
    "                                            hidden_layer_sizes=(5,2),\n",
    "                                            max_iter=90000,activation='tanh', random_state=0)\n",
    "clf.fit(X_train, y_train)\n",
    "y_pred = clf.predict(X_test)\n",
    "print(mean_squared_log_error(y_test, y_pred)) # clf.loss_curve_ ,clf.best_loss_, "
   ]
  },
  {
   "cell_type": "code",
   "execution_count": 5,
   "metadata": {},
   "outputs": [
    {
     "name": "stdout",
     "output_type": "stream",
     "text": [
      "epoch 1/2000   error=68861093.524462\n",
      "epoch 2/2000   error=295425209.379401\n",
      "epoch 3/2000   error=88859150.078399\n",
      "epoch 4/2000   error=51761315.660298\n",
      "epoch 5/2000   error=41684872.927505\n",
      "epoch 6/2000   error=40684725.344521\n",
      "epoch 7/2000   error=40552061.641834\n",
      "epoch 8/2000   error=40550683.444592\n",
      "epoch 9/2000   error=40740708.814005\n",
      "epoch 10/2000   error=40219798.777785\n",
      "epoch 11/2000   error=40335303.520933\n",
      "epoch 12/2000   error=40346413.626481\n",
      "epoch 13/2000   error=40077095.456696\n",
      "epoch 14/2000   error=39964442.362951\n",
      "epoch 15/2000   error=40096445.287945\n",
      "epoch 16/2000   error=40286401.065997\n",
      "epoch 17/2000   error=40058414.027090\n",
      "epoch 18/2000   error=40061095.614303\n",
      "[19888. 22599. 29000. ... 12490. 17498. 20000.] (1447,)\n",
      "[[23777.80919947]\n",
      " [23777.80919947]\n",
      " [23777.80919947]\n",
      " ...\n",
      " [13811.47747262]\n",
      " [23777.80919947]\n",
      " [23777.80919947]] (1447, 1)\n",
      "0.07999429592839183\n"
     ]
    }
   ],
   "source": [
    "\n",
    "network = NeuralNetwork()\n",
    "hidden_layer_sizes = [X_train.shape[1], 38, 36, 32, 22, 16, 1]\n",
    "#hidden_layer_sizes = [X_train.shape[1], 5,2, 1]\n",
    "for i in range(len(hidden_layer_sizes) - 1):\n",
    "    network.add(FCLayer(hidden_layer_sizes[i], hidden_layer_sizes[i + 1]))\n",
    "    if i < len(hidden_layer_sizes) - 2:\n",
    "        network.add(ActivationLayer(tanh, tanh_derivative))\n",
    "network.add(ActivationLayer(identity, identity_derivative))\n",
    "network.use(mse, mse_derivative)\n",
    "network.fit(X_train, y_train, epochs=2000, learning_rate=0.01, batch_size=16)\n",
    "y_pred = np.array(network.predict(X_test))\n",
    "print(y_test, y_test.shape)\n",
    "print(y_pred, y_pred.shape)\n",
    "print(mean_squared_log_error(y_test, y_pred))"
   ]
  },
  {
   "cell_type": "code",
   "execution_count": 5,
   "metadata": {},
   "outputs": [
    {
     "name": "stdout",
     "output_type": "stream",
     "text": [
      "[14995. 19930. 10799. ... 23000. 33500. 15399.] (1447,)\n",
      "[[21217.17178641]\n",
      " [21217.17178641]\n",
      " [21217.17178641]\n",
      " ...\n",
      " [21217.17178641]\n",
      " [21217.17178641]\n",
      " [21217.17178641]] (1447, 1)\n",
      "0.15513629650086247\n"
     ]
    }
   ],
   "source": [
    "network = NeuralNetwork()\n",
    "network.add(FCLayer(X_train.shape[1], 5))\n",
    "network.add(ActivationLayer(tanh, tanh_derivative))\n",
    "network.add(FCLayer(5, 2))\n",
    "network.add(ActivationLayer(tanh, tanh_derivative))\n",
    "network.add(FCLayer(2, 1))\n",
    "network.add(ActivationLayer(identity, identity_derivative))\n",
    "network.use(mse, mse_derivative)\n",
    "network.fit(X_train, y_train, epochs=2000, learning_rate=0.1, batch_size=8)\n",
    "y_pred = np.array(network.predict(X_test))\n",
    "print(y_test, y_test.shape)\n",
    "print(y_pred, y_pred.shape)\n",
    "print(mean_squared_log_error(y_test, y_pred))"
   ]
  }
 ],
 "metadata": {
  "kernelspec": {
   "display_name": "Python 3.8.8 ('base')",
   "language": "python",
   "name": "python3"
  },
  "language_info": {
   "codemirror_mode": {
    "name": "ipython",
    "version": 3
   },
   "file_extension": ".py",
   "mimetype": "text/x-python",
   "name": "python",
   "nbconvert_exporter": "python",
   "pygments_lexer": "ipython3",
   "version": "3.8.8"
  },
  "orig_nbformat": 4,
  "vscode": {
   "interpreter": {
    "hash": "7b9bf3d753fefe854781e52229fcc2b6d37fd5cec0eed166290fc2ac2cd3389d"
   }
  }
 },
 "nbformat": 4,
 "nbformat_minor": 2
}
