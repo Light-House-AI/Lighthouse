{
 "cells": [
  {
   "cell_type": "code",
   "execution_count": 1,
   "metadata": {},
   "outputs": [],
   "source": [
    "import numpy as np\n",
    "import pandas as pd\n",
    "from network_generator import NetworkGenerator\n",
    "from neural_network import NeuralNetwork\n",
    "from fc_layer import FCLayer\n",
    "from activation_layer import ActivationLayer\n",
    "from activation_functions import tanh, tanh_derivative, relu, relu_derivative, identity, identity_derivative\n",
    "from loss_functions import mse, mse_derivative\n",
    "from sklearn.model_selection import train_test_split \n",
    "from sklearn.metrics import mean_squared_log_error\n",
    "from sklearn.neural_network import MLPRegressor"
   ]
  },
  {
   "cell_type": "code",
   "execution_count": 2,
   "metadata": {},
   "outputs": [
    {
     "name": "stdout",
     "output_type": "stream",
     "text": [
      "5495.0 62990.0\n"
     ]
    }
   ],
   "source": [
    "data = pd.read_csv('../../../datasets/cleaned_datasets/cars_final.csv')\n",
    "column = data[\"price\"]\n",
    "max_value = column.max()\n",
    "min_value = column.min()\n",
    "print(min_value, max_value) #5495.0 62990.0"
   ]
  },
  {
   "cell_type": "code",
   "execution_count": 3,
   "metadata": {},
   "outputs": [],
   "source": [
    "X_train, X_test, y_train, y_test = train_test_split(\n",
    "    data.loc[:, data.columns != \"price\"], data[\"price\"], test_size=0.20)\n",
    "X_train = np.asarray(X_train)\n",
    "y_train = np.asarray(y_train)\n",
    "X_test = np.asarray(X_test)\n",
    "y_test = np.asarray(y_test)"
   ]
  },
  {
   "cell_type": "code",
   "execution_count": 4,
   "metadata": {},
   "outputs": [
    {
     "name": "stdout",
     "output_type": "stream",
     "text": [
      "0.011602318797141874\n"
     ]
    }
   ],
   "source": [
    "clf = MLPRegressor(solver='lbfgs', alpha=0.01,\n",
    "                                            hidden_layer_sizes=(5,2),\n",
    "                                            max_iter=90000,activation='tanh')\n",
    "clf.fit(X_train, y_train)\n",
    "y_pred = clf.predict(X_test)\n",
    "print(mean_squared_log_error(y_test, y_pred))"
   ]
  },
  {
   "cell_type": "code",
   "execution_count": 4,
   "metadata": {},
   "outputs": [
    {
     "name": "stdout",
     "output_type": "stream",
     "text": [
      "epoch 1/2000   error=23932717284275859901370154108313102325733090169225555656911286159617222556029835754873403300252901097399350176889240158140887175235835933125606159240176599040.000000\n",
      "epoch 2/2000   error=0.000000\n",
      "epoch 3/2000   error=0.000000\n",
      "epoch 4/2000   error=0.000000\n",
      "epoch 5/2000   error=0.000000\n",
      "epoch 6/2000   error=0.000000\n",
      "[14495.  6299. 28400. ... 25995. 12995. 21950.] (1447,)\n",
      "[[0.]\n",
      " [0.]\n",
      " [0.]\n",
      " ...\n",
      " [0.]\n",
      " [0.]\n",
      " [0.]] (1447, 1)\n",
      "97.75236478948582\n"
     ]
    }
   ],
   "source": [
    "network = NeuralNetwork()\n",
    "#hidden_layer_sizes = [X_train.shape[1], 38, 36, 32, 22, 16, 1]\n",
    "hidden_layer_sizes = [X_train.shape[1], 36,32, 1]\n",
    "for i in range(len(hidden_layer_sizes) - 1):\n",
    "    network.add(FCLayer(hidden_layer_sizes[i], hidden_layer_sizes[i + 1]))\n",
    "    if i < len(hidden_layer_sizes) - 2:\n",
    "        network.add(ActivationLayer(tanh, tanh_derivative))\n",
    "network.add(ActivationLayer(identity, identity_derivative))\n",
    "network.use(mse, mse_derivative)\n",
    "network.fit(X_train, y_train, epochs=2000, learning_rate=0.1, batch_size=16)\n",
    "y_pred = np.nan_to_num(network.predict(X_test))\n",
    "print(y_test, y_test.shape)\n",
    "print(y_pred, y_pred.shape)\n",
    "print(mean_squared_log_error(y_test, y_pred))\n",
    "#y_test_true_value = y_test * (62990.0 - 5495.0) + 5495.0\n",
    "#y_pred_true_value = y_pred * (62990.0 - 5495.0) + 5495.0\n",
    "#print(mean_squared_log_error(y_test_true_value, y_pred_true_value))\n",
    "# print(y_pred_true_value)"
   ]
  },
  {
   "cell_type": "code",
   "execution_count": 33,
   "metadata": {},
   "outputs": [
    {
     "name": "stdout",
     "output_type": "stream",
     "text": [
      "[0.2781981  0.08652926 0.27019741 ... 0.18076354 0.24367336 0.33924689] (1447,)\n",
      "[[0.27317881]\n",
      " [0.27317881]\n",
      " [0.27317881]\n",
      " ...\n",
      " [0.27317881]\n",
      " [0.27317881]\n",
      " [0.27317881]] (1447, 1)\n",
      "0.011088663958199853\n"
     ]
    }
   ],
   "source": [
    "network = NeuralNetwork()\n",
    "network.add(FCLayer(X_train.shape[1], 5))\n",
    "network.add(ActivationLayer(tanh, tanh_derivative))\n",
    "network.add(FCLayer(5, 2))\n",
    "network.add(ActivationLayer(tanh, tanh_derivative))\n",
    "network.add(FCLayer(2, 1))\n",
    "network.add(ActivationLayer(identity, identity_derivative))\n",
    "network.use(mse, mse_derivative)\n",
    "network.fit(X_train, y_train, epochs=2000, learning_rate=0.001, batch_size=32)\n",
    "y_pred = np.array(network.predict(X_test))\n",
    "print(y_test, y_test.shape)\n",
    "print(y_pred, y_pred.shape)\n",
    "print(mean_squared_log_error(y_test, y_pred))"
   ]
  }
 ],
 "metadata": {
  "kernelspec": {
   "display_name": "Python 3.8.8 ('base')",
   "language": "python",
   "name": "python3"
  },
  "language_info": {
   "codemirror_mode": {
    "name": "ipython",
    "version": 3
   },
   "file_extension": ".py",
   "mimetype": "text/x-python",
   "name": "python",
   "nbconvert_exporter": "python",
   "pygments_lexer": "ipython3",
   "version": "3.8.8"
  },
  "orig_nbformat": 4,
  "vscode": {
   "interpreter": {
    "hash": "7b9bf3d753fefe854781e52229fcc2b6d37fd5cec0eed166290fc2ac2cd3389d"
   }
  }
 },
 "nbformat": 4,
 "nbformat_minor": 2
}
