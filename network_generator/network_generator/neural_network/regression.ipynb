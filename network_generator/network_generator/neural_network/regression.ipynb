{
 "cells": [
  {
   "cell_type": "code",
   "execution_count": 1,
   "metadata": {},
   "outputs": [],
   "source": [
    "import numpy as np\n",
    "import pandas as pd\n",
    "from network_generator import NetworkGenerator\n",
    "from neural_network import NeuralNetwork\n",
    "from fc_layer import FCLayer\n",
    "from activation_layer import ActivationLayer\n",
    "from activation_functions import tanh, tanh_derivative, relu, relu_derivative, identity, identity_derivative\n",
    "from loss_functions import mse, mse_derivative\n",
    "from sklearn.model_selection import train_test_split \n",
    "from sklearn.metrics import mean_squared_log_error\n",
    "from sklearn.neural_network import MLPRegressor"
   ]
  },
  {
   "cell_type": "code",
   "execution_count": 2,
   "metadata": {},
   "outputs": [],
   "source": [
    "data = pd.read_csv('../../../../datasets/cleaned_datasets/cars_final.csv')"
   ]
  },
  {
   "cell_type": "code",
   "execution_count": 3,
   "metadata": {},
   "outputs": [],
   "source": [
    "X_train, X_test, y_train, y_test = train_test_split(\n",
    "    data.loc[:, data.columns != \"price\"], data[\"price\"], test_size=0.20)\n",
    "X_train = np.asarray(X_train)\n",
    "y_train = np.asarray(y_train)\n",
    "X_test = np.asarray(X_test)\n",
    "y_test = np.asarray(y_test)"
   ]
  },
  {
   "cell_type": "code",
   "execution_count": 16,
   "metadata": {},
   "outputs": [
    {
     "name": "stdout",
     "output_type": "stream",
     "text": [
      "0.06459614405216173\n"
     ]
    },
    {
     "name": "stderr",
     "output_type": "stream",
     "text": [
      "c:\\Users\\Public\\anaconda3\\lib\\site-packages\\sklearn\\neural_network\\_multilayer_perceptron.py:500: ConvergenceWarning: lbfgs failed to converge (status=2):\n",
      "ABNORMAL_TERMINATION_IN_LNSRCH.\n",
      "\n",
      "Increase the number of iterations (max_iter) or scale the data as shown in:\n",
      "    https://scikit-learn.org/stable/modules/preprocessing.html\n",
      "  self.n_iter_ = _check_optimize_result(\"lbfgs\", opt_res, self.max_iter)\n"
     ]
    }
   ],
   "source": [
    "clf = MLPRegressor(solver='lbfgs', alpha=0.1,\n",
    "                                            hidden_layer_sizes=(5,2),\n",
    "                                            max_iter=90000,activation='tanh', random_state=0)\n",
    "clf.fit(X_train, y_train)\n",
    "y_pred = clf.predict(X_test)\n",
    "print(mean_squared_log_error(y_test, y_pred))"
   ]
  },
  {
   "cell_type": "code",
   "execution_count": 23,
   "metadata": {},
   "outputs": [
    {
     "name": "stdout",
     "output_type": "stream",
     "text": [
      "epoch 1/2000   error=139988724.889456\n",
      "epoch 2/2000   error=80890028.321493\n",
      "epoch 3/2000   error=58979256.832393\n",
      "epoch 4/2000   error=48055237.545435\n",
      "epoch 5/2000   error=46576914.888959\n",
      "epoch 6/2000   error=37199617.454284\n",
      "epoch 7/2000   error=38674441.678691\n",
      "epoch 8/2000   error=37777836.574959\n",
      "epoch 9/2000   error=37716901.004694\n",
      "epoch 10/2000   error=36936422.446418\n",
      "epoch 11/2000   error=36950873.582727\n",
      "epoch 12/2000   error=37139342.748467\n",
      "epoch 13/2000   error=37087442.293475\n",
      "epoch 14/2000   error=37006865.628513\n",
      "epoch 15/2000   error=37107811.052620\n",
      "epoch 16/2000   error=37081060.481777\n",
      "[25490. 24000. 22967. ... 62990. 20000. 31470.] (1447,)\n",
      "[[24486.22812727]\n",
      " [24486.22812727]\n",
      " [24486.22812727]\n",
      " ...\n",
      " [24486.22812727]\n",
      " [14615.45455719]\n",
      " [24486.22812727]] (1447, 1)\n",
      "0.06991184351495223\n"
     ]
    }
   ],
   "source": [
    "network = NeuralNetwork()\n",
    "network.add(FCLayer(X_train.shape[1], 5))\n",
    "network.add(ActivationLayer(tanh, tanh_derivative))\n",
    "network.add(FCLayer(5, 2))\n",
    "network.add(ActivationLayer(tanh, tanh_derivative))\n",
    "network.add(FCLayer(2, 1))\n",
    "network.add(ActivationLayer(identity, identity_derivative))\n",
    "network.use(mse, mse_derivative)\n",
    "network.fit(X_train, y_train, epochs=2000, learning_rate=0.01, batch_size=16)\n",
    "y_pred = np.array(network.predict(X_test))\n",
    "print(y_test, y_test.shape)\n",
    "print(y_pred, y_pred.shape)\n",
    "print(mean_squared_log_error(y_test, y_pred))"
   ]
  }
 ],
 "metadata": {
  "kernelspec": {
   "display_name": "Python 3.8.8 ('base')",
   "language": "python",
   "name": "python3"
  },
  "language_info": {
   "codemirror_mode": {
    "name": "ipython",
    "version": 3
   },
   "file_extension": ".py",
   "mimetype": "text/x-python",
   "name": "python",
   "nbconvert_exporter": "python",
   "pygments_lexer": "ipython3",
   "version": "3.8.8"
  },
  "orig_nbformat": 4,
  "vscode": {
   "interpreter": {
    "hash": "7b9bf3d753fefe854781e52229fcc2b6d37fd5cec0eed166290fc2ac2cd3389d"
   }
  }
 },
 "nbformat": 4,
 "nbformat_minor": 2
}
