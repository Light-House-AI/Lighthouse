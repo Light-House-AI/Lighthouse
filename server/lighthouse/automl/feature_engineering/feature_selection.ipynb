{
 "cells": [
  {
   "cell_type": "markdown",
   "metadata": {},
   "source": [
    "# Imports"
   ]
  },
  {
   "cell_type": "code",
   "execution_count": 1,
   "metadata": {},
   "outputs": [],
   "source": [
    "import numpy as np\n",
    "import pandas as pd\n",
    "import json\n",
    "import matplotlib.pyplot as plt\n",
    "import seaborn as sns\n",
    "from sklearn.feature_selection import chi2\n",
    "from sklearn.utils import as_float_array, check_X_y, safe_sqr, safe_mask\n",
    "from scipy import special\n",
    "from sklearn.model_selection import train_test_split\n",
    "from sklearn.neural_network import MLPClassifier\n",
    "from sklearn.metrics import accuracy_score, classification_report, roc_auc_score"
   ]
  },
  {
   "cell_type": "markdown",
   "metadata": {},
   "source": [
    "# Read Data"
   ]
  },
  {
   "cell_type": "code",
   "execution_count": 2,
   "metadata": {},
   "outputs": [
    {
     "name": "stdout",
     "output_type": "stream",
     "text": [
      "(825, 1625)\n"
     ]
    }
   ],
   "source": [
    "data = pd.read_csv(\"titanic_cleaned.csv\")\n",
    "print(data.shape)"
   ]
  },
  {
   "cell_type": "markdown",
   "metadata": {},
   "source": [
    "# Train A Model on All the features"
   ]
  },
  {
   "cell_type": "code",
   "execution_count": 3,
   "metadata": {},
   "outputs": [
    {
     "name": "stdout",
     "output_type": "stream",
     "text": [
      "(660, 1624) (165, 1624) (660,) (165,)\n"
     ]
    }
   ],
   "source": [
    "X_train, X_test, y_train, y_test = train_test_split(\n",
    "    data.loc[:, data.columns != 'Survived'], data[\"Survived\"], test_size=0.20, random_state=0)\n",
    "print(X_train.shape, X_test.shape, y_train.shape, y_test.shape)"
   ]
  },
  {
   "cell_type": "code",
   "execution_count": 4,
   "metadata": {},
   "outputs": [
    {
     "name": "stdout",
     "output_type": "stream",
     "text": [
      "0.8545454545454545\n",
      "              precision    recall  f1-score   support\n",
      "\n",
      "           0       0.86      0.90      0.88        98\n",
      "           1       0.84      0.79      0.82        67\n",
      "\n",
      "    accuracy                           0.85       165\n",
      "   macro avg       0.85      0.84      0.85       165\n",
      "weighted avg       0.85      0.85      0.85       165\n",
      "\n",
      "0.8445019798964362\n"
     ]
    }
   ],
   "source": [
    "clf = MLPClassifier(solver='lbfgs', alpha=0.1,\n",
    "                                            hidden_layer_sizes=(5,2),\n",
    "                                            max_iter=90000,activation='tanh',random_state=0)\n",
    "clf.fit(X_train, y_train)\n",
    "y_pred = clf.predict(X_test)\n",
    "print(accuracy_score(y_test, y_pred))\n",
    "print(classification_report(y_test, y_pred))\n",
    "print(roc_auc_score(y_test, y_pred))"
   ]
  },
  {
   "cell_type": "markdown",
   "metadata": {},
   "source": [
    "# Feature Engineering"
   ]
  },
  {
   "cell_type": "markdown",
   "metadata": {},
   "source": [
    "### Remove quasi-constant (very small variance) and zero variance"
   ]
  },
  {
   "cell_type": "code",
   "execution_count": 5,
   "metadata": {},
   "outputs": [],
   "source": [
    "data.drop(data.loc[:, data.var() < 0.01], axis = 1, inplace = True)"
   ]
  },
  {
   "cell_type": "markdown",
   "metadata": {},
   "source": [
    "### Remove duplicate features"
   ]
  },
  {
   "cell_type": "code",
   "execution_count": 6,
   "metadata": {},
   "outputs": [],
   "source": [
    "data = data.T.drop_duplicates(keep='first').T"
   ]
  },
  {
   "cell_type": "markdown",
   "metadata": {},
   "source": [
    "### Remove very strongly correlated features"
   ]
  },
  {
   "cell_type": "code",
   "execution_count": 7,
   "metadata": {},
   "outputs": [],
   "source": [
    "correlation_matrix = data.corr().abs()\n",
    "upper_tri = correlation_matrix.where(np.triu(np.ones(correlation_matrix.shape),k=1).astype(bool))\n",
    "to_drop = [column for column in upper_tri.columns if any(upper_tri[column] > 0.95)]\n",
    "data.drop(data[to_drop], axis = 1, inplace = True)"
   ]
  },
  {
   "cell_type": "markdown",
   "metadata": {},
   "source": [
    "### Feature selection using correlation"
   ]
  },
  {
   "cell_type": "code",
   "execution_count": 8,
   "metadata": {},
   "outputs": [],
   "source": [
    "operations = json.load(open('titanic_rules.json'))"
   ]
  },
  {
   "cell_type": "code",
   "execution_count": 9,
   "metadata": {},
   "outputs": [],
   "source": [
    "def f_oneway(*args):\n",
    "    n_classes = len(args)\n",
    "    args = [as_float_array(a) for a in args]\n",
    "    n_samples_per_class = np.array([a.shape[0] for a in args])\n",
    "    n_samples = np.sum(n_samples_per_class)\n",
    "    ss_alldata = sum(safe_sqr(a).sum(axis=0) for a in args)\n",
    "    sums_args = [np.asarray(a.sum(axis=0)) for a in args]\n",
    "    square_of_sums_alldata = sum(sums_args) ** 2\n",
    "    square_of_sums_args = [s ** 2 for s in sums_args]\n",
    "    sstot = ss_alldata - square_of_sums_alldata / float(n_samples)\n",
    "    ssbn = 0.\n",
    "    for k, _ in enumerate(args):\n",
    "        ssbn += square_of_sums_args[k] / n_samples_per_class[k]\n",
    "    ssbn -= square_of_sums_alldata / float(n_samples)\n",
    "    sswn = sstot - ssbn\n",
    "    dfbn = n_classes - 1\n",
    "    dfwn = n_samples - n_classes\n",
    "    msb = ssbn / float(dfbn)\n",
    "    msw = sswn / float(dfwn)\n",
    "    f = msb / (msw + 1e-15)\n",
    "    # flatten matrix to vector in sparse case\n",
    "    f = np.asarray(f).ravel()\n",
    "    prob = special.fdtrc(dfbn, dfwn, f)\n",
    "    return f, prob\n",
    "\n",
    "\n",
    "def f_classif(X, y):\n",
    "    X, y = check_X_y(X, y, accept_sparse=['csr', 'csc', 'coo'])\n",
    "    args = [X[safe_mask(X, y == k)] for k in np.unique(y)]\n",
    "    return f_oneway(*args)"
   ]
  },
  {
   "cell_type": "code",
   "execution_count": 10,
   "metadata": {},
   "outputs": [
    {
     "data": {
      "text/html": [
       "<div>\n",
       "<style scoped>\n",
       "    .dataframe tbody tr th:only-of-type {\n",
       "        vertical-align: middle;\n",
       "    }\n",
       "\n",
       "    .dataframe tbody tr th {\n",
       "        vertical-align: top;\n",
       "    }\n",
       "\n",
       "    .dataframe thead th {\n",
       "        text-align: right;\n",
       "    }\n",
       "</style>\n",
       "<table border=\"1\" class=\"dataframe\">\n",
       "  <thead>\n",
       "    <tr style=\"text-align: right;\">\n",
       "      <th></th>\n",
       "      <th>Survived</th>\n",
       "      <th>Pclass</th>\n",
       "      <th>Age</th>\n",
       "      <th>SibSp</th>\n",
       "      <th>Parch</th>\n",
       "      <th>Fare</th>\n",
       "      <th>Sex_female</th>\n",
       "      <th>Cabin_D</th>\n",
       "      <th>Embarked_C</th>\n",
       "      <th>Embarked_S</th>\n",
       "    </tr>\n",
       "  </thead>\n",
       "  <tbody>\n",
       "    <tr>\n",
       "      <th>0</th>\n",
       "      <td>0.0</td>\n",
       "      <td>3.0</td>\n",
       "      <td>-0.590510</td>\n",
       "      <td>1.0</td>\n",
       "      <td>0.0</td>\n",
       "      <td>-0.626020</td>\n",
       "      <td>0.0</td>\n",
       "      <td>1.0</td>\n",
       "      <td>0.0</td>\n",
       "      <td>1.0</td>\n",
       "    </tr>\n",
       "    <tr>\n",
       "      <th>1</th>\n",
       "      <td>1.0</td>\n",
       "      <td>1.0</td>\n",
       "      <td>0.658215</td>\n",
       "      <td>1.0</td>\n",
       "      <td>0.0</td>\n",
       "      <td>1.524562</td>\n",
       "      <td>1.0</td>\n",
       "      <td>0.0</td>\n",
       "      <td>1.0</td>\n",
       "      <td>0.0</td>\n",
       "    </tr>\n",
       "    <tr>\n",
       "      <th>2</th>\n",
       "      <td>1.0</td>\n",
       "      <td>3.0</td>\n",
       "      <td>-0.278329</td>\n",
       "      <td>0.0</td>\n",
       "      <td>0.0</td>\n",
       "      <td>-0.603350</td>\n",
       "      <td>1.0</td>\n",
       "      <td>1.0</td>\n",
       "      <td>0.0</td>\n",
       "      <td>1.0</td>\n",
       "    </tr>\n",
       "    <tr>\n",
       "      <th>3</th>\n",
       "      <td>1.0</td>\n",
       "      <td>1.0</td>\n",
       "      <td>0.424079</td>\n",
       "      <td>1.0</td>\n",
       "      <td>0.0</td>\n",
       "      <td>0.913869</td>\n",
       "      <td>1.0</td>\n",
       "      <td>0.0</td>\n",
       "      <td>0.0</td>\n",
       "      <td>1.0</td>\n",
       "    </tr>\n",
       "    <tr>\n",
       "      <th>4</th>\n",
       "      <td>0.0</td>\n",
       "      <td>3.0</td>\n",
       "      <td>0.424079</td>\n",
       "      <td>0.0</td>\n",
       "      <td>0.0</td>\n",
       "      <td>-0.599151</td>\n",
       "      <td>0.0</td>\n",
       "      <td>1.0</td>\n",
       "      <td>0.0</td>\n",
       "      <td>1.0</td>\n",
       "    </tr>\n",
       "  </tbody>\n",
       "</table>\n",
       "</div>"
      ],
      "text/plain": [
       "   Survived  Pclass       Age  SibSp  Parch      Fare  Sex_female  Cabin_D  \\\n",
       "0       0.0     3.0 -0.590510    1.0    0.0 -0.626020         0.0      1.0   \n",
       "1       1.0     1.0  0.658215    1.0    0.0  1.524562         1.0      0.0   \n",
       "2       1.0     3.0 -0.278329    0.0    0.0 -0.603350         1.0      1.0   \n",
       "3       1.0     1.0  0.424079    1.0    0.0  0.913869         1.0      0.0   \n",
       "4       0.0     3.0  0.424079    0.0    0.0 -0.599151         0.0      1.0   \n",
       "\n",
       "   Embarked_C  Embarked_S  \n",
       "0         0.0         1.0  \n",
       "1         1.0         0.0  \n",
       "2         0.0         1.0  \n",
       "3         0.0         1.0  \n",
       "4         0.0         1.0  "
      ]
     },
     "execution_count": 10,
     "metadata": {},
     "output_type": "execute_result"
    }
   ],
   "source": [
    "# feature selection using correlation\n",
    "target_column = 'Survived'\n",
    "problem_type = 'Classification'\n",
    "target = data[target_column]\n",
    "to_drop = []\n",
    "processed_features = [target_column]\n",
    "for column in operations:\n",
    "    if any(data.columns == column['column_name']):\n",
    "        processed_features.append(column['column_name'])\n",
    "        if column['is_numeric']:\n",
    "            if problem_type == 'Classification':\n",
    "                #ANOVA\n",
    "                F, P = f_classif(data[[column['column_name'],target_column]], target)\n",
    "                if P[0] > 0.05:\n",
    "                    to_drop.append(column['column_name'])\n",
    "            else:\n",
    "                #Pearson\n",
    "                corr = data[column['column_name']].corr(target, method='pearson')\n",
    "                if corr < 0.05:\n",
    "                    to_drop.append(column['column_name'])\n",
    "        else:\n",
    "            if problem_type == 'Classification':\n",
    "                #Chi-Squared\n",
    "                F, P = chi2(data[[column['column_name'],target_column]], target)\n",
    "                if P[0] > 0.05:\n",
    "                    to_drop.append(column['column_name'])\n",
    "            else:\n",
    "                #ANOVA\n",
    "                F, P = f_classif(data[[target_column,column['column_name']]], data[column['column_name']])\n",
    "                if P[0] > 0.05:\n",
    "                    to_drop.append(column['column_name'])\n",
    "data_copy = data.copy()\n",
    "data_copy.drop(processed_features, axis = 1, inplace = True)\n",
    "for column in data_copy.columns:\n",
    "    if problem_type == 'Classification':\n",
    "        #Chi-Squared\n",
    "        F, P = chi2(data[[column,target_column]], target)\n",
    "        if P[0] > 0.05:\n",
    "            to_drop.append(column)\n",
    "    else:\n",
    "        #ANOVA\n",
    "        F, P = f_classif(data[[target_column,column]], data[column])\n",
    "data.drop(to_drop, axis = 1, inplace = True)\n",
    "data.head()"
   ]
  },
  {
   "cell_type": "markdown",
   "metadata": {},
   "source": [
    "### PCA"
   ]
  },
  {
   "cell_type": "markdown",
   "metadata": {},
   "source": [
    "#### PCA functions"
   ]
  },
  {
   "cell_type": "code",
   "execution_count": 11,
   "metadata": {},
   "outputs": [],
   "source": [
    "def featureNormalize(X):\n",
    "    mu = np.asarray(X).mean(axis=0)\n",
    "    Y = np.asarray(X - mu)\n",
    "    sigma = pow(np.var(Y, axis=0), 0.5)\n",
    "    normalized_X = Y / sigma\n",
    "\n",
    "    return normalized_X\n",
    "\n",
    "def pca(X):\n",
    "    cov = np.cov(X, rowvar=False)\n",
    "    u, s, _ = np.linalg.svd(cov)\n",
    "    return u\n",
    "\n",
    "def projectData(X, U):\n",
    "    Z = np.dot(np.asmatrix(X), np.asmatrix(U[:, :1]))\n",
    "    return Z"
   ]
  },
  {
   "cell_type": "markdown",
   "metadata": {},
   "source": [
    "#### Get strongly correlated pairs"
   ]
  },
  {
   "cell_type": "code",
   "execution_count": 13,
   "metadata": {},
   "outputs": [
    {
     "data": {
      "text/plain": [
       "[]"
      ]
     },
     "execution_count": 13,
     "metadata": {},
     "output_type": "execute_result"
    }
   ],
   "source": [
    "corr_matrix = data.corr().abs()\n",
    "upper = corr_matrix.where(np.triu(np.ones(corr_matrix.shape), k=1).astype(bool))\n",
    "strongly_correlated = []\n",
    "for column in upper.columns:\n",
    "    if column == target_column:\n",
    "        continue\n",
    "    for i, v in enumerate(upper[column]):\n",
    "        if upper[column][i] > 0.75 and upper.iloc[i].name != target_column:\n",
    "            first_numeric = False\n",
    "            second_numeric = False\n",
    "            for object in operations:\n",
    "                if object['column_name'] == column and object['is_numeric']:\n",
    "                    first_numeric = True\n",
    "                elif object['column_name'] == upper.iloc[i].name and object['is_numeric']:\n",
    "                    second_numeric = True\n",
    "            if first_numeric and second_numeric:    \n",
    "                strongly_correlated.append([column, upper.iloc[i].name])\n",
    "strongly_correlated"
   ]
  },
  {
   "cell_type": "markdown",
   "metadata": {},
   "source": [
    "#### Apply PCA on strongly correlated pairs"
   ]
  },
  {
   "cell_type": "code",
   "execution_count": 14,
   "metadata": {},
   "outputs": [
    {
     "data": {
      "text/html": [
       "<div>\n",
       "<style scoped>\n",
       "    .dataframe tbody tr th:only-of-type {\n",
       "        vertical-align: middle;\n",
       "    }\n",
       "\n",
       "    .dataframe tbody tr th {\n",
       "        vertical-align: top;\n",
       "    }\n",
       "\n",
       "    .dataframe thead th {\n",
       "        text-align: right;\n",
       "    }\n",
       "</style>\n",
       "<table border=\"1\" class=\"dataframe\">\n",
       "  <thead>\n",
       "    <tr style=\"text-align: right;\">\n",
       "      <th></th>\n",
       "      <th>Survived</th>\n",
       "      <th>Pclass</th>\n",
       "      <th>Age</th>\n",
       "      <th>SibSp</th>\n",
       "      <th>Parch</th>\n",
       "      <th>Fare</th>\n",
       "      <th>Sex_female</th>\n",
       "      <th>Cabin_D</th>\n",
       "      <th>Embarked_C</th>\n",
       "      <th>Embarked_S</th>\n",
       "    </tr>\n",
       "  </thead>\n",
       "  <tbody>\n",
       "    <tr>\n",
       "      <th>0</th>\n",
       "      <td>0.0</td>\n",
       "      <td>3.0</td>\n",
       "      <td>-0.590510</td>\n",
       "      <td>1.0</td>\n",
       "      <td>0.0</td>\n",
       "      <td>-0.626020</td>\n",
       "      <td>0.0</td>\n",
       "      <td>1.0</td>\n",
       "      <td>0.0</td>\n",
       "      <td>1.0</td>\n",
       "    </tr>\n",
       "    <tr>\n",
       "      <th>1</th>\n",
       "      <td>1.0</td>\n",
       "      <td>1.0</td>\n",
       "      <td>0.658215</td>\n",
       "      <td>1.0</td>\n",
       "      <td>0.0</td>\n",
       "      <td>1.524562</td>\n",
       "      <td>1.0</td>\n",
       "      <td>0.0</td>\n",
       "      <td>1.0</td>\n",
       "      <td>0.0</td>\n",
       "    </tr>\n",
       "    <tr>\n",
       "      <th>2</th>\n",
       "      <td>1.0</td>\n",
       "      <td>3.0</td>\n",
       "      <td>-0.278329</td>\n",
       "      <td>0.0</td>\n",
       "      <td>0.0</td>\n",
       "      <td>-0.603350</td>\n",
       "      <td>1.0</td>\n",
       "      <td>1.0</td>\n",
       "      <td>0.0</td>\n",
       "      <td>1.0</td>\n",
       "    </tr>\n",
       "    <tr>\n",
       "      <th>3</th>\n",
       "      <td>1.0</td>\n",
       "      <td>1.0</td>\n",
       "      <td>0.424079</td>\n",
       "      <td>1.0</td>\n",
       "      <td>0.0</td>\n",
       "      <td>0.913869</td>\n",
       "      <td>1.0</td>\n",
       "      <td>0.0</td>\n",
       "      <td>0.0</td>\n",
       "      <td>1.0</td>\n",
       "    </tr>\n",
       "    <tr>\n",
       "      <th>4</th>\n",
       "      <td>0.0</td>\n",
       "      <td>3.0</td>\n",
       "      <td>0.424079</td>\n",
       "      <td>0.0</td>\n",
       "      <td>0.0</td>\n",
       "      <td>-0.599151</td>\n",
       "      <td>0.0</td>\n",
       "      <td>1.0</td>\n",
       "      <td>0.0</td>\n",
       "      <td>1.0</td>\n",
       "    </tr>\n",
       "  </tbody>\n",
       "</table>\n",
       "</div>"
      ],
      "text/plain": [
       "   Survived  Pclass       Age  SibSp  Parch      Fare  Sex_female  Cabin_D  \\\n",
       "0       0.0     3.0 -0.590510    1.0    0.0 -0.626020         0.0      1.0   \n",
       "1       1.0     1.0  0.658215    1.0    0.0  1.524562         1.0      0.0   \n",
       "2       1.0     3.0 -0.278329    0.0    0.0 -0.603350         1.0      1.0   \n",
       "3       1.0     1.0  0.424079    1.0    0.0  0.913869         1.0      0.0   \n",
       "4       0.0     3.0  0.424079    0.0    0.0 -0.599151         0.0      1.0   \n",
       "\n",
       "   Embarked_C  Embarked_S  \n",
       "0         0.0         1.0  \n",
       "1         1.0         0.0  \n",
       "2         0.0         1.0  \n",
       "3         0.0         1.0  \n",
       "4         0.0         1.0  "
      ]
     },
     "execution_count": 14,
     "metadata": {},
     "output_type": "execute_result"
    }
   ],
   "source": [
    "for X, Y in strongly_correlated:\n",
    "    if X not in data.columns or Y not in data.columns:\n",
    "        continue\n",
    "    new_name = X + '_' + Y\n",
    "    pca_input = data[[X,Y]]\n",
    "    pca_input = featureNormalize(pca_input)\n",
    "    U = pca(pca_input)\n",
    "    Z = projectData(pca_input, U)\n",
    "    Z = pd.DataFrame(Z)\n",
    "    data.drop([X,Y], axis = 1, inplace = True)\n",
    "    data[new_name] = Z\n",
    "data.head()"
   ]
  },
  {
   "cell_type": "code",
   "execution_count": 15,
   "metadata": {},
   "outputs": [
    {
     "data": {
      "image/png": "[encoded data removed]",
      "text/plain": [
       "<Figure size 1440x1224 with 2 Axes>"
      ]
     },
     "metadata": {
      "needs_background": "light"
     },
     "output_type": "display_data"
    }
   ],
   "source": [
    "plt.figure(figsize=(20, 17))\n",
    "matrix = np.triu(data.corr())\n",
    "sns.heatmap(data.corr(), annot=True,linewidth=.8, mask=matrix, cmap=\"rocket\");"
   ]
  },
  {
   "cell_type": "code",
   "execution_count": 16,
   "metadata": {},
   "outputs": [
    {
     "name": "stdout",
     "output_type": "stream",
     "text": [
      "(660, 9) (165, 9) (660,) (165,)\n"
     ]
    }
   ],
   "source": [
    "X_train, X_test, y_train, y_test = train_test_split(\n",
    "    data.loc[:, data.columns != 'Survived'], data[\"Survived\"], test_size=0.20, random_state=0)\n",
    "print(X_train.shape, X_test.shape, y_train.shape, y_test.shape)"
   ]
  },
  {
   "cell_type": "code",
   "execution_count": 17,
   "metadata": {},
   "outputs": [
    {
     "name": "stdout",
     "output_type": "stream",
     "text": [
      "0.793939393939394\n",
      "              precision    recall  f1-score   support\n",
      "\n",
      "         0.0       0.79      0.89      0.84        98\n",
      "         1.0       0.80      0.66      0.72        67\n",
      "\n",
      "    accuracy                           0.79       165\n",
      "   macro avg       0.80      0.77      0.78       165\n",
      "weighted avg       0.79      0.79      0.79       165\n",
      "\n",
      "0.7722357599756321\n"
     ]
    }
   ],
   "source": [
    "clf = MLPClassifier(solver='lbfgs', alpha=0.1,\n",
    "                                            hidden_layer_sizes=(5,2),\n",
    "                                            max_iter=90000,activation='tanh',random_state=0)\n",
    "clf.fit(X_train, y_train)\n",
    "y_pred = clf.predict(X_test)\n",
    "print(accuracy_score(y_test, y_pred))\n",
    "print(classification_report(y_test, y_pred))\n",
    "print(roc_auc_score(y_test, y_pred))"
   ]
  }
 ],
 "metadata": {
  "kernelspec": {
   "display_name": "Python 3.8.8 ('base')",
   "language": "python",
   "name": "python3"
  },
  "language_info": {
   "codemirror_mode": {
    "name": "ipython",
    "version": 3
   },
   "file_extension": ".py",
   "mimetype": "text/x-python",
   "name": "python",
   "nbconvert_exporter": "python",
   "pygments_lexer": "ipython3",
   "version": "3.8.8"
  },
  "orig_nbformat": 4,
  "vscode": {
   "interpreter": {
    "hash": "7b9bf3d753fefe854781e52229fcc2b6d37fd5cec0eed166290fc2ac2cd3389d"
   }
  }
 },
 "nbformat": 4,
 "nbformat_minor": 2
}
