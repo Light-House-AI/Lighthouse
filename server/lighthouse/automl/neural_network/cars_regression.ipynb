{
 "cells": [
  {
   "cell_type": "code",
   "execution_count": null,
   "metadata": {},
   "outputs": [],
   "source": [
    "import numpy as np\n",
    "import pandas as pd\n",
    "from network_generator import NetworkGenerator\n",
    "from sklearn.preprocessing import StandardScaler, normalize\n",
    "from sklearn.datasets import load_wine\n",
    "from sklearn.model_selection import train_test_split \n",
    "from sklearn.metrics import accuracy_score, mean_squared_error, classification_report, roc_auc_score, mean_squared_log_error\n",
    "from keras.utils import np_utils\n",
    "from save_load_model import import_model, export_model\n",
    "\n",
    "data = pd.read_csv('../../../../datasets/cleaned_datasets/cleaned_cars.csv')\n",
    "\n",
    "hyperparameters = {\n",
    "    # Obligatory\n",
    "    \"type\": \"Regression\", # \"Regression\"\n",
    "    \"predicted\": \"price\", # \"Price\"\n",
    "    # Optional\n",
    "    # Each element in the list is a trial\n",
    "    \"number_of_layers\": [5, 6, 7, 8, 9],\n",
    "    \"maximum_neurons_per_layer\": [32, 16, 8], # Number of neurons in the middle layer\n",
    "    \"learning_rate\": [0.001, 0.01, 0.1],\n",
    "    \"batch_size\": [1, 4, 8], # [1] is for stochastic Gradient Descent else is mini-batch\n",
    "}\n",
    "\n",
    "network_generator = NetworkGenerator(data, hyperparameters)\n",
    "network, config = network_generator.get_best_network()\n",
    "\n",
    "X_train, X_test, y_train, y_test = train_test_split(\n",
    "    data.loc[:, data.columns != 'price'], data[\"price\"], test_size=0.20)\n",
    "\n",
    "y_pred = network.predict(np.asarray(X_test))\n",
    "print(config, mean_squared_log_error(np.asarray(y_test), y_pred.round()))\n",
    "\n",
    "export_model(\"cars_model.pkl\", network)\n",
    "\n",
    "loaded_network = import_model(\"cars_model.pkl\")\n",
    "# After you load the model, use it like the line below:\n",
    "y_pred = loaded_network.predict(np.asarray(X_test))\n",
    "\n",
    "print(mean_squared_log_error(np.asarray(y_test), y_pred.round()))"
   ]
  }
 ],
 "metadata": {
  "kernelspec": {
   "display_name": "Python 3.8.8 ('base')",
   "language": "python",
   "name": "python3"
  },
  "language_info": {
   "name": "python",
   "version": "3.8.8"
  },
  "orig_nbformat": 4,
  "vscode": {
   "interpreter": {
    "hash": "7b9bf3d753fefe854781e52229fcc2b6d37fd5cec0eed166290fc2ac2cd3389d"
   }
  }
 },
 "nbformat": 4,
 "nbformat_minor": 2
}
