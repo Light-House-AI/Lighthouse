{
 "cells": [
  {
   "cell_type": "code",
   "execution_count": 19,
   "metadata": {},
   "outputs": [],
   "source": [
    "import numpy as np\n",
    "import pandas as pd\n",
    "from math import floor, ceil\n",
    "from sklearn.preprocessing import StandardScaler, normalize\n",
    "from sklearn.model_selection import train_test_split \n",
    "from sklearn.metrics import accuracy_score, mean_squared_error, classification_report, roc_auc_score, mean_squared_log_error\n",
    "from sklearn.neural_network import MLPRegressor\n",
    "from keras.utils import np_utils\n",
    "from neural_network import NeuralNetwork\n",
    "from fc_layer import FCLayer\n",
    "from activation_layer import ActivationLayer\n",
    "from activation_functions import sigmoid, sigmoid_derivative, identity, identity_derivative, tanh, tanh_derivative, relu, relu_derivative\n",
    "from loss_functions import mse, mse_derivative\n",
    "from ray import tune\n",
    "from ray.tune.schedulers import AsyncHyperBandScheduler"
   ]
  },
  {
   "cell_type": "code",
   "execution_count": 14,
   "metadata": {},
   "outputs": [],
   "source": [
    "training_data = pd.read_csv('cleaned_cars.csv')\n",
    "\n",
    "for col in ['year', 'mileage', 'tax', 'mpg']:\n",
    "    normalized = normalize([np.asarray(training_data[col])])\n",
    "    training_data.drop(col, axis=1, inplace=True)\n",
    "    training_data[col] = normalized[0]"
   ]
  },
  {
   "cell_type": "code",
   "execution_count": 15,
   "metadata": {},
   "outputs": [],
   "source": [
    "X_train, X_test, y_train, y_test = train_test_split(\n",
    "    training_data.loc[:, training_data.columns != 'price'], training_data[\"price\"], test_size=0.20)\n",
    "\n",
    "X_train = np.array(X_train)\n",
    "X_test = np.array(X_test)\n",
    "y_train = np.array(y_train)\n",
    "y_test = np.array(y_test)"
   ]
  },
  {
   "cell_type": "code",
   "execution_count": 22,
   "metadata": {},
   "outputs": [
    {
     "name": "stdout",
     "output_type": "stream",
     "text": [
      "0.14602243477313698\n"
     ]
    }
   ],
   "source": [
    "clf = MLPRegressor(solver='lbfgs', alpha=0.1, hidden_layer_sizes=(5, 10, 3), max_iter=1000, activation='tanh', random_state=0)\n",
    "clf.fit(X_train, y_train)\n",
    "y_pred_sklearn = clf.predict(X_test)\n",
    "print(mean_squared_log_error(y_test, y_pred_sklearn))"
   ]
  },
  {
   "cell_type": "code",
   "execution_count": 23,
   "metadata": {},
   "outputs": [
    {
     "name": "stdout",
     "output_type": "stream",
     "text": [
      "[39995 12995 12595 ... 22971 29000 23850] (1447,)\n",
      "[[25249.13278936]\n",
      " [25249.13278936]\n",
      " [25249.13278936]\n",
      " ...\n",
      " [25249.13278936]\n",
      " [25249.13278936]\n",
      " [25249.13278936]] (1447, 1)\n",
      "0.2034644891024033\n"
     ]
    }
   ],
   "source": [
    "\n",
    "network = NeuralNetwork()\n",
    "network.add(FCLayer(X_train.shape[1], 5))\n",
    "network.add(ActivationLayer(tanh, tanh_derivative))\n",
    "network.add(FCLayer(5, 10))\n",
    "network.add(ActivationLayer(tanh, tanh_derivative))\n",
    "network.add(FCLayer(10, 3))\n",
    "network.add(ActivationLayer(tanh, tanh_derivative))\n",
    "network.add(FCLayer(3, 1))\n",
    "network.use(mse, mse_derivative)\n",
    "network.fit(X_train, y_train, epochs=1000, learning_rate=0.1)\n",
    "y_pred = np.array(network.predict(X_test))\n",
    "print(y_test, y_test.shape)\n",
    "print(y_pred, y_pred.shape)\n",
    "print(mean_squared_log_error(y_test, y_pred))"
   ]
  }
 ],
 "metadata": {
  "interpreter": {
   "hash": "7b9bf3d753fefe854781e52229fcc2b6d37fd5cec0eed166290fc2ac2cd3389d"
  },
  "kernelspec": {
   "display_name": "Python 3.8.8 ('base')",
   "language": "python",
   "name": "python3"
  },
  "language_info": {
   "codemirror_mode": {
    "name": "ipython",
    "version": 3
   },
   "file_extension": ".py",
   "mimetype": "text/x-python",
   "name": "python",
   "nbconvert_exporter": "python",
   "pygments_lexer": "ipython3",
   "version": "3.8.8"
  },
  "orig_nbformat": 4
 },
 "nbformat": 4,
 "nbformat_minor": 2
}
